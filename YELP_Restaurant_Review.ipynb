{
  "nbformat": 4,
  "nbformat_minor": 0,
  "metadata": {
    "colab": {
      "name": "AynurBarkanBugraGizem.ipynb",
      "provenance": [],
      "collapsed_sections": [],
      "toc_visible": true
    },
    "kernelspec": {
      "name": "python3",
      "display_name": "Python 3"
    }
  },
  "cells": [
    {
      "cell_type": "markdown",
      "metadata": {
        "id": "t7n30sUaisVN",
        "colab_type": "text"
      },
      "source": [
        "This Sentiment Analysis project is done by:\n",
        "\n",
        "Gizem Aydın - 21034  /Aynur Süne - 21041 / Bugra Kaya - 21159   / Barkan Var - 21067\n",
        "\n",
        "\n",
        "##**Reading the Data**\n",
        "\n",
        "The data is read  from a file inside the drive into a Pandas DataFrame. Each row contains a sentence and the label of the sentence, whether it is positive or negative."
      ]
    },
    {
      "cell_type": "code",
      "metadata": {
        "id": "4KcBODWOimLX",
        "colab_type": "code",
        "colab": {}
      },
      "source": [
        "#Get the lines from the file\n",
        "yelp_file = open('yelp_labelled.txt', 'r')\n",
        "yelp_lines = yelp_file.readlines()\n",
        "yelp_file.close()"
      ],
      "execution_count": 0,
      "outputs": []
    },
    {
      "cell_type": "code",
      "metadata": {
        "id": "rA25EOK_l6WF",
        "colab_type": "code",
        "colab": {}
      },
      "source": [
        "#Construct the DataFrame\n",
        "import pandas as pd\n",
        "yelp = pd.DataFrame(data=None, index=None, columns=['Sentence','Value'], dtype=None, copy=False)"
      ],
      "execution_count": 0,
      "outputs": []
    },
    {
      "cell_type": "code",
      "metadata": {
        "id": "bIB73svRlEAm",
        "colab_type": "code",
        "colab": {}
      },
      "source": [
        "#Convert each line to an appropriate row\n",
        "for line in yelp_lines:\n",
        "  values = line.split(\"\\t\")\n",
        "  row = pd.Series([values[0],values[1][:1]],index=['Sentence', 'Value'])\n",
        "  yelp = yelp.append(row, ignore_index = True)\n",
        "  \n",
        " "
      ],
      "execution_count": 0,
      "outputs": []
    },
    {
      "cell_type": "code",
      "metadata": {
        "id": "qg2vnN_Pmz2v",
        "colab_type": "code",
        "outputId": "387856f0-16c5-4acd-e8a4-bec4b8400c5e",
        "colab": {
          "base_uri": "https://localhost:8080/",
          "height": 197
        }
      },
      "source": [
        "#Head of the DF\n",
        "yelp.head()"
      ],
      "execution_count": 0,
      "outputs": [
        {
          "output_type": "execute_result",
          "data": {
            "text/html": [
              "<div>\n",
              "<style scoped>\n",
              "    .dataframe tbody tr th:only-of-type {\n",
              "        vertical-align: middle;\n",
              "    }\n",
              "\n",
              "    .dataframe tbody tr th {\n",
              "        vertical-align: top;\n",
              "    }\n",
              "\n",
              "    .dataframe thead th {\n",
              "        text-align: right;\n",
              "    }\n",
              "</style>\n",
              "<table border=\"1\" class=\"dataframe\">\n",
              "  <thead>\n",
              "    <tr style=\"text-align: right;\">\n",
              "      <th></th>\n",
              "      <th>Sentence</th>\n",
              "      <th>Value</th>\n",
              "    </tr>\n",
              "  </thead>\n",
              "  <tbody>\n",
              "    <tr>\n",
              "      <th>0</th>\n",
              "      <td>Wow... Loved this place.</td>\n",
              "      <td>1</td>\n",
              "    </tr>\n",
              "    <tr>\n",
              "      <th>1</th>\n",
              "      <td>Crust is not good.</td>\n",
              "      <td>0</td>\n",
              "    </tr>\n",
              "    <tr>\n",
              "      <th>2</th>\n",
              "      <td>Not tasty and the texture was just nasty.</td>\n",
              "      <td>0</td>\n",
              "    </tr>\n",
              "    <tr>\n",
              "      <th>3</th>\n",
              "      <td>Stopped by during the late May bank holiday of...</td>\n",
              "      <td>1</td>\n",
              "    </tr>\n",
              "    <tr>\n",
              "      <th>4</th>\n",
              "      <td>The selection on the menu was great and so wer...</td>\n",
              "      <td>1</td>\n",
              "    </tr>\n",
              "  </tbody>\n",
              "</table>\n",
              "</div>"
            ],
            "text/plain": [
              "                                            Sentence Value\n",
              "0                           Wow... Loved this place.     1\n",
              "1                                 Crust is not good.     0\n",
              "2          Not tasty and the texture was just nasty.     0\n",
              "3  Stopped by during the late May bank holiday of...     1\n",
              "4  The selection on the menu was great and so wer...     1"
            ]
          },
          "metadata": {
            "tags": []
          },
          "execution_count": 4
        }
      ]
    },
    {
      "cell_type": "code",
      "metadata": {
        "id": "IzsSy6XZP0ce",
        "colab_type": "code",
        "colab": {}
      },
      "source": [
        "#Divide train and validation data\n",
        "from sklearn.model_selection import train_test_split\n",
        "\n",
        "X = yelp.drop(['Value'],axis=1)\n",
        "Y = yelp['Value']\n",
        "\n",
        "x_train, x_valid, y_train, y_valid = train_test_split(X, Y, test_size=0.2, random_state=1)"
      ],
      "execution_count": 0,
      "outputs": []
    },
    {
      "cell_type": "markdown",
      "metadata": {
        "id": "H6m0qxqLjpeq",
        "colab_type": "text"
      },
      "source": [
        "## **Data Preprocessing**\n",
        "\n",
        "We have to transform our data to a format eligible for analysing. \n",
        "\n",
        "\n",
        "1.   Case Conversion: Convert every letter to lowercase.\n",
        "2.   Remove Punctuation\n",
        "3.   Remove Stop Words: Removes the commonly used words which has no sentimental meaning like a, an, the.\n",
        "4.   Lemmatization: Deals with removal of inflectional endings only and to return the base or dictionary form of a word, which is known as the lemma.\n",
        "5.   Spelling Correction\n",
        "6.   Part of Speech Tagging: Classify and tag each word as verb, noun, etc.\n",
        "7.   Remove Numbers\n",
        "\n",
        "Below, these are implemented as functions, and there is the myDataProcessing() function which performs all operations mentioned above.\n",
        "\n"
      ]
    },
    {
      "cell_type": "code",
      "metadata": {
        "id": "7xSV7ygGk-yU",
        "colab_type": "code",
        "outputId": "723d1e2d-6371-4ef0-c0a2-e91b64fdaa4e",
        "colab": {
          "base_uri": "https://localhost:8080/",
          "height": 194
        }
      },
      "source": [
        "#Import, install and download the necessary libraries.\n",
        "!pip install pyspellchecker \n",
        "\n",
        "import nltk\n",
        "from nltk.corpus import stopwords\n",
        "from spellchecker import SpellChecker\n",
        "import string\n",
        "\n",
        "nltk.download('stopwords')\n",
        "nltk.download('wordnet')\n",
        "nltk.download('averaged_perceptron_tagger')\n"
      ],
      "execution_count": 0,
      "outputs": [
        {
          "output_type": "stream",
          "text": [
            "Requirement already satisfied: pyspellchecker in /usr/local/lib/python3.6/dist-packages (0.3.0)\n",
            "[nltk_data] Downloading package stopwords to /root/nltk_data...\n",
            "[nltk_data]   Package stopwords is already up-to-date!\n",
            "[nltk_data] Downloading package wordnet to /root/nltk_data...\n",
            "[nltk_data]   Package wordnet is already up-to-date!\n",
            "[nltk_data] Downloading package averaged_perceptron_tagger to\n",
            "[nltk_data]     /root/nltk_data...\n",
            "[nltk_data]   Package averaged_perceptron_tagger is already up-to-\n",
            "[nltk_data]       date!\n"
          ],
          "name": "stdout"
        },
        {
          "output_type": "execute_result",
          "data": {
            "text/plain": [
              "True"
            ]
          },
          "metadata": {
            "tags": []
          },
          "execution_count": 6
        }
      ]
    },
    {
      "cell_type": "code",
      "metadata": {
        "id": "EiYPR4aFvPww",
        "colab_type": "code",
        "colab": {}
      },
      "source": [
        "#Get the list of stop words from NLTK\n",
        "stopWords = set(stopwords.words('english'))"
      ],
      "execution_count": 0,
      "outputs": []
    },
    {
      "cell_type": "code",
      "metadata": {
        "id": "CsrSiDYKEc96",
        "colab_type": "code",
        "outputId": "250bcce8-1cb5-4868-b83c-517ec0474c1b",
        "colab": {
          "base_uri": "https://localhost:8080/",
          "height": 34
        }
      },
      "source": [
        "#Let us see if the word 'also' is a member of stop words\n",
        "\"also\" in stopWords "
      ],
      "execution_count": 0,
      "outputs": [
        {
          "output_type": "execute_result",
          "data": {
            "text/plain": [
              "False"
            ]
          },
          "metadata": {
            "tags": []
          },
          "execution_count": 8
        }
      ]
    },
    {
      "cell_type": "code",
      "metadata": {
        "id": "GZ4OebOtnPOX",
        "colab_type": "code",
        "colab": {}
      },
      "source": [
        "#Input: Lowercase string without punctuation\n",
        "#Output: Array of words\n",
        "#Deletes the stopwords except \"not\". 'Not' is essentially one of the stop words in our corpus. However, we believe that it has an importance on deciding the content of a comment.\n",
        "def RSW(myString):\n",
        "  stringArray = myString.split()\n",
        "  newArray = []\n",
        "  for word in stringArray:\n",
        "    if word not in stopWords or word == \"not\":\n",
        "      newArray.append(word)\n",
        "  return newArray"
      ],
      "execution_count": 0,
      "outputs": []
    },
    {
      "cell_type": "code",
      "metadata": {
        "id": "OKjPPI1Bve1G",
        "colab_type": "code",
        "colab": {}
      },
      "source": [
        "#Input: Array of words\n",
        "#Output: Array of words\n",
        "#Corrects the misspelled words\n",
        "def mySpellChecker(stringArray):\n",
        "  spell = SpellChecker()\n",
        "  newArray = []\n",
        "  for word in stringArray:\n",
        "    misspelled = spell.unknown(word)\n",
        "    if not misspelled:\n",
        "      newArray.append(word)\n",
        "    else:\n",
        "      newArray.append(spell.correction(word))\n",
        "      \n",
        "  return newArray"
      ],
      "execution_count": 0,
      "outputs": []
    },
    {
      "cell_type": "code",
      "metadata": {
        "id": "ErZ9sT7Rx-eY",
        "colab_type": "code",
        "colab": {}
      },
      "source": [
        "#Input: Lowercase string without punctuation\n",
        "#Output: Array of words\n",
        "#Removes the stop words, checks the spelling, corrects if necessary, lemmatizes.\n",
        "def RSWandSCandLM(myString):\n",
        "  spell = SpellChecker()\n",
        "  wordnet_lemmatizer = nltk.WordNetLemmatizer()\n",
        "  stringArray = myString.split()\n",
        "  newArray = []\n",
        "  for word in stringArray:\n",
        "    if word not in stopWords or word == \"not\":\n",
        "      misspelled = spell.unknown(word)\n",
        "      if not misspelled:\n",
        "        newArray.append(wordnet_lemmatizer.lemmatize(word))\n",
        "      else:\n",
        "        wordCorrected = spell.correction(word)\n",
        "        newArray.append(wordnet_lemmatizer.lemmatize(wordCorrected))\n",
        "  return newArray\n",
        "\n"
      ],
      "execution_count": 0,
      "outputs": []
    },
    {
      "cell_type": "code",
      "metadata": {
        "id": "n1Ye28Rs0oiF",
        "colab_type": "code",
        "colab": {}
      },
      "source": [
        "#Prequisite: Function RSWandSCandLM()\n",
        "#Input: DataFrame storing the sentence in column \"Sentence\"\n",
        "#Output: DataFrame\n",
        "#This is the final preprocession function: lowercase+ strip punctuation+spellcheck+remove stop words+lemmatize+add part of speech tags+remove numbers\n",
        "#tags: https://www.nltk.org/book/ch05.html\n",
        "def myDataPreprocessing(myDataFrame):\n",
        "  translator = str.maketrans('', '', string.punctuation)\n",
        "  translator2 = str.maketrans(string.ascii_letters, string.ascii_letters, string.digits)\n",
        "  wordnet_lemmatizer = nltk.WordNetLemmatizer()\n",
        "  \n",
        "  myDataFrame['POStags'] = [None] * myDataFrame.shape[0]\n",
        "\n",
        "  for index, row in myDataFrame.iterrows():\n",
        "    row.Sentence = row.Sentence.lower()\n",
        "    row.Sentence = row.Sentence.translate(translator)\n",
        "    row.Sentence = row.Sentence.translate(translator2)\n",
        "    row.Sentence = RSWandSCandLM(row.Sentence)\n",
        "    row.POStags = nltk.pos_tag(row.Sentence)\n"
      ],
      "execution_count": 0,
      "outputs": []
    },
    {
      "cell_type": "code",
      "metadata": {
        "id": "tLfSqL-828T4",
        "colab_type": "code",
        "outputId": "eaab6725-2f58-43e9-f9bd-d2887dd6945d",
        "colab": {
          "base_uri": "https://localhost:8080/",
          "height": 123
        }
      },
      "source": [
        "#Apply preprocessing\n",
        "myDataPreprocessing(x_train)"
      ],
      "execution_count": 0,
      "outputs": [
        {
          "output_type": "stream",
          "text": [
            "/usr/local/lib/python3.6/dist-packages/ipykernel_launcher.py:6: SettingWithCopyWarning: \n",
            "A value is trying to be set on a copy of a slice from a DataFrame.\n",
            "Try using .loc[row_indexer,col_indexer] = value instead\n",
            "\n",
            "See the caveats in the documentation: http://pandas.pydata.org/pandas-docs/stable/indexing.html#indexing-view-versus-copy\n",
            "  \n"
          ],
          "name": "stderr"
        }
      ]
    },
    {
      "cell_type": "code",
      "metadata": {
        "id": "NAcYU6sS5n6w",
        "colab_type": "code",
        "outputId": "68eff031-a87d-434e-8660-f31346dc84ec",
        "colab": {
          "base_uri": "https://localhost:8080/",
          "height": 197
        }
      },
      "source": [
        "#Show head of data\n",
        "x_train.head()"
      ],
      "execution_count": 0,
      "outputs": [
        {
          "output_type": "execute_result",
          "data": {
            "text/html": [
              "<div>\n",
              "<style scoped>\n",
              "    .dataframe tbody tr th:only-of-type {\n",
              "        vertical-align: middle;\n",
              "    }\n",
              "\n",
              "    .dataframe tbody tr th {\n",
              "        vertical-align: top;\n",
              "    }\n",
              "\n",
              "    .dataframe thead th {\n",
              "        text-align: right;\n",
              "    }\n",
              "</style>\n",
              "<table border=\"1\" class=\"dataframe\">\n",
              "  <thead>\n",
              "    <tr style=\"text-align: right;\">\n",
              "      <th></th>\n",
              "      <th>Sentence</th>\n",
              "      <th>POStags</th>\n",
              "    </tr>\n",
              "  </thead>\n",
              "  <tbody>\n",
              "    <tr>\n",
              "      <th>382</th>\n",
              "      <td>[service, outshining, definitely, recommend, h...</td>\n",
              "      <td>[(service, NN), (outshining, VBG), (definitely...</td>\n",
              "    </tr>\n",
              "    <tr>\n",
              "      <th>994</th>\n",
              "      <td>[cant, tell, disappointed]</td>\n",
              "      <td>[(cant, NN), (tell, NN), (disappointed, VBD)]</td>\n",
              "    </tr>\n",
              "    <tr>\n",
              "      <th>982</th>\n",
              "      <td>[food, average]</td>\n",
              "      <td>[(food, NN), (average, NN)]</td>\n",
              "    </tr>\n",
              "    <tr>\n",
              "      <th>47</th>\n",
              "      <td>[burger, good, beef, cooked, right]</td>\n",
              "      <td>[(burger, NN), (good, JJ), (beef, NN), (cooked...</td>\n",
              "    </tr>\n",
              "    <tr>\n",
              "      <th>521</th>\n",
              "      <td>[havent, gone, go]</td>\n",
              "      <td>[(havent, NN), (gone, VBN), (go, VB)]</td>\n",
              "    </tr>\n",
              "  </tbody>\n",
              "</table>\n",
              "</div>"
            ],
            "text/plain": [
              "                                              Sentence  \\\n",
              "382  [service, outshining, definitely, recommend, h...   \n",
              "994                         [cant, tell, disappointed]   \n",
              "982                                    [food, average]   \n",
              "47                 [burger, good, beef, cooked, right]   \n",
              "521                                 [havent, gone, go]   \n",
              "\n",
              "                                               POStags  \n",
              "382  [(service, NN), (outshining, VBG), (definitely...  \n",
              "994      [(cant, NN), (tell, NN), (disappointed, VBD)]  \n",
              "982                        [(food, NN), (average, NN)]  \n",
              "47   [(burger, NN), (good, JJ), (beef, NN), (cooked...  \n",
              "521              [(havent, NN), (gone, VBN), (go, VB)]  "
            ]
          },
          "metadata": {
            "tags": []
          },
          "execution_count": 14
        }
      ]
    },
    {
      "cell_type": "markdown",
      "metadata": {
        "id": "vP96QwQlJKXK",
        "colab_type": "text"
      },
      "source": [
        "**Sentiment techniques can be classified into 2:**\n",
        "\n",
        "\n",
        "---\n",
        "\n",
        "\n",
        "*a)Lexicon Based Approach*\n",
        "\n",
        "It is based on finding the opinion lexicon for calculating the sentiment for a given text.  It deals with counting the number of positive and negative words in the text. If the text consists of more positive words, the text is assigned a positive score. If there are more number of negative words the text is assigned a negative score. If the text contains equal number of positive and negative words then it is assigned a neutral score. To determine whether a word is positive or negative an opinion lexicon (positive and negative opinion words) is built. We used *'sentiword'* as our corpus. We developed some rule-based approaches particular for this dataset. \n",
        "\n",
        "b) *Machine Learning Approach *\n",
        "\n",
        "Here, two sets of documents are needed: training and a test set. A supervised learning classifier uses the training set to learn and train itself with respect to the differentiating attributes of text, and the performance of the classifier is tested using test dataset. Several machine learning algorithms are used for classification of text.\n",
        "\n",
        "\n",
        "For Reference: (Anuja P Jain ; Padma Dandannavar, Application of Machine Learning Techniques to Sentiment Analysis  ) https://ieeexplore.ieee.org/document/7912076\n",
        "\n"
      ]
    },
    {
      "cell_type": "markdown",
      "metadata": {
        "id": "HImDV51qeT-C",
        "colab_type": "text"
      },
      "source": [
        "## **Lexicon Based Approach**"
      ]
    },
    {
      "cell_type": "code",
      "metadata": {
        "id": "8NX3FVmhdEtL",
        "colab_type": "code",
        "outputId": "f5cc2a56-e7ba-4756-96df-e89c81619673",
        "colab": {
          "base_uri": "https://localhost:8080/",
          "height": 247
        }
      },
      "source": [
        "from nltk.corpus import sentiwordnet as swn\n",
        "from sklearn.naive_bayes import MultinomialNB\n",
        "import sklearn.metrics as ms\n",
        "from sklearn.metrics import f1_score\n",
        "from sklearn.metrics import confusion_matrix\n",
        "from sklearn.svm import LinearSVC\n",
        "from nltk import sent_tokenize, word_tokenize, pos_tag\n",
        "from nltk.stem import WordNetLemmatizer\n",
        "from nltk.corpus import wordnet as wn\n",
        "from spellchecker import SpellChecker\n",
        "import string\n",
        "import pandas as pd\n",
        "import numpy as np\n",
        "import matplotlib.pyplot as plt\n",
        "import seaborn as sns\n",
        "from nltk.corpus import stopwords\n",
        "import nltk\n",
        "from sklearn.model_selection import train_test_split\n",
        "nltk.download('sentiwordnet')\n",
        "nltk.download('wordnet')\n",
        "nltk.download('punkt')\n",
        "nltk.download('averaged_perceptron_tagger')\n",
        "nltk.download('stopwords')"
      ],
      "execution_count": 0,
      "outputs": [
        {
          "output_type": "stream",
          "text": [
            "[nltk_data] Downloading package sentiwordnet to /root/nltk_data...\n",
            "[nltk_data]   Package sentiwordnet is already up-to-date!\n",
            "[nltk_data] Downloading package wordnet to /root/nltk_data...\n",
            "[nltk_data]   Package wordnet is already up-to-date!\n",
            "[nltk_data] Downloading package punkt to /root/nltk_data...\n",
            "[nltk_data]   Package punkt is already up-to-date!\n",
            "[nltk_data] Downloading package averaged_perceptron_tagger to\n",
            "[nltk_data]     /root/nltk_data...\n",
            "[nltk_data]   Package averaged_perceptron_tagger is already up-to-\n",
            "[nltk_data]       date!\n",
            "[nltk_data] Downloading package stopwords to /root/nltk_data...\n",
            "[nltk_data]   Package stopwords is already up-to-date!\n"
          ],
          "name": "stdout"
        },
        {
          "output_type": "execute_result",
          "data": {
            "text/plain": [
              "True"
            ]
          },
          "metadata": {
            "tags": []
          },
          "execution_count": 15
        }
      ]
    },
    {
      "cell_type": "code",
      "metadata": {
        "id": "82aZCBb9dEtG",
        "colab_type": "code",
        "colab": {}
      },
      "source": [
        "def penn_to_wn(tag):\n",
        "\n",
        "    if tag.startswith('J'):\n",
        "        return wn.ADJ\n",
        "    elif tag.startswith('N'):\n",
        "        return wn.NOUN\n",
        "    elif tag.startswith('R'):\n",
        "        return wn.ADV\n",
        "    elif tag.startswith('V'):\n",
        "        return wn.VERB\n",
        "    elif tag.startswith('IN'):\n",
        "        return \"i\"\n",
        "    return None\n",
        "\n",
        "def swn_polarity(text): #a rule based function for extracting the polarity of the words\n",
        "\n",
        "    sentiment = 0.0\n",
        "    tokens_count = 0\n",
        "\n",
        "    text = text.replace(\"n't\", \" not\") #converts acronyms to 'not'\n",
        "    text = text.replace(\"/\", \" \") \n",
        "    text = text.replace(\"as well\", \"\")\n",
        "    text = text.replace(\"at best\", \"atbest\")\n",
        "    raw_sentences = sent_tokenize(text)\n",
        "    for raw_sentence in raw_sentences:\n",
        "        tagged_sentence = pos_tag(word_tokenize(raw_sentence.lower()))\n",
        "        arr = []\n",
        "        for i in tagged_sentence:\n",
        "            if len(RSW(i[0])) != 0:\n",
        "                arr.append(i)\n",
        "        tagged_sentence = arr\n",
        " \n",
        "        for word, tag in tagged_sentence:\n",
        "            if word.isdigit(): continue\n",
        "            \n",
        "            wn_tag = penn_to_wn(tag)\n",
        "            if word in dictionary:\n",
        "#                 print(word,sentiment)\n",
        "                sentiment += dictionary[word]\n",
        "             \n",
        "            elif (wn_tag == 'v' and word[-3:] == \"ing\" and len(wn.synsets(word)) != 0 ): \n",
        "                i = 0\n",
        "                found = 0\n",
        "                lst = wn.synsets(word)\n",
        "                while i < len(lst) and found == 0:\n",
        "                    if word in lst[i].name() and \".s.\" in lst[i].name():\n",
        "                        swn_synset = swn.senti_synset(lst[i].name())\n",
        "                        found = 1\n",
        "                    else:\n",
        "                        i += 1\n",
        "                if found == 0 and lst != []: #if the equivalent of the word is not found in sentiword\n",
        "                    synset = lst[0]\n",
        "                    swn_synset = swn.senti_synset(synset.name())\n",
        "                    arr = []\n",
        "                    tot = 0\n",
        "                    for i in lst:\n",
        "                        synset = swn.senti_synset(i.name())\n",
        "                        tot += synset.pos_score() - synset.neg_score()\n",
        "                    tot = tot / len(wn.synsets(word))\n",
        "#                     print(word,sentiment)  \n",
        "                    sentiment += tot\n",
        "                    continue\n",
        "#                 print(word,sentiment)   \n",
        "                sentiment += swn_synset.pos_score() - swn_synset.neg_score()\n",
        "                \n",
        "                tokens_count += 1\n",
        "            \n",
        "            elif wn_tag == 'i' : continue\n",
        "            \n",
        "            else: \n",
        "                # if the word is not a verb\n",
        "                if len(wn.synsets(word)) == 0: \n",
        "                    continue   \n",
        "                    \n",
        "                #Here, we find the averages of each word's positive and negative scores in order to get a better result \n",
        "                arr = []\n",
        "                tot = 0\n",
        "                for i in wn.synsets(word):\n",
        "                    synset = swn.senti_synset(i.name())\n",
        "                    tot += synset.pos_score() - synset.neg_score()\n",
        "                tot = tot / len(wn.synsets(word))\n",
        "#                 print(word,tot)\n",
        "#                 print(word,sentiment)\n",
        "                sentiment += tot\n",
        "                \n",
        "                tokens_count += 1\n",
        " \n",
        "    # judgment call ? Default to positive or negative\n",
        "    if not tokens_count:\n",
        "        return 0\n",
        " \n",
        "    # sum greater than 0 => positive sentiment\n",
        "    if sentiment >= 0:\n",
        "        return 1\n",
        " \n",
        "    # negative sentiment\n",
        "    return 0"
      ],
      "execution_count": 0,
      "outputs": []
    },
    {
      "cell_type": "code",
      "metadata": {
        "id": "rUZn1iN3eeAH",
        "colab_type": "code",
        "colab": {}
      },
      "source": [
        "dictionary = {\n",
        "        \"else\" : -0.75,\n",
        "        \"better\" : -0.5,\n",
        "        \"generous\": 0.4,\n",
        "        \"other\": -0.5,\n",
        "        \"others\": -0.5,\n",
        "        \"another\": -0.4,\n",
        "        \"blah\": -0.5,\n",
        "        \"vegetarian\": 0,\n",
        "        \"atbest\": -0.5,\n",
        "        \"time\": 0,\n",
        "        \"rubber\": -0.2,\n",
        "        \"tasteless\": -0.3\n",
        "    }"
      ],
      "execution_count": 0,
      "outputs": []
    },
    {
      "cell_type": "code",
      "metadata": {
        "id": "WdevbFm0gB6-",
        "colab_type": "code",
        "colab": {}
      },
      "source": [
        "#Predict on validation set\n",
        "preds_lex = []\n",
        "for row in x_valid['Sentence']:\n",
        "    preds = swn_polarity(row)\n",
        "    preds_lex.append(preds)"
      ],
      "execution_count": 0,
      "outputs": []
    },
    {
      "cell_type": "markdown",
      "metadata": {
        "id": "lRY_NzwHRhwW",
        "colab_type": "text"
      },
      "source": [
        "**A Small Visualization Using Wordcloud**\n",
        "\n",
        "A Wordcloud (or Tag cloud) is a visual representation of text data. It displays a list of words, the importance of each beeing shown with font size or color. This format is useful for quickly perceiving the most prominent terms.\n",
        "\n",
        "We wanted to add this figure to make our project more lively. We recognized some words like 'amazing, good, nice, wonderful' in positive labeled sentences and 'disappointed, terrible, won't' for negative labelled sentences. Thus, it gave us an initial understanding before going on with training and testing our data."
      ]
    },
    {
      "cell_type": "markdown",
      "metadata": {
        "id": "IgmHNJnMBPiX",
        "colab_type": "text"
      },
      "source": [
        "## **Feature Extraction**"
      ]
    },
    {
      "cell_type": "code",
      "metadata": {
        "id": "mnd14uDlw1Gc",
        "colab_type": "code",
        "outputId": "941f77d9-12ed-4050-9660-2f7f9d4f40f3",
        "colab": {
          "base_uri": "https://localhost:8080/",
          "height": 1283
        }
      },
      "source": [
        "import nltk\n",
        "from nltk.corpus import stopwords\n",
        "from nltk.classify import SklearnClassifier\n",
        "\n",
        "from wordcloud import WordCloud,STOPWORDS\n",
        "import matplotlib.pyplot as plt\n",
        "%matplotlib inline\n",
        "\n",
        "from subprocess import check_output\n",
        "\n",
        "train_pos = yelp[ yelp['Value'] == 1]\n",
        "train_neg = yelp[ yelp['Value'] == 0]\n",
        "\n",
        "\n",
        "def wordcloud_draw(data, color = 'black'):\n",
        "    words = ' '.join(data)\n",
        "    wordcloud = WordCloud(stopwords=STOPWORDS,\n",
        "                      background_color=color,\n",
        "                      width=2500,\n",
        "                      height=2000\n",
        "                     ).generate(str(x_train['Sentence']))\n",
        "    plt.figure(1,figsize=(13, 13))\n",
        "    plt.imshow(wordcloud)\n",
        "    plt.axis('off')\n",
        "    plt.show()\n",
        "    \n",
        "print(\"Positive words\")\n",
        "wordcloud_draw(train_pos,'white')\n",
        "print(\"Negative words\")\n",
        "wordcloud_draw(train_neg)"
      ],
      "execution_count": 0,
      "outputs": [
        {
          "output_type": "stream",
          "text": [
            "Positive words\n"
          ],
          "name": "stdout"
        },
        {
          "output_type": "display_data",
          "data": {
            "image/png": "[encoded data removed]",
            "text/plain": [
              "<matplotlib.figure.Figure at 0x7f7b1c0aa908>"
            ]
          },
          "metadata": {
            "tags": []
          }
        },
        {
          "output_type": "stream",
          "text": [
            "Negative words\n"
          ],
          "name": "stdout"
        },
        {
          "output_type": "display_data",
          "data": {
            "image/png": "[encoded data removed]",
            "text/plain": [
              "<matplotlib.figure.Figure at 0x7f7afc2ec6d8>"
            ]
          },
          "metadata": {
            "tags": []
          }
        }
      ]
    },
    {
      "cell_type": "markdown",
      "metadata": {
        "id": "F6Ztj9Q-8E5F",
        "colab_type": "text"
      },
      "source": [
        "Now, we skip to the ML Approach. We have to represent the document in a way that we can train models and obtain predictions."
      ]
    },
    {
      "cell_type": "markdown",
      "metadata": {
        "id": "SE57OlGz0EIY",
        "colab_type": "text"
      },
      "source": [
        "### **1. Bag-Of-Words Representation**\n",
        "\n",
        "We will consider each sentence as a set of independent words. \n",
        "\n",
        "1. We will form a vocabulary by extracting unique words used. These words will be the columns of our training data.\n",
        "2. Every training sample will be represented by a row. For every sample, we will iterate through our vocabulary and count the occurences of each word.\n",
        "\n",
        "So (i,j)^th entry in our data will correspond to the count of word j in i^th sample.\n",
        "\n",
        "\n",
        "\n"
      ]
    },
    {
      "cell_type": "code",
      "metadata": {
        "id": "GA_VUMA1Bj0Q",
        "colab_type": "code",
        "colab": {}
      },
      "source": [
        "#Get the distinct words from the training data.\n",
        "vocab = set()\n",
        "\n",
        "for index, row in x_train.iterrows():\n",
        "    vocab |= set(row.Sentence)"
      ],
      "execution_count": 0,
      "outputs": []
    },
    {
      "cell_type": "code",
      "metadata": {
        "id": "QSA767AtGg0n",
        "colab_type": "code",
        "outputId": "15a36f2e-db47-4b59-8da9-e284cf40ad39",
        "colab": {
          "base_uri": "https://localhost:8080/",
          "height": 34
        }
      },
      "source": [
        "#How many words are there in the vocabulary\n",
        "len(vocab)"
      ],
      "execution_count": 0,
      "outputs": [
        {
          "output_type": "execute_result",
          "data": {
            "text/plain": [
              "1577"
            ]
          },
          "metadata": {
            "tags": []
          },
          "execution_count": 21
        }
      ]
    },
    {
      "cell_type": "code",
      "metadata": {
        "id": "1Re7S5QR4Fj3",
        "colab_type": "code",
        "colab": {}
      },
      "source": [
        "#Input: A DataFrame storing the sentences in its 'Sentence' column.\n",
        "#Output: Bag of Words Representation of the data\n",
        "#Compute the Bag of Words Representation\n",
        "def ComputeBOW(data):\n",
        "  bow = pd.DataFrame(data=None, index=None, columns=vocab, dtype=None, copy=False)\n",
        "  \n",
        "  for index, row in data.iterrows():\n",
        "    counter = []\n",
        "  \n",
        "    for word in vocab:\n",
        "      counter.append(row.Sentence.count(word))\n",
        "    \n",
        "    newrow = pd.Series(counter, index = list(vocab))\n",
        "\n",
        "    bow = bow.append(newrow, ignore_index = True)\n",
        "    \n",
        "  return bow"
      ],
      "execution_count": 0,
      "outputs": []
    },
    {
      "cell_type": "code",
      "metadata": {
        "id": "pm1H_wK34cWr",
        "colab_type": "code",
        "colab": {}
      },
      "source": [
        "#Compute the Bag of Words representation of the train data.\n",
        "bow = ComputeBOW(x_train)"
      ],
      "execution_count": 0,
      "outputs": []
    },
    {
      "cell_type": "code",
      "metadata": {
        "id": "YUXt3BJE92bT",
        "colab_type": "code",
        "outputId": "096d84b4-dc23-4ce1-953e-6073e8074059",
        "colab": {
          "base_uri": "https://localhost:8080/",
          "height": 226
        }
      },
      "source": [
        "#Look at our data\n",
        "bow.head()"
      ],
      "execution_count": 0,
      "outputs": [
        {
          "output_type": "execute_result",
          "data": {
            "text/html": [
              "<div>\n",
              "<style scoped>\n",
              "    .dataframe tbody tr th:only-of-type {\n",
              "        vertical-align: middle;\n",
              "    }\n",
              "\n",
              "    .dataframe tbody tr th {\n",
              "        vertical-align: top;\n",
              "    }\n",
              "\n",
              "    .dataframe thead th {\n",
              "        text-align: right;\n",
              "    }\n",
              "</style>\n",
              "<table border=\"1\" class=\"dataframe\">\n",
              "  <thead>\n",
              "    <tr style=\"text-align: right;\">\n",
              "      <th></th>\n",
              "      <th>guy</th>\n",
              "      <th>crawfish</th>\n",
              "      <th>quick</th>\n",
              "      <th>behind</th>\n",
              "      <th>roasted</th>\n",
              "      <th>baklava</th>\n",
              "      <th>kept</th>\n",
              "      <th>reminds</th>\n",
              "      <th>drenched</th>\n",
              "      <th>later</th>\n",
              "      <th>...</th>\n",
              "      <th>gringo</th>\n",
              "      <th>watered</th>\n",
              "      <th>nyc</th>\n",
              "      <th>ever</th>\n",
              "      <th>jalapeno</th>\n",
              "      <th>stranger</th>\n",
              "      <th>tucson</th>\n",
              "      <th>shrimp</th>\n",
              "      <th>whenever</th>\n",
              "      <th>greasy</th>\n",
              "    </tr>\n",
              "  </thead>\n",
              "  <tbody>\n",
              "    <tr>\n",
              "      <th>0</th>\n",
              "      <td>0</td>\n",
              "      <td>0</td>\n",
              "      <td>0</td>\n",
              "      <td>0</td>\n",
              "      <td>0</td>\n",
              "      <td>0</td>\n",
              "      <td>0</td>\n",
              "      <td>0</td>\n",
              "      <td>0</td>\n",
              "      <td>0</td>\n",
              "      <td>...</td>\n",
              "      <td>0</td>\n",
              "      <td>0</td>\n",
              "      <td>0</td>\n",
              "      <td>0</td>\n",
              "      <td>0</td>\n",
              "      <td>0</td>\n",
              "      <td>0</td>\n",
              "      <td>0</td>\n",
              "      <td>0</td>\n",
              "      <td>0</td>\n",
              "    </tr>\n",
              "    <tr>\n",
              "      <th>1</th>\n",
              "      <td>0</td>\n",
              "      <td>0</td>\n",
              "      <td>0</td>\n",
              "      <td>0</td>\n",
              "      <td>0</td>\n",
              "      <td>0</td>\n",
              "      <td>0</td>\n",
              "      <td>0</td>\n",
              "      <td>0</td>\n",
              "      <td>0</td>\n",
              "      <td>...</td>\n",
              "      <td>0</td>\n",
              "      <td>0</td>\n",
              "      <td>0</td>\n",
              "      <td>0</td>\n",
              "      <td>0</td>\n",
              "      <td>0</td>\n",
              "      <td>0</td>\n",
              "      <td>0</td>\n",
              "      <td>0</td>\n",
              "      <td>0</td>\n",
              "    </tr>\n",
              "    <tr>\n",
              "      <th>2</th>\n",
              "      <td>0</td>\n",
              "      <td>0</td>\n",
              "      <td>0</td>\n",
              "      <td>0</td>\n",
              "      <td>0</td>\n",
              "      <td>0</td>\n",
              "      <td>0</td>\n",
              "      <td>0</td>\n",
              "      <td>0</td>\n",
              "      <td>0</td>\n",
              "      <td>...</td>\n",
              "      <td>0</td>\n",
              "      <td>0</td>\n",
              "      <td>0</td>\n",
              "      <td>0</td>\n",
              "      <td>0</td>\n",
              "      <td>0</td>\n",
              "      <td>0</td>\n",
              "      <td>0</td>\n",
              "      <td>0</td>\n",
              "      <td>0</td>\n",
              "    </tr>\n",
              "    <tr>\n",
              "      <th>3</th>\n",
              "      <td>0</td>\n",
              "      <td>0</td>\n",
              "      <td>0</td>\n",
              "      <td>0</td>\n",
              "      <td>0</td>\n",
              "      <td>0</td>\n",
              "      <td>0</td>\n",
              "      <td>0</td>\n",
              "      <td>0</td>\n",
              "      <td>0</td>\n",
              "      <td>...</td>\n",
              "      <td>0</td>\n",
              "      <td>0</td>\n",
              "      <td>0</td>\n",
              "      <td>0</td>\n",
              "      <td>0</td>\n",
              "      <td>0</td>\n",
              "      <td>0</td>\n",
              "      <td>0</td>\n",
              "      <td>0</td>\n",
              "      <td>0</td>\n",
              "    </tr>\n",
              "    <tr>\n",
              "      <th>4</th>\n",
              "      <td>0</td>\n",
              "      <td>0</td>\n",
              "      <td>0</td>\n",
              "      <td>0</td>\n",
              "      <td>0</td>\n",
              "      <td>0</td>\n",
              "      <td>0</td>\n",
              "      <td>0</td>\n",
              "      <td>0</td>\n",
              "      <td>0</td>\n",
              "      <td>...</td>\n",
              "      <td>0</td>\n",
              "      <td>0</td>\n",
              "      <td>0</td>\n",
              "      <td>0</td>\n",
              "      <td>0</td>\n",
              "      <td>0</td>\n",
              "      <td>0</td>\n",
              "      <td>0</td>\n",
              "      <td>0</td>\n",
              "      <td>0</td>\n",
              "    </tr>\n",
              "  </tbody>\n",
              "</table>\n",
              "<p>5 rows × 1577 columns</p>\n",
              "</div>"
            ],
            "text/plain": [
              "  guy crawfish quick behind roasted baklava kept reminds drenched later  \\\n",
              "0   0        0     0      0       0       0    0       0        0     0   \n",
              "1   0        0     0      0       0       0    0       0        0     0   \n",
              "2   0        0     0      0       0       0    0       0        0     0   \n",
              "3   0        0     0      0       0       0    0       0        0     0   \n",
              "4   0        0     0      0       0       0    0       0        0     0   \n",
              "\n",
              "   ...   gringo watered nyc ever jalapeno stranger tucson shrimp whenever  \\\n",
              "0  ...        0       0   0    0        0        0      0      0        0   \n",
              "1  ...        0       0   0    0        0        0      0      0        0   \n",
              "2  ...        0       0   0    0        0        0      0      0        0   \n",
              "3  ...        0       0   0    0        0        0      0      0        0   \n",
              "4  ...        0       0   0    0        0        0      0      0        0   \n",
              "\n",
              "  greasy  \n",
              "0      0  \n",
              "1      0  \n",
              "2      0  \n",
              "3      0  \n",
              "4      0  \n",
              "\n",
              "[5 rows x 1577 columns]"
            ]
          },
          "metadata": {
            "tags": []
          },
          "execution_count": 24
        }
      ]
    },
    {
      "cell_type": "code",
      "metadata": {
        "id": "4eFY00O_vaj3",
        "colab_type": "code",
        "outputId": "c25cd9b2-46ed-4376-a0fa-6ae6f65ba650",
        "colab": {
          "base_uri": "https://localhost:8080/",
          "height": 34
        }
      },
      "source": [
        "import numpy as py\n",
        "print(\"Unique values in our data: \", py.unique(bow))"
      ],
      "execution_count": 0,
      "outputs": [
        {
          "output_type": "stream",
          "text": [
            "Unique values in our data:  [0 1 2 3 4]\n"
          ],
          "name": "stdout"
        }
      ]
    },
    {
      "cell_type": "markdown",
      "metadata": {
        "id": "kaw67Kl1-c9F",
        "colab_type": "text"
      },
      "source": [
        "This means, the maximum number of words repeated in a single sample is 4.\n",
        "\n",
        "\n",
        "\n"
      ]
    },
    {
      "cell_type": "markdown",
      "metadata": {
        "id": "S980s0ke0bGA",
        "colab_type": "text"
      },
      "source": [
        "### **2. TF-IDF Features**"
      ]
    },
    {
      "cell_type": "markdown",
      "metadata": {
        "id": "VWbUEYuW-t6i",
        "colab_type": "text"
      },
      "source": [
        "**Term Frequency:** Number of occurences of term t in document d is defined as the number of times that t occurs in d. \n",
        "\n",
        "In the previous example, we saw that some terms occur once and some might occur 2, 3 or 4 times. If we use this representation, we would be treating like having more words and relevance of the result is direcly proportional. As if, having a word 2 times is 2 times relevant. To avoid this, we will check the Log Frequency of weight of the term. \n",
        "\n",
        "**Log Frequency Weight of a Term=** \n",
        "$1 + \\log_{10}TermFrequency$ \\\\\n",
        "If the TermFrequency is not 0, and 0 otherwise.\n",
        "\n",
        "Moreover, rare words are more important. For example, we remove the stop words as they are extremely common. Inverse Document Frequency can capture this. IDF is the frequency of the number of documents a word occurs in. We will again take the logarithm.\n",
        "\n",
        "**IDF= ** $\\log_{10} (N \\div TermFrequency)$ \\\\\n",
        "\n",
        "To benefit from both approached, we use TF-IDF, which is the product of log frequency weight of a word and IDF.\n",
        "\n",
        "**TF-IDF= ** $(1 + \\log_{10}TermFrequency) \\cdot  (\\log_{10} (N \\div TermFrequency))$ \\\\\n",
        "\n",
        "We have the term\\word frequencies computed in the Bag of Words approach, we can use it to calculate the TF-IDF feature."
      ]
    },
    {
      "cell_type": "code",
      "metadata": {
        "id": "xA896_NB2cYM",
        "colab_type": "code",
        "colab": {}
      },
      "source": [
        "import math\n",
        "\n",
        "#Input: The Bag of Words Model\n",
        "#Output: Log Frequency Weights of the BOW Model\n",
        "#Takes the log of each row if they are >0\n",
        "def LogFrequencies(DataFrame):\n",
        "  new = pd.DataFrame(data=None, index=None, columns=vocab, dtype=float, copy=False)\n",
        "  for index, row in DataFrame.iterrows():\n",
        "    newrow = []\n",
        "    for value in row:\n",
        "      if int(value) != 0:\n",
        "        newrow.append(float(1 + math.log10(float(value))))\n",
        "      else: \n",
        "        newrow.append(0)\n",
        "    newrow = pd.Series(newrow, index = list(vocab))\n",
        "    new = new.append(newrow, ignore_index = True)\n",
        "  \n",
        "  return new"
      ],
      "execution_count": 0,
      "outputs": []
    },
    {
      "cell_type": "code",
      "metadata": {
        "id": "LwCPr4O7Fc6y",
        "colab_type": "code",
        "colab": {}
      },
      "source": [
        "#Input: The Bag of Words Model\n",
        "#Output: Inverse Document Frequencies\n",
        "#Takes the log of each row if they are >0\n",
        "def IDF(DataFrame):\n",
        "  df = DataFrame.astype(bool).sum(axis=0) #document frequency\n",
        "  numDocs = int(DataFrame.shape[1])\n",
        "  idf = []\n",
        "  for elt in df:\n",
        "    if(elt != 0):\n",
        "      idf.append(math.log10(numDocs/elt))\n",
        "    else:\n",
        "      idf.append(0)\n",
        "  return idf"
      ],
      "execution_count": 0,
      "outputs": []
    },
    {
      "cell_type": "code",
      "metadata": {
        "id": "wSVizq_zF8AX",
        "colab_type": "code",
        "colab": {}
      },
      "source": [
        "import numpy as py\n",
        "\n",
        "#Input: Outputs of LogFrequencies and IDF functions\n",
        "#Output: TFIDF feature\n",
        "#Multiplies every row of LogFrequencies with IDF\n",
        "def TFIDF(logF,idf):\n",
        "  tfidf = pd.DataFrame(data=None, index=None, columns=vocab, dtype=None, copy=False)\n",
        "  \n",
        "  for index, row in logF.iterrows():\n",
        "    newrow = py.multiply(row,idf)\n",
        "    \n",
        "    newrow = pd.Series(newrow, index = list(vocab))\n",
        "    tfidf = tfidf.append(newrow, ignore_index = True)\n",
        "  return tfidf"
      ],
      "execution_count": 0,
      "outputs": []
    },
    {
      "cell_type": "code",
      "metadata": {
        "id": "XiKZhCO8PVRi",
        "colab_type": "code",
        "colab": {}
      },
      "source": [
        "#Compute the TFI-DF Features\n",
        "tfidf = TFIDF(LogFrequencies(bow),IDF(bow))"
      ],
      "execution_count": 0,
      "outputs": []
    },
    {
      "cell_type": "code",
      "metadata": {
        "id": "LqKxJC_ZTCQV",
        "colab_type": "code",
        "outputId": "34d7d364-f803-448e-f448-706d120997e3",
        "colab": {
          "base_uri": "https://localhost:8080/",
          "height": 226
        }
      },
      "source": [
        "tfidf.head()\n"
      ],
      "execution_count": 0,
      "outputs": [
        {
          "output_type": "execute_result",
          "data": {
            "text/html": [
              "<div>\n",
              "<style scoped>\n",
              "    .dataframe tbody tr th:only-of-type {\n",
              "        vertical-align: middle;\n",
              "    }\n",
              "\n",
              "    .dataframe tbody tr th {\n",
              "        vertical-align: top;\n",
              "    }\n",
              "\n",
              "    .dataframe thead th {\n",
              "        text-align: right;\n",
              "    }\n",
              "</style>\n",
              "<table border=\"1\" class=\"dataframe\">\n",
              "  <thead>\n",
              "    <tr style=\"text-align: right;\">\n",
              "      <th></th>\n",
              "      <th>guy</th>\n",
              "      <th>crawfish</th>\n",
              "      <th>quick</th>\n",
              "      <th>behind</th>\n",
              "      <th>roasted</th>\n",
              "      <th>baklava</th>\n",
              "      <th>kept</th>\n",
              "      <th>reminds</th>\n",
              "      <th>drenched</th>\n",
              "      <th>later</th>\n",
              "      <th>...</th>\n",
              "      <th>gringo</th>\n",
              "      <th>watered</th>\n",
              "      <th>nyc</th>\n",
              "      <th>ever</th>\n",
              "      <th>jalapeno</th>\n",
              "      <th>stranger</th>\n",
              "      <th>tucson</th>\n",
              "      <th>shrimp</th>\n",
              "      <th>whenever</th>\n",
              "      <th>greasy</th>\n",
              "    </tr>\n",
              "  </thead>\n",
              "  <tbody>\n",
              "    <tr>\n",
              "      <th>0</th>\n",
              "      <td>0.0</td>\n",
              "      <td>0.0</td>\n",
              "      <td>0.0</td>\n",
              "      <td>0.0</td>\n",
              "      <td>0.0</td>\n",
              "      <td>0.0</td>\n",
              "      <td>0.0</td>\n",
              "      <td>0.0</td>\n",
              "      <td>0.0</td>\n",
              "      <td>0.0</td>\n",
              "      <td>...</td>\n",
              "      <td>0.0</td>\n",
              "      <td>0.0</td>\n",
              "      <td>0.0</td>\n",
              "      <td>0.0</td>\n",
              "      <td>0.0</td>\n",
              "      <td>0.0</td>\n",
              "      <td>0.0</td>\n",
              "      <td>0.0</td>\n",
              "      <td>0.0</td>\n",
              "      <td>0.0</td>\n",
              "    </tr>\n",
              "    <tr>\n",
              "      <th>1</th>\n",
              "      <td>0.0</td>\n",
              "      <td>0.0</td>\n",
              "      <td>0.0</td>\n",
              "      <td>0.0</td>\n",
              "      <td>0.0</td>\n",
              "      <td>0.0</td>\n",
              "      <td>0.0</td>\n",
              "      <td>0.0</td>\n",
              "      <td>0.0</td>\n",
              "      <td>0.0</td>\n",
              "      <td>...</td>\n",
              "      <td>0.0</td>\n",
              "      <td>0.0</td>\n",
              "      <td>0.0</td>\n",
              "      <td>0.0</td>\n",
              "      <td>0.0</td>\n",
              "      <td>0.0</td>\n",
              "      <td>0.0</td>\n",
              "      <td>0.0</td>\n",
              "      <td>0.0</td>\n",
              "      <td>0.0</td>\n",
              "    </tr>\n",
              "    <tr>\n",
              "      <th>2</th>\n",
              "      <td>0.0</td>\n",
              "      <td>0.0</td>\n",
              "      <td>0.0</td>\n",
              "      <td>0.0</td>\n",
              "      <td>0.0</td>\n",
              "      <td>0.0</td>\n",
              "      <td>0.0</td>\n",
              "      <td>0.0</td>\n",
              "      <td>0.0</td>\n",
              "      <td>0.0</td>\n",
              "      <td>...</td>\n",
              "      <td>0.0</td>\n",
              "      <td>0.0</td>\n",
              "      <td>0.0</td>\n",
              "      <td>0.0</td>\n",
              "      <td>0.0</td>\n",
              "      <td>0.0</td>\n",
              "      <td>0.0</td>\n",
              "      <td>0.0</td>\n",
              "      <td>0.0</td>\n",
              "      <td>0.0</td>\n",
              "    </tr>\n",
              "    <tr>\n",
              "      <th>3</th>\n",
              "      <td>0.0</td>\n",
              "      <td>0.0</td>\n",
              "      <td>0.0</td>\n",
              "      <td>0.0</td>\n",
              "      <td>0.0</td>\n",
              "      <td>0.0</td>\n",
              "      <td>0.0</td>\n",
              "      <td>0.0</td>\n",
              "      <td>0.0</td>\n",
              "      <td>0.0</td>\n",
              "      <td>...</td>\n",
              "      <td>0.0</td>\n",
              "      <td>0.0</td>\n",
              "      <td>0.0</td>\n",
              "      <td>0.0</td>\n",
              "      <td>0.0</td>\n",
              "      <td>0.0</td>\n",
              "      <td>0.0</td>\n",
              "      <td>0.0</td>\n",
              "      <td>0.0</td>\n",
              "      <td>0.0</td>\n",
              "    </tr>\n",
              "    <tr>\n",
              "      <th>4</th>\n",
              "      <td>0.0</td>\n",
              "      <td>0.0</td>\n",
              "      <td>0.0</td>\n",
              "      <td>0.0</td>\n",
              "      <td>0.0</td>\n",
              "      <td>0.0</td>\n",
              "      <td>0.0</td>\n",
              "      <td>0.0</td>\n",
              "      <td>0.0</td>\n",
              "      <td>0.0</td>\n",
              "      <td>...</td>\n",
              "      <td>0.0</td>\n",
              "      <td>0.0</td>\n",
              "      <td>0.0</td>\n",
              "      <td>0.0</td>\n",
              "      <td>0.0</td>\n",
              "      <td>0.0</td>\n",
              "      <td>0.0</td>\n",
              "      <td>0.0</td>\n",
              "      <td>0.0</td>\n",
              "      <td>0.0</td>\n",
              "    </tr>\n",
              "  </tbody>\n",
              "</table>\n",
              "<p>5 rows × 1577 columns</p>\n",
              "</div>"
            ],
            "text/plain": [
              "   guy  crawfish  quick  behind  roasted  baklava  kept  reminds  drenched  \\\n",
              "0  0.0       0.0    0.0     0.0      0.0      0.0   0.0      0.0       0.0   \n",
              "1  0.0       0.0    0.0     0.0      0.0      0.0   0.0      0.0       0.0   \n",
              "2  0.0       0.0    0.0     0.0      0.0      0.0   0.0      0.0       0.0   \n",
              "3  0.0       0.0    0.0     0.0      0.0      0.0   0.0      0.0       0.0   \n",
              "4  0.0       0.0    0.0     0.0      0.0      0.0   0.0      0.0       0.0   \n",
              "\n",
              "   later   ...    gringo  watered  nyc  ever  jalapeno  stranger  tucson  \\\n",
              "0    0.0   ...       0.0      0.0  0.0   0.0       0.0       0.0     0.0   \n",
              "1    0.0   ...       0.0      0.0  0.0   0.0       0.0       0.0     0.0   \n",
              "2    0.0   ...       0.0      0.0  0.0   0.0       0.0       0.0     0.0   \n",
              "3    0.0   ...       0.0      0.0  0.0   0.0       0.0       0.0     0.0   \n",
              "4    0.0   ...       0.0      0.0  0.0   0.0       0.0       0.0     0.0   \n",
              "\n",
              "   shrimp  whenever  greasy  \n",
              "0     0.0       0.0     0.0  \n",
              "1     0.0       0.0     0.0  \n",
              "2     0.0       0.0     0.0  \n",
              "3     0.0       0.0     0.0  \n",
              "4     0.0       0.0     0.0  \n",
              "\n",
              "[5 rows x 1577 columns]"
            ]
          },
          "metadata": {
            "tags": []
          },
          "execution_count": 30
        }
      ]
    },
    {
      "cell_type": "markdown",
      "metadata": {
        "id": "4e2UyiYSvrs3",
        "colab_type": "text"
      },
      "source": [
        "### **3. Word2Vec**"
      ]
    },
    {
      "cell_type": "markdown",
      "metadata": {
        "id": "0KhBsjhg8ivz",
        "colab_type": "text"
      },
      "source": [
        "Word2vec is a two-layer neural network that processes text. It's input is the sentences we have, and it outputs a feature vector for each word in that sentence. These vectors are called neural word embeddings. The key characteristic of this approach is that similar words have similar feature vectors. The size of the feature vectors can be specified, and we use the default size, which is 100. The process of extracting the feature vectors can be parallelized by increasing the *workers* parameter. The similarity of the words are calculated using cosine similarity."
      ]
    },
    {
      "cell_type": "code",
      "metadata": {
        "id": "dI1ZNQ6tzGBi",
        "colab_type": "code",
        "colab": {}
      },
      "source": [
        "import gensim"
      ],
      "execution_count": 0,
      "outputs": []
    },
    {
      "cell_type": "code",
      "metadata": {
        "id": "55zlIeB7F22g",
        "colab_type": "code",
        "outputId": "53245f4f-497d-42ec-cb85-0c73bda84969",
        "colab": {
          "base_uri": "https://localhost:8080/",
          "height": 197
        }
      },
      "source": [
        "yelpProcessed = yelp\n",
        "myDataPreprocessing(yelpProcessed)\n",
        "yelpProcessed.head()"
      ],
      "execution_count": 0,
      "outputs": [
        {
          "output_type": "execute_result",
          "data": {
            "text/html": [
              "<div>\n",
              "<style scoped>\n",
              "    .dataframe tbody tr th:only-of-type {\n",
              "        vertical-align: middle;\n",
              "    }\n",
              "\n",
              "    .dataframe tbody tr th {\n",
              "        vertical-align: top;\n",
              "    }\n",
              "\n",
              "    .dataframe thead th {\n",
              "        text-align: right;\n",
              "    }\n",
              "</style>\n",
              "<table border=\"1\" class=\"dataframe\">\n",
              "  <thead>\n",
              "    <tr style=\"text-align: right;\">\n",
              "      <th></th>\n",
              "      <th>Sentence</th>\n",
              "      <th>Value</th>\n",
              "      <th>POStags</th>\n",
              "    </tr>\n",
              "  </thead>\n",
              "  <tbody>\n",
              "    <tr>\n",
              "      <th>0</th>\n",
              "      <td>[wow, loved, place]</td>\n",
              "      <td>1</td>\n",
              "      <td>[(wow, NN), (loved, VBD), (place, NN)]</td>\n",
              "    </tr>\n",
              "    <tr>\n",
              "      <th>1</th>\n",
              "      <td>[crust, not, good]</td>\n",
              "      <td>0</td>\n",
              "      <td>[(crust, NN), (not, RB), (good, JJ)]</td>\n",
              "    </tr>\n",
              "    <tr>\n",
              "      <th>2</th>\n",
              "      <td>[not, tasty, texture, nasty]</td>\n",
              "      <td>0</td>\n",
              "      <td>[(not, RB), (tasty, JJ), (texture, NN), (nasty...</td>\n",
              "    </tr>\n",
              "    <tr>\n",
              "      <th>3</th>\n",
              "      <td>[stopped, late, may, bank, holiday, rick, stev...</td>\n",
              "      <td>1</td>\n",
              "      <td>[(stopped, VBN), (late, JJ), (may, MD), (bank,...</td>\n",
              "    </tr>\n",
              "    <tr>\n",
              "      <th>4</th>\n",
              "      <td>[selection, menu, great, price]</td>\n",
              "      <td>1</td>\n",
              "      <td>[(selection, NN), (menu, RB), (great, JJ), (pr...</td>\n",
              "    </tr>\n",
              "  </tbody>\n",
              "</table>\n",
              "</div>"
            ],
            "text/plain": [
              "                                            Sentence Value  \\\n",
              "0                                [wow, loved, place]     1   \n",
              "1                                 [crust, not, good]     0   \n",
              "2                       [not, tasty, texture, nasty]     0   \n",
              "3  [stopped, late, may, bank, holiday, rick, stev...     1   \n",
              "4                    [selection, menu, great, price]     1   \n",
              "\n",
              "                                             POStags  \n",
              "0             [(wow, NN), (loved, VBD), (place, NN)]  \n",
              "1               [(crust, NN), (not, RB), (good, JJ)]  \n",
              "2  [(not, RB), (tasty, JJ), (texture, NN), (nasty...  \n",
              "3  [(stopped, VBN), (late, JJ), (may, MD), (bank,...  \n",
              "4  [(selection, NN), (menu, RB), (great, JJ), (pr...  "
            ]
          },
          "metadata": {
            "tags": []
          },
          "execution_count": 32
        }
      ]
    },
    {
      "cell_type": "code",
      "metadata": {
        "id": "L4WGk2lZG5TS",
        "colab_type": "code",
        "colab": {}
      },
      "source": [
        "#build the model\n",
        "#word_vectors store the neural word embedding for each word\n",
        "model_w2v = gensim.models.Word2Vec(yelpProcessed['Sentence'], size=100, window=5, min_count=1, workers=4)\n",
        "word_vectors = model_w2v.wv"
      ],
      "execution_count": 0,
      "outputs": []
    },
    {
      "cell_type": "code",
      "metadata": {
        "id": "hCwoqF3BHnBB",
        "colab_type": "code",
        "outputId": "c322ca60-0aa5-442f-e56a-b45bdf3c29f9",
        "colab": {
          "base_uri": "https://localhost:8080/",
          "height": 478
        }
      },
      "source": [
        "#As an example, this is the neural word embedding of the word \"good\"\n",
        "model_w2v.wv['good']"
      ],
      "execution_count": 0,
      "outputs": [
        {
          "output_type": "execute_result",
          "data": {
            "text/plain": [
              "array([-3.0263052e-03, -2.8488752e-03,  2.1943231e-03, -3.5245493e-03,\n",
              "       -7.9440523e-04,  2.0269721e-03, -2.7962876e-03,  1.7498040e-03,\n",
              "       -4.1928589e-03, -2.1677501e-03,  5.1868926e-03,  2.1849887e-03,\n",
              "       -5.2223857e-03,  5.0809719e-03, -2.3864220e-04, -2.0111424e-03,\n",
              "       -2.7158624e-03,  4.5140479e-03,  1.9410213e-03,  4.9204370e-03,\n",
              "        3.5740638e-03,  4.0959069e-03, -5.9047504e-03, -5.4074929e-04,\n",
              "       -5.0674099e-04, -2.3614815e-03, -2.2158925e-03, -3.0302738e-03,\n",
              "       -1.5639629e-03,  1.2013643e-03,  1.1885001e-03,  4.0356773e-03,\n",
              "       -9.9607778e-04,  1.0842435e-03,  9.7032345e-04,  1.2189902e-03,\n",
              "        4.1266289e-03,  2.6985998e-03,  1.3670499e-03,  4.3013804e-03,\n",
              "       -1.7525246e-03, -2.1238923e-03, -1.5423050e-03, -2.9224982e-03,\n",
              "        5.9721235e-04, -1.3068721e-03, -4.3255803e-03, -2.1488341e-03,\n",
              "        9.3514437e-04,  8.4830576e-04,  1.4703488e-03, -4.6540946e-03,\n",
              "        3.3513256e-03, -5.9092250e-03,  2.2585558e-04, -1.4537830e-04,\n",
              "        4.4986722e-04, -4.0271766e-03,  1.5859137e-03,  3.2931296e-03,\n",
              "       -2.3732781e-03,  1.9744872e-03,  2.0397409e-04,  2.8744026e-03,\n",
              "        1.5951047e-03,  4.0512611e-03,  3.5543249e-05,  4.0088212e-03,\n",
              "        4.4006119e-03,  2.5436236e-03,  1.0066837e-04, -1.6922645e-03,\n",
              "        2.7423508e-03, -2.8525160e-03, -5.1769740e-03, -2.0193383e-03,\n",
              "        3.2790247e-03, -6.7531888e-04, -7.5928244e-04,  1.0839152e-03,\n",
              "        2.3332031e-03, -3.8902224e-03, -2.6148197e-03,  2.9030661e-03,\n",
              "        3.2065248e-03,  1.7622293e-03, -3.0158835e-03, -3.1749953e-03,\n",
              "        8.9482690e-04,  2.9915471e-03,  1.1013324e-04,  2.3424209e-03,\n",
              "       -2.1784909e-03, -4.5424555e-03,  2.5682822e-03,  2.3064874e-03,\n",
              "        4.0252504e-05,  3.2394426e-03, -2.5227161e-03, -2.1293007e-03],\n",
              "      dtype=float32)"
            ]
          },
          "metadata": {
            "tags": []
          },
          "execution_count": 34
        }
      ]
    },
    {
      "cell_type": "code",
      "metadata": {
        "id": "2X5U3CGNr-xZ",
        "colab_type": "code",
        "outputId": "99c12c9a-e185-4e70-c5a4-5cce9ef2afe9",
        "colab": {
          "base_uri": "https://localhost:8080/",
          "height": 250
        }
      },
      "source": [
        "#Using this function, it finds similar words with input, here \"good\" is tried again.\n",
        "model_w2v.wv.most_similar('good')"
      ],
      "execution_count": 0,
      "outputs": [
        {
          "output_type": "stream",
          "text": [
            "/usr/local/lib/python3.6/dist-packages/gensim/matutils.py:737: FutureWarning: Conversion of the second argument of issubdtype from `int` to `np.signedinteger` is deprecated. In future, it will be treated as `np.int64 == np.dtype(int).type`.\n",
            "  if np.issubdtype(vec.dtype, np.int):\n"
          ],
          "name": "stderr"
        },
        {
          "output_type": "execute_result",
          "data": {
            "text/plain": [
              "[('three', 0.3918176293373108),\n",
              " ('heard', 0.3593512177467346),\n",
              " ('ambiance', 0.32404446601867676),\n",
              " ('lacked', 0.3113870620727539),\n",
              " ('going', 0.3026556968688965),\n",
              " ('time', 0.2805081307888031),\n",
              " ('even', 0.2743968367576599),\n",
              " ('believe', 0.27136531472206116),\n",
              " ('wire', 0.25672054290771484),\n",
              " ('han', 0.25457441806793213)]"
            ]
          },
          "metadata": {
            "tags": []
          },
          "execution_count": 35
        }
      ]
    },
    {
      "cell_type": "code",
      "metadata": {
        "id": "vGa9d7JiD8P3",
        "colab_type": "code",
        "outputId": "e95203ce-1ae8-44c4-b483-7cf155775394",
        "colab": {
          "base_uri": "https://localhost:8080/",
          "height": 250
        }
      },
      "source": [
        "model_w2v.wv.most_similar('food')"
      ],
      "execution_count": 0,
      "outputs": [
        {
          "output_type": "stream",
          "text": [
            "/usr/local/lib/python3.6/dist-packages/gensim/matutils.py:737: FutureWarning: Conversion of the second argument of issubdtype from `int` to `np.signedinteger` is deprecated. In future, it will be treated as `np.int64 == np.dtype(int).type`.\n",
            "  if np.issubdtype(vec.dtype, np.int):\n"
          ],
          "name": "stderr"
        },
        {
          "output_type": "execute_result",
          "data": {
            "text/plain": [
              "[('great', 0.3888995051383972),\n",
              " ('pasta', 0.37868523597717285),\n",
              " ('didnt', 0.365462988615036),\n",
              " ('box', 0.356594979763031),\n",
              " ('everything', 0.34661436080932617),\n",
              " ('bought', 0.34213125705718994),\n",
              " ('first', 0.3342112898826599),\n",
              " ('want', 0.32754603028297424),\n",
              " ('long', 0.3248525559902191),\n",
              " ('not', 0.31879937648773193)]"
            ]
          },
          "metadata": {
            "tags": []
          },
          "execution_count": 36
        }
      ]
    },
    {
      "cell_type": "code",
      "metadata": {
        "id": "_Vy2OzMqOL0c",
        "colab_type": "code",
        "outputId": "1c41f9d2-0a65-424a-f895-3d3e0c44fa41",
        "colab": {
          "base_uri": "https://localhost:8080/",
          "height": 250
        }
      },
      "source": [
        "model_w2v.wv.most_similar('bad')"
      ],
      "execution_count": 0,
      "outputs": [
        {
          "output_type": "stream",
          "text": [
            "/usr/local/lib/python3.6/dist-packages/gensim/matutils.py:737: FutureWarning: Conversion of the second argument of issubdtype from `int` to `np.signedinteger` is deprecated. In future, it will be treated as `np.int64 == np.dtype(int).type`.\n",
            "  if np.issubdtype(vec.dtype, np.int):\n"
          ],
          "name": "stderr"
        },
        {
          "output_type": "execute_result",
          "data": {
            "text/plain": [
              "[('satisfying', 0.3460714817047119),\n",
              " ('sushi', 0.33325520157814026),\n",
              " ('lighter', 0.29934778809547424),\n",
              " ('glance', 0.2838454246520996),\n",
              " ('vacant', 0.2781592309474945),\n",
              " ('staff', 0.2619720995426178),\n",
              " ('take', 0.2619175910949707),\n",
              " ('shocked', 0.26053574681282043),\n",
              " ('black', 0.25974783301353455),\n",
              " ('chewy', 0.255837082862854)]"
            ]
          },
          "metadata": {
            "tags": []
          },
          "execution_count": 37
        }
      ]
    },
    {
      "cell_type": "code",
      "metadata": {
        "id": "u0yE7K-6RsN5",
        "colab_type": "code",
        "outputId": "dbb5fc65-28b6-4bd4-e0cd-5e926c834c03",
        "colab": {
          "base_uri": "https://localhost:8080/",
          "height": 250
        }
      },
      "source": [
        "model_w2v.wv.most_similar('nice')"
      ],
      "execution_count": 0,
      "outputs": [
        {
          "output_type": "stream",
          "text": [
            "/usr/local/lib/python3.6/dist-packages/gensim/matutils.py:737: FutureWarning: Conversion of the second argument of issubdtype from `int` to `np.signedinteger` is deprecated. In future, it will be treated as `np.int64 == np.dtype(int).type`.\n",
            "  if np.issubdtype(vec.dtype, np.int):\n"
          ],
          "name": "stderr"
        },
        {
          "output_type": "execute_result",
          "data": {
            "text/plain": [
              "[('not', 0.3463492691516876),\n",
              " ('quite', 0.3398207426071167),\n",
              " ('beer', 0.33885616064071655),\n",
              " ('steak', 0.3357958197593689),\n",
              " ('insulted', 0.3280287981033325),\n",
              " ('meal', 0.324515700340271),\n",
              " ('wall', 0.319437175989151),\n",
              " ('heimer', 0.30772408843040466),\n",
              " ('beensteppedinandtrackedeverywhere', 0.3025344908237457),\n",
              " ('everything', 0.30032652616500854)]"
            ]
          },
          "metadata": {
            "tags": []
          },
          "execution_count": 38
        }
      ]
    },
    {
      "cell_type": "code",
      "metadata": {
        "id": "TgYWePVpQKCr",
        "colab_type": "code",
        "outputId": "02e8cb84-6a1e-43e0-95fe-8eee490c4f23",
        "colab": {
          "base_uri": "https://localhost:8080/",
          "height": 90
        }
      },
      "source": [
        "model_w2v.wv.similarity('bad','not')"
      ],
      "execution_count": 0,
      "outputs": [
        {
          "output_type": "stream",
          "text": [
            "/usr/local/lib/python3.6/dist-packages/gensim/matutils.py:737: FutureWarning: Conversion of the second argument of issubdtype from `int` to `np.signedinteger` is deprecated. In future, it will be treated as `np.int64 == np.dtype(int).type`.\n",
            "  if np.issubdtype(vec.dtype, np.int):\n"
          ],
          "name": "stderr"
        },
        {
          "output_type": "execute_result",
          "data": {
            "text/plain": [
              "0.075013846"
            ]
          },
          "metadata": {
            "tags": []
          },
          "execution_count": 39
        }
      ]
    },
    {
      "cell_type": "code",
      "metadata": {
        "id": "wfe7-U4PRclU",
        "colab_type": "code",
        "outputId": "d372143e-96f3-4d2a-b133-df768d3943b3",
        "colab": {
          "base_uri": "https://localhost:8080/",
          "height": 90
        }
      },
      "source": [
        "model_w2v.wv.similarity('not','good')"
      ],
      "execution_count": 0,
      "outputs": [
        {
          "output_type": "stream",
          "text": [
            "/usr/local/lib/python3.6/dist-packages/gensim/matutils.py:737: FutureWarning: Conversion of the second argument of issubdtype from `int` to `np.signedinteger` is deprecated. In future, it will be treated as `np.int64 == np.dtype(int).type`.\n",
            "  if np.issubdtype(vec.dtype, np.int):\n"
          ],
          "name": "stderr"
        },
        {
          "output_type": "execute_result",
          "data": {
            "text/plain": [
              "0.25237927"
            ]
          },
          "metadata": {
            "tags": []
          },
          "execution_count": 40
        }
      ]
    },
    {
      "cell_type": "code",
      "metadata": {
        "id": "LIQmRff4tVWr",
        "colab_type": "code",
        "outputId": "bab2b684-df28-4428-a340-2464b7e3356b",
        "colab": {
          "base_uri": "https://localhost:8080/",
          "height": 194
        }
      },
      "source": [
        "#With this function, it finds the most similar words for the positive set, and most dissimilar words for the negative set.\n",
        "model_w2v.wv.most_similar_cosmul(positive= ['good', 'best'],negative=['bad'])"
      ],
      "execution_count": 0,
      "outputs": [
        {
          "output_type": "execute_result",
          "data": {
            "text/plain": [
              "[('ninja', 0.9192177653312683),\n",
              " ('rich', 0.9019197225570679),\n",
              " ('difference', 0.8317643404006958),\n",
              " ('dine', 0.8270399570465088),\n",
              " ('heard', 0.8254592418670654),\n",
              " ('chipolte', 0.8180621266365051),\n",
              " ('shoot', 0.8180445432662964),\n",
              " ('gooodd', 0.8056173920631409),\n",
              " ('disappoint', 0.8052562475204468),\n",
              " ('ala', 0.7984889149665833)]"
            ]
          },
          "metadata": {
            "tags": []
          },
          "execution_count": 41
        }
      ]
    },
    {
      "cell_type": "code",
      "metadata": {
        "id": "HQZSdOFOts3e",
        "colab_type": "code",
        "outputId": "f1720529-fdcd-4e7a-d1f0-13874fd52044",
        "colab": {
          "base_uri": "https://localhost:8080/",
          "height": 90
        }
      },
      "source": [
        "#This function finds the word which is the outlier in the word string.\n",
        "model_w2v.wv.doesnt_match(\"good best better bad\".split())"
      ],
      "execution_count": 0,
      "outputs": [
        {
          "output_type": "stream",
          "text": [
            "/usr/local/lib/python3.6/dist-packages/gensim/matutils.py:737: FutureWarning: Conversion of the second argument of issubdtype from `int` to `np.signedinteger` is deprecated. In future, it will be treated as `np.int64 == np.dtype(int).type`.\n",
            "  if np.issubdtype(vec.dtype, np.int):\n"
          ],
          "name": "stderr"
        },
        {
          "output_type": "execute_result",
          "data": {
            "text/plain": [
              "'best'"
            ]
          },
          "metadata": {
            "tags": []
          },
          "execution_count": 42
        }
      ]
    },
    {
      "cell_type": "code",
      "metadata": {
        "id": "9yvFBuu5OPUT",
        "colab_type": "code",
        "colab": {}
      },
      "source": [
        "#We can also save the model\n",
        "filename = \"w2v.txt\"\n",
        "model_w2v.wv.save_word2vec_format(filename, binary = False)"
      ],
      "execution_count": 0,
      "outputs": []
    },
    {
      "cell_type": "markdown",
      "metadata": {
        "id": "Z61CHxAH57eb",
        "colab_type": "text"
      },
      "source": [
        "## **Deep Learning**"
      ]
    },
    {
      "cell_type": "markdown",
      "metadata": {
        "id": "uypU6mPI_KIP",
        "colab_type": "text"
      },
      "source": [
        "Now, we can make predictions using the features that we have extracted. The first one is deep learning. In this part, we will form 3 networks using the Sequential model of Keras. The embedding layer will change in each case."
      ]
    },
    {
      "cell_type": "markdown",
      "metadata": {
        "id": "j6BDCvbc6AxJ",
        "colab_type": "text"
      },
      "source": [
        "### 1. Using **Keras**"
      ]
    },
    {
      "cell_type": "markdown",
      "metadata": {
        "id": "Z_c-04yt_im9",
        "colab_type": "text"
      },
      "source": [
        "First, we will utilize the Embedding layer of Keras"
      ]
    },
    {
      "cell_type": "code",
      "metadata": {
        "id": "Zn86WAKdUSjT",
        "colab_type": "code",
        "colab": {}
      },
      "source": [
        "from tensorflow.python.keras.preprocessing.text import Tokenizer\n",
        "from tensorflow.python.keras.preprocessing.sequence import pad_sequences\n"
      ],
      "execution_count": 0,
      "outputs": []
    },
    {
      "cell_type": "markdown",
      "metadata": {
        "id": "67s5sdl5_2Sh",
        "colab_type": "text"
      },
      "source": [
        "For the model to work, we need to tokenize every sentence. This means, each word will have a unique number assigned to it, and the sentence will be represented using those numbers instead of words. Moreover, the input has to be same length. This means, we would like to represent each sentence as if they had same number of words. To achieve this, we find the sentence having maximum length and pad the other sentences until they have this length."
      ]
    },
    {
      "cell_type": "code",
      "metadata": {
        "id": "_r4mcXqMJ_8Q",
        "colab_type": "code",
        "outputId": "3075b9ec-11a8-4da3-f305-1aa2f2bd3292",
        "colab": {
          "base_uri": "https://localhost:8080/",
          "height": 197
        }
      },
      "source": [
        "yelpProcessed.head()"
      ],
      "execution_count": 0,
      "outputs": [
        {
          "output_type": "execute_result",
          "data": {
            "text/html": [
              "<div>\n",
              "<style scoped>\n",
              "    .dataframe tbody tr th:only-of-type {\n",
              "        vertical-align: middle;\n",
              "    }\n",
              "\n",
              "    .dataframe tbody tr th {\n",
              "        vertical-align: top;\n",
              "    }\n",
              "\n",
              "    .dataframe thead th {\n",
              "        text-align: right;\n",
              "    }\n",
              "</style>\n",
              "<table border=\"1\" class=\"dataframe\">\n",
              "  <thead>\n",
              "    <tr style=\"text-align: right;\">\n",
              "      <th></th>\n",
              "      <th>Sentence</th>\n",
              "      <th>Value</th>\n",
              "      <th>POStags</th>\n",
              "    </tr>\n",
              "  </thead>\n",
              "  <tbody>\n",
              "    <tr>\n",
              "      <th>0</th>\n",
              "      <td>[wow, loved, place]</td>\n",
              "      <td>1</td>\n",
              "      <td>[(wow, NN), (loved, VBD), (place, NN)]</td>\n",
              "    </tr>\n",
              "    <tr>\n",
              "      <th>1</th>\n",
              "      <td>[crust, not, good]</td>\n",
              "      <td>0</td>\n",
              "      <td>[(crust, NN), (not, RB), (good, JJ)]</td>\n",
              "    </tr>\n",
              "    <tr>\n",
              "      <th>2</th>\n",
              "      <td>[not, tasty, texture, nasty]</td>\n",
              "      <td>0</td>\n",
              "      <td>[(not, RB), (tasty, JJ), (texture, NN), (nasty...</td>\n",
              "    </tr>\n",
              "    <tr>\n",
              "      <th>3</th>\n",
              "      <td>[stopped, late, may, bank, holiday, rick, stev...</td>\n",
              "      <td>1</td>\n",
              "      <td>[(stopped, VBN), (late, JJ), (may, MD), (bank,...</td>\n",
              "    </tr>\n",
              "    <tr>\n",
              "      <th>4</th>\n",
              "      <td>[selection, menu, great, price]</td>\n",
              "      <td>1</td>\n",
              "      <td>[(selection, NN), (menu, RB), (great, JJ), (pr...</td>\n",
              "    </tr>\n",
              "  </tbody>\n",
              "</table>\n",
              "</div>"
            ],
            "text/plain": [
              "                                            Sentence Value  \\\n",
              "0                                [wow, loved, place]     1   \n",
              "1                                 [crust, not, good]     0   \n",
              "2                       [not, tasty, texture, nasty]     0   \n",
              "3  [stopped, late, may, bank, holiday, rick, stev...     1   \n",
              "4                    [selection, menu, great, price]     1   \n",
              "\n",
              "                                             POStags  \n",
              "0             [(wow, NN), (loved, VBD), (place, NN)]  \n",
              "1               [(crust, NN), (not, RB), (good, JJ)]  \n",
              "2  [(not, RB), (tasty, JJ), (texture, NN), (nasty...  \n",
              "3  [(stopped, VBN), (late, JJ), (may, MD), (bank,...  \n",
              "4  [(selection, NN), (menu, RB), (great, JJ), (pr...  "
            ]
          },
          "metadata": {
            "tags": []
          },
          "execution_count": 45
        }
      ]
    },
    {
      "cell_type": "code",
      "metadata": {
        "id": "Npb77VE4KQGs",
        "colab_type": "code",
        "colab": {}
      },
      "source": [
        "yelp_processed_sentences = []\n",
        "for row in yelpProcessed['Sentence']:\n",
        "  str = \"\"\n",
        "  for item in row:\n",
        "    str += item + \" \"\n",
        "  yelp_processed_sentences.append(str)"
      ],
      "execution_count": 0,
      "outputs": []
    },
    {
      "cell_type": "code",
      "metadata": {
        "id": "B6e4mYzaUlId",
        "colab_type": "code",
        "colab": {}
      },
      "source": [
        "#Tokenize every sentence\n",
        "tokenizer_obj = Tokenizer()\n",
        "total_reviews = yelp['Sentence']\n",
        "tokenizer_obj.fit_on_texts(total_reviews)\n",
        "\n",
        "#myList = []\n",
        "#for row in total_reviews:\n",
        "#  str = \"\"\n",
        "#  for item in row:\n",
        "#    str += item + \" \"\n",
        "#  myList.append(str)\n",
        "\n",
        "#Find the maximum length of a sentence = max_length\n",
        "#Vocab size = number of different words contained in the data\n",
        "max_length = max([len(s.split()) for s in yelp_processed_sentences])\n",
        "vocab_size = len(tokenizer_obj.word_index) +1\n",
        "\n",
        "#Tokenize and pad train and test data seperately.\n",
        "x_train_t = tokenizer_obj.texts_to_sequences(x_train['Sentence'])\n",
        "x_valid_t = tokenizer_obj.texts_to_sequences(x_valid['Sentence'])\n",
        "\n",
        "x_train_p = pad_sequences(x_train_t, maxlen = max_length, padding='post')\n",
        "x_valid_p = pad_sequences(x_valid_t, maxlen = max_length, padding='post')\n",
        "\n"
      ],
      "execution_count": 0,
      "outputs": []
    },
    {
      "cell_type": "code",
      "metadata": {
        "id": "x2JezCAIMfHF",
        "colab_type": "code",
        "outputId": "3a198fd5-9fda-4306-c778-5eb61e1ecdc3",
        "colab": {
          "base_uri": "https://localhost:8080/",
          "height": 52
        }
      },
      "source": [
        "print(\"Max length of input sentence: \", max_length)\n",
        "print(\"Number of words in vocabulary: \",vocab_size)"
      ],
      "execution_count": 0,
      "outputs": [
        {
          "output_type": "stream",
          "text": [
            "Max length of input sentence:  19\n",
            "Number of words in vocabulary:  1813\n"
          ],
          "name": "stdout"
        }
      ]
    },
    {
      "cell_type": "markdown",
      "metadata": {
        "id": "tggbIqQPA9J9",
        "colab_type": "text"
      },
      "source": [
        "Now, we will form the Sequential model. First layer will be the word embeddings. As an input, we put size of the vocabulary, size of feature vectors (100), and maximum input length (max_length). After this, we add a GRU layer, Gated Recurrent Unit, an improved version of standard recurrent neural network. Units, is the dimensionality of output space. And, we have a dense layer at the end. The actiavion function used is sigmiod as we are doing a binary classification."
      ]
    },
    {
      "cell_type": "code",
      "metadata": {
        "id": "LA2Ce--AR0rA",
        "colab_type": "code",
        "outputId": "5c772862-1914-40cf-f51b-fa7dd9395ce0",
        "colab": {
          "base_uri": "https://localhost:8080/",
          "height": 34
        }
      },
      "source": [
        "from keras.models import Sequential\n",
        "from keras.layers import Dense, Embedding, LSTM, GRU\n",
        "from keras.layers.embeddings import Embedding\n",
        "\n",
        "model_keras = Sequential()\n",
        "model_keras.add(Embedding(vocab_size, 100, input_length = max_length))\n",
        "model_keras.add(GRU(units=32, dropout= 0.2, recurrent_dropout = 0.2))\n",
        "model_keras.add(Dense(1,activation= 'sigmoid'))\n",
        "\n"
      ],
      "execution_count": 0,
      "outputs": [
        {
          "output_type": "stream",
          "text": [
            "Using TensorFlow backend.\n"
          ],
          "name": "stderr"
        }
      ]
    },
    {
      "cell_type": "markdown",
      "metadata": {
        "id": "9DTvDc2vCcUO",
        "colab_type": "text"
      },
      "source": [
        "We configure the learning process with the compile method. The model will try to minimize the loss function. Binary Cross-Entropy is chosen as this is a binary classification. Cosine proximity is also tried."
      ]
    },
    {
      "cell_type": "code",
      "metadata": {
        "id": "Gfil4XahTGyK",
        "colab_type": "code",
        "colab": {}
      },
      "source": [
        "model_keras.compile(loss='binary_crossentropy', optimizer='adam', metrics = ['accuracy'])\n"
      ],
      "execution_count": 0,
      "outputs": []
    },
    {
      "cell_type": "markdown",
      "metadata": {
        "id": "HyZV3MFjDDRV",
        "colab_type": "text"
      },
      "source": [
        "The number of epochs, the number of times the network will update the weights, is set to 25 using empirical analysis. Batch is the number of samples in each gradient update and its default value is 25."
      ]
    },
    {
      "cell_type": "code",
      "metadata": {
        "id": "-KhW3BigTW-R",
        "colab_type": "code",
        "outputId": "e58263bb-e63f-41d9-ad00-cf7d00b50dd3",
        "colab": {
          "base_uri": "https://localhost:8080/",
          "height": 923
        }
      },
      "source": [
        "model_keras.fit(x_train_p,y_train,epochs=25, batch_size=32)\n"
      ],
      "execution_count": 0,
      "outputs": [
        {
          "output_type": "stream",
          "text": [
            "Epoch 1/25\n",
            "800/800 [==============================] - 1s 2ms/step - loss: 0.6937 - acc: 0.4925\n",
            "Epoch 2/25\n",
            "800/800 [==============================] - 1s 707us/step - loss: 0.6941 - acc: 0.4938\n",
            "Epoch 3/25\n",
            "800/800 [==============================] - 1s 713us/step - loss: 0.6939 - acc: 0.5100\n",
            "Epoch 4/25\n",
            "800/800 [==============================] - 1s 712us/step - loss: 0.6926 - acc: 0.5175\n",
            "Epoch 5/25\n",
            "800/800 [==============================] - 1s 708us/step - loss: 0.6928 - acc: 0.5212\n",
            "Epoch 6/25\n",
            "800/800 [==============================] - 1s 725us/step - loss: 0.6846 - acc: 0.5975\n",
            "Epoch 7/25\n",
            "800/800 [==============================] - 1s 725us/step - loss: 0.4186 - acc: 0.8438\n",
            "Epoch 8/25\n",
            "800/800 [==============================] - 1s 715us/step - loss: 0.2120 - acc: 0.9337\n",
            "Epoch 9/25\n",
            "800/800 [==============================] - 1s 737us/step - loss: 0.1222 - acc: 0.9662\n",
            "Epoch 10/25\n",
            "800/800 [==============================] - 1s 775us/step - loss: 0.0902 - acc: 0.9800\n",
            "Epoch 11/25\n",
            "800/800 [==============================] - 1s 765us/step - loss: 0.0659 - acc: 0.9850\n",
            "Epoch 12/25\n",
            "800/800 [==============================] - 1s 738us/step - loss: 0.0543 - acc: 0.9862\n",
            "Epoch 13/25\n",
            "800/800 [==============================] - 1s 735us/step - loss: 0.0322 - acc: 0.9937\n",
            "Epoch 14/25\n",
            "800/800 [==============================] - 1s 722us/step - loss: 0.0172 - acc: 0.9962\n",
            "Epoch 15/25\n",
            "800/800 [==============================] - 1s 722us/step - loss: 0.0191 - acc: 0.9950\n",
            "Epoch 16/25\n",
            "800/800 [==============================] - 1s 726us/step - loss: 0.0361 - acc: 0.9900\n",
            "Epoch 17/25\n",
            "800/800 [==============================] - 1s 725us/step - loss: 0.0377 - acc: 0.9925\n",
            "Epoch 18/25\n",
            "800/800 [==============================] - 1s 750us/step - loss: 0.0247 - acc: 0.9950\n",
            "Epoch 19/25\n",
            "800/800 [==============================] - 1s 777us/step - loss: 0.0222 - acc: 0.9962\n",
            "Epoch 20/25\n",
            "800/800 [==============================] - 1s 771us/step - loss: 0.0236 - acc: 0.9962\n",
            "Epoch 21/25\n",
            "800/800 [==============================] - 1s 799us/step - loss: 0.0151 - acc: 0.9988\n",
            "Epoch 22/25\n",
            "800/800 [==============================] - 1s 783us/step - loss: 0.0178 - acc: 0.9975\n",
            "Epoch 23/25\n",
            "800/800 [==============================] - 1s 791us/step - loss: 0.0101 - acc: 0.9975\n",
            "Epoch 24/25\n",
            "800/800 [==============================] - 1s 788us/step - loss: 0.0301 - acc: 0.9937\n",
            "Epoch 25/25\n",
            "800/800 [==============================] - 1s 767us/step - loss: 0.0261 - acc: 0.9937\n"
          ],
          "name": "stdout"
        },
        {
          "output_type": "execute_result",
          "data": {
            "text/plain": [
              "<keras.callbacks.History at 0x7f7af2b7e0b8>"
            ]
          },
          "metadata": {
            "tags": []
          },
          "execution_count": 51
        }
      ]
    },
    {
      "cell_type": "markdown",
      "metadata": {
        "id": "IAThJat7Da0m",
        "colab_type": "text"
      },
      "source": [
        "The predictions are in a float format, te closer it gets to 1 means there is a high probability that this is positive, and vice versa. They are converted to 0 and 1 based on their probability"
      ]
    },
    {
      "cell_type": "code",
      "metadata": {
        "id": "1LK6wLZfYD-9",
        "colab_type": "code",
        "colab": {}
      },
      "source": [
        "pred_keras_1 = model_keras.predict(x_valid_p)\n",
        "\n",
        "for i in range(len(pred_keras_1)):\n",
        "  if pred_keras_1[i] >= 0.5:\n",
        "    pred_keras_1[i] = 1\n",
        "  else:\n",
        "    pred_keras_1[i] = 0\n",
        "\n",
        "  "
      ],
      "execution_count": 0,
      "outputs": []
    },
    {
      "cell_type": "markdown",
      "metadata": {
        "id": "iefXhqWdDwoR",
        "colab_type": "text"
      },
      "source": [
        "The labels are also converted to an appropriate format."
      ]
    },
    {
      "cell_type": "code",
      "metadata": {
        "id": "W1JmNVxCY8S2",
        "colab_type": "code",
        "colab": {}
      },
      "source": [
        "import numpy as np\n",
        "labels = np.zeros(len(y_valid))\n",
        "for i in range(len(y_valid)):\n",
        "  labels[i] = int(y_valid.values[i])"
      ],
      "execution_count": 0,
      "outputs": []
    },
    {
      "cell_type": "markdown",
      "metadata": {
        "id": "tDEQkUM8D0aJ",
        "colab_type": "text"
      },
      "source": [
        "These are the results. The loss function did not make any impact on the result. "
      ]
    },
    {
      "cell_type": "code",
      "metadata": {
        "id": "qrXWsMLmYeZe",
        "colab_type": "code",
        "outputId": "831a6141-5e49-4678-f6dc-0dca346900ba",
        "colab": {
          "base_uri": "https://localhost:8080/",
          "height": 34
        }
      },
      "source": [
        "from sklearn.metrics import f1_score\n",
        "print(\"F1 score for the negative class  \", f1_score(labels, pred_keras_1,average=None)[0])\n"
      ],
      "execution_count": 0,
      "outputs": [
        {
          "output_type": "stream",
          "text": [
            "F1 score for the negative class   0.7889908256880734\n"
          ],
          "name": "stdout"
        }
      ]
    },
    {
      "cell_type": "markdown",
      "metadata": {
        "id": "-10QKeBZ6HXg",
        "colab_type": "text"
      },
      "source": [
        "### **2. Using Word2Vec**"
      ]
    },
    {
      "cell_type": "markdown",
      "metadata": {
        "id": "dZSUN0ksXYR_",
        "colab_type": "text"
      },
      "source": [
        "In this part, instead of using Keras's Embedding layer, we will create our embedding layer using our word2vec model. We obtain it from the saved file, and rest is the same."
      ]
    },
    {
      "cell_type": "code",
      "metadata": {
        "id": "sl3UdyZeOlHk",
        "colab_type": "code",
        "colab": {}
      },
      "source": [
        "#Get feature vectors\n",
        "f2 = open(\"w2v.txt\",encoding=\"utf-8\")\n",
        "embeddings_index_2 = {}\n",
        "for line in f2:\n",
        "  values = line.split()\n",
        "  word = values[0]\n",
        "  coefs = np.asarray(values[1:])\n",
        "  embeddings_index_2[word] = coefs\n",
        "f2.close()"
      ],
      "execution_count": 0,
      "outputs": []
    },
    {
      "cell_type": "code",
      "metadata": {
        "id": "JdkT6KgzQCNJ",
        "colab_type": "code",
        "colab": {}
      },
      "source": [
        "#Construct the embedding matrix\n",
        "embedding_matrix_2 = py.zeros((vocab_size,100))\n",
        "\n",
        "for word, i in tokenizer_obj.word_index.items():\n",
        "  row = embeddings_index_2.get(word)\n",
        "  if row is not None:\n",
        "    embedding_matrix_2[i] = row\n",
        "  "
      ],
      "execution_count": 0,
      "outputs": []
    },
    {
      "cell_type": "code",
      "metadata": {
        "id": "RyyQKgMcQn00",
        "colab_type": "code",
        "colab": {}
      },
      "source": [
        "#Construct the model\n",
        "import keras\n",
        "from keras.models import Sequential\n",
        "from keras.layers import Dense, Embedding, LSTM, GRU\n",
        "from keras.layers.embeddings import Embedding\n",
        "\n",
        "embeddingLayer = Embedding(vocab_size,100,embeddings_initializer=keras.initializers.Constant(embedding_matrix_2), input_length = max_length, trainable = False)\n",
        "\n",
        "model_nn_w2v = Sequential()\n",
        "model_nn_w2v.add(embeddingLayer)\n",
        "model_nn_w2v.add(GRU(units=32, dropout= 0.2, recurrent_dropout = 0.2))\n",
        "model_nn_w2v.add(Dense(1,activation= 'sigmoid'))"
      ],
      "execution_count": 0,
      "outputs": []
    },
    {
      "cell_type": "code",
      "metadata": {
        "id": "5CpVZCR34azv",
        "colab_type": "code",
        "outputId": "8e192c21-451f-4fc9-8275-af1c34a60742",
        "colab": {
          "base_uri": "https://localhost:8080/",
          "height": 1794
        }
      },
      "source": [
        "model_nn_w2v.compile(loss='binary_crossentropy', optimizer='adam', metrics = ['accuracy'])\n",
        "model_nn_w2v.fit(x_train_p,y_train,epochs=50, batch_size=50)\n",
        "preds_nn_w2v = model_nn_w2v.predict(x_valid_p)"
      ],
      "execution_count": 0,
      "outputs": [
        {
          "output_type": "stream",
          "text": [
            "Epoch 1/50\n",
            "800/800 [==============================] - 1s 1ms/step - loss: 0.6932 - acc: 0.4825\n",
            "Epoch 2/50\n",
            "800/800 [==============================] - 0s 386us/step - loss: 0.6933 - acc: 0.5100\n",
            "Epoch 3/50\n",
            "800/800 [==============================] - 0s 366us/step - loss: 0.6931 - acc: 0.5100\n",
            "Epoch 4/50\n",
            "800/800 [==============================] - 0s 372us/step - loss: 0.6932 - acc: 0.5100\n",
            "Epoch 5/50\n",
            "800/800 [==============================] - 0s 370us/step - loss: 0.6931 - acc: 0.5100\n",
            "Epoch 6/50\n",
            "800/800 [==============================] - 0s 373us/step - loss: 0.6930 - acc: 0.5100\n",
            "Epoch 7/50\n",
            "800/800 [==============================] - 0s 361us/step - loss: 0.6930 - acc: 0.5100\n",
            "Epoch 8/50\n",
            "800/800 [==============================] - 0s 369us/step - loss: 0.6930 - acc: 0.5100\n",
            "Epoch 9/50\n",
            "800/800 [==============================] - 0s 371us/step - loss: 0.6929 - acc: 0.5100\n",
            "Epoch 10/50\n",
            "800/800 [==============================] - 0s 364us/step - loss: 0.6931 - acc: 0.5100\n",
            "Epoch 11/50\n",
            "800/800 [==============================] - 0s 365us/step - loss: 0.6931 - acc: 0.5100\n",
            "Epoch 12/50\n",
            "800/800 [==============================] - 0s 361us/step - loss: 0.6930 - acc: 0.5100\n",
            "Epoch 13/50\n",
            "800/800 [==============================] - 0s 380us/step - loss: 0.6930 - acc: 0.5100\n",
            "Epoch 14/50\n",
            "800/800 [==============================] - 0s 377us/step - loss: 0.6930 - acc: 0.5100\n",
            "Epoch 15/50\n",
            "800/800 [==============================] - 0s 361us/step - loss: 0.6930 - acc: 0.5100\n",
            "Epoch 16/50\n",
            "800/800 [==============================] - 0s 341us/step - loss: 0.6931 - acc: 0.5100\n",
            "Epoch 17/50\n",
            "800/800 [==============================] - 0s 355us/step - loss: 0.6930 - acc: 0.5100\n",
            "Epoch 18/50\n",
            "800/800 [==============================] - 0s 354us/step - loss: 0.6930 - acc: 0.5100\n",
            "Epoch 19/50\n",
            "800/800 [==============================] - 0s 369us/step - loss: 0.6930 - acc: 0.5100\n",
            "Epoch 20/50\n",
            "800/800 [==============================] - 0s 334us/step - loss: 0.6930 - acc: 0.5100\n",
            "Epoch 21/50\n",
            "800/800 [==============================] - 0s 342us/step - loss: 0.6929 - acc: 0.5100\n",
            "Epoch 22/50\n",
            "800/800 [==============================] - 0s 364us/step - loss: 0.6929 - acc: 0.5100\n",
            "Epoch 23/50\n",
            "800/800 [==============================] - 0s 352us/step - loss: 0.6929 - acc: 0.5100\n",
            "Epoch 24/50\n",
            "800/800 [==============================] - 0s 344us/step - loss: 0.6930 - acc: 0.5100\n",
            "Epoch 25/50\n",
            "800/800 [==============================] - 0s 347us/step - loss: 0.6931 - acc: 0.5112\n",
            "Epoch 26/50\n",
            "800/800 [==============================] - 0s 379us/step - loss: 0.6930 - acc: 0.5112\n",
            "Epoch 27/50\n",
            "800/800 [==============================] - 0s 346us/step - loss: 0.6930 - acc: 0.5112\n",
            "Epoch 28/50\n",
            "800/800 [==============================] - 0s 360us/step - loss: 0.6930 - acc: 0.5112\n",
            "Epoch 29/50\n",
            "800/800 [==============================] - 0s 343us/step - loss: 0.6931 - acc: 0.5113\n",
            "Epoch 30/50\n",
            "800/800 [==============================] - 0s 345us/step - loss: 0.6929 - acc: 0.5112\n",
            "Epoch 31/50\n",
            "800/800 [==============================] - 0s 343us/step - loss: 0.6931 - acc: 0.5113\n",
            "Epoch 32/50\n",
            "800/800 [==============================] - 0s 349us/step - loss: 0.6929 - acc: 0.5112\n",
            "Epoch 33/50\n",
            "800/800 [==============================] - 0s 340us/step - loss: 0.6930 - acc: 0.5113\n",
            "Epoch 34/50\n",
            "800/800 [==============================] - 0s 343us/step - loss: 0.6929 - acc: 0.5112\n",
            "Epoch 35/50\n",
            "800/800 [==============================] - 0s 345us/step - loss: 0.6930 - acc: 0.5112\n",
            "Epoch 36/50\n",
            "800/800 [==============================] - 0s 341us/step - loss: 0.6931 - acc: 0.5112\n",
            "Epoch 37/50\n",
            "800/800 [==============================] - 0s 336us/step - loss: 0.6929 - acc: 0.5112\n",
            "Epoch 38/50\n",
            "800/800 [==============================] - 0s 336us/step - loss: 0.6930 - acc: 0.5112\n",
            "Epoch 39/50\n",
            "800/800 [==============================] - 0s 345us/step - loss: 0.6929 - acc: 0.5112\n",
            "Epoch 40/50\n",
            "800/800 [==============================] - 0s 340us/step - loss: 0.6929 - acc: 0.5113\n",
            "Epoch 41/50\n",
            "800/800 [==============================] - 0s 343us/step - loss: 0.6929 - acc: 0.5112\n",
            "Epoch 42/50\n",
            "800/800 [==============================] - 0s 370us/step - loss: 0.6930 - acc: 0.5113\n",
            "Epoch 43/50\n",
            "800/800 [==============================] - 0s 345us/step - loss: 0.6929 - acc: 0.5113\n",
            "Epoch 44/50\n",
            "800/800 [==============================] - 0s 343us/step - loss: 0.6929 - acc: 0.5112\n",
            "Epoch 45/50\n",
            "800/800 [==============================] - 0s 339us/step - loss: 0.6930 - acc: 0.5112\n",
            "Epoch 46/50\n",
            "800/800 [==============================] - 0s 341us/step - loss: 0.6930 - acc: 0.5113\n",
            "Epoch 47/50\n",
            "800/800 [==============================] - 0s 329us/step - loss: 0.6930 - acc: 0.5113\n",
            "Epoch 48/50\n",
            "800/800 [==============================] - 0s 351us/step - loss: 0.6928 - acc: 0.5113\n",
            "Epoch 49/50\n",
            "800/800 [==============================] - 0s 334us/step - loss: 0.6932 - acc: 0.5113\n",
            "Epoch 50/50\n",
            "800/800 [==============================] - 0s 347us/step - loss: 0.6928 - acc: 0.5113\n"
          ],
          "name": "stdout"
        }
      ]
    },
    {
      "cell_type": "code",
      "metadata": {
        "id": "smRine25H2O3",
        "colab_type": "code",
        "colab": {}
      },
      "source": [
        "#Form the labels from y_valid\n",
        "labels = np.zeros(len(y_valid))\n",
        "for i in range(len(y_valid)):\n",
        "  labels[i] = int(y_valid.values[i])"
      ],
      "execution_count": 0,
      "outputs": []
    },
    {
      "cell_type": "code",
      "metadata": {
        "id": "4F8JV2Fu4xwh",
        "colab_type": "code",
        "outputId": "601f7dd2-24bd-47e7-df4e-5147f660af66",
        "colab": {
          "base_uri": "https://localhost:8080/",
          "height": 90
        }
      },
      "source": [
        "for i in range(len(preds_nn_w2v)):\n",
        "  if preds_nn_w2v[i] >= 0.5:\n",
        "    preds_nn_w2v[i] = 1\n",
        "  else:\n",
        "    preds_nn_w2v[i] = 0\n",
        "\n",
        "from sklearn.metrics import f1_score\n",
        "print(\" F1 score for the negative class: \",f1_score(labels, preds_nn_w2v, average=None)[0])"
      ],
      "execution_count": 0,
      "outputs": [
        {
          "output_type": "stream",
          "text": [
            " F1 score for the negative class:  0.0\n"
          ],
          "name": "stdout"
        },
        {
          "output_type": "stream",
          "text": [
            "/usr/local/lib/python3.6/dist-packages/sklearn/metrics/classification.py:1143: UndefinedMetricWarning: F-score is ill-defined and being set to 0.0 in labels with no predicted samples.\n",
            "  'precision', 'predicted', average, warn_for)\n"
          ],
          "name": "stderr"
        }
      ]
    },
    {
      "cell_type": "markdown",
      "metadata": {
        "id": "vywE97mo6KR9",
        "colab_type": "text"
      },
      "source": [
        "### **3. Using GloVe**"
      ]
    },
    {
      "cell_type": "markdown",
      "metadata": {
        "id": "jwrh7K0wXnyc",
        "colab_type": "text"
      },
      "source": [
        "GloVe is also an algorithm to extract neural word embeddings. But it is pretrained. That is why we downloaded its pretrained 100 dimensional feature vectors and used it as the embedding layer. This might have better results than Word2Vec as it probably is trained with more data. As this is the best net, grid search was used to optimize the batch size and number of epochs."
      ]
    },
    {
      "cell_type": "code",
      "metadata": {
        "id": "Ic3OJE6MZxkx",
        "colab_type": "code",
        "colab": {}
      },
      "source": [
        "#If this does not work, please download glove.6B.zip and add the 100d file https://nlp.stanford.edu/projects/glove/\n",
        "#Get the neural word embeddings.\n",
        "embeddings_index = dict()\n",
        "f = open('glove.6B.100d.txt')\n",
        "for line in f:\n",
        "\tvalues = line.split()\n",
        "\tword = values[0]\n",
        "\tcoefs = py.asarray(values[1:], dtype='float32')\n",
        "\tembeddings_index[word] = coefs\n",
        "f.close()\n"
      ],
      "execution_count": 0,
      "outputs": []
    },
    {
      "cell_type": "code",
      "metadata": {
        "id": "uD22n7HCYwMd",
        "colab_type": "code",
        "outputId": "8bd6665e-e192-46a9-e3b5-e7a6fc9a761a",
        "colab": {
          "base_uri": "https://localhost:8080/",
          "height": 34
        }
      },
      "source": [
        "print(\"Number of words in GloVe vocabulary: \", len(embeddings_index))"
      ],
      "execution_count": 0,
      "outputs": [
        {
          "output_type": "stream",
          "text": [
            "Number of words in GloVe vocabulary:  84222\n"
          ],
          "name": "stdout"
        }
      ]
    },
    {
      "cell_type": "code",
      "metadata": {
        "id": "0-GD8_R3aHJK",
        "colab_type": "code",
        "colab": {}
      },
      "source": [
        "#Form the embedding matrix\n",
        "embedding_matrix = py.zeros((107331, 100))\n",
        "for word, i in tokenizer_obj.word_index.items():\n",
        "\tembedding_vector = embeddings_index.get(word)\n",
        "\tif embedding_vector is not None:\n",
        "\t\tembedding_matrix[i] = embedding_vector"
      ],
      "execution_count": 0,
      "outputs": []
    },
    {
      "cell_type": "code",
      "metadata": {
        "id": "SUeHUsj6qm0m",
        "colab_type": "code",
        "colab": {}
      },
      "source": [
        "def create_model():\n",
        "  model_glove2 = Sequential()\n",
        "  e = Embedding(107331, 100, weights=[embedding_matrix], input_length=19, trainable=False)\n",
        "  model_glove2.add(e)\n",
        "  model_glove2.add(GRU(units=32, dropout= 0.2, recurrent_dropout = 0.2))\n",
        "  model_glove2.add(Dense(1, activation='sigmoid'))\n",
        "  model_glove2.compile(optimizer='adam', loss='binary_crossentropy', metrics=['acc'])\n",
        "  return model_glove2"
      ],
      "execution_count": 0,
      "outputs": []
    },
    {
      "cell_type": "code",
      "metadata": {
        "id": "yF8TOii-iNw9",
        "colab_type": "code",
        "colab": {}
      },
      "source": [
        "def report(results, n_top=3):\n",
        "    for i in range(1, n_top + 1):\n",
        "        candidates = np.flatnonzero(results['rank_test_score'] == i)\n",
        "        for candidate in candidates:\n",
        "            print(\"Model with rank: {0}\".format(i))\n",
        "            print(\"Mean validation score: {0:.3f} (std: {1:.3f})\".format(\n",
        "                  results['mean_test_score'][candidate],\n",
        "                  results['std_test_score'][candidate]))\n",
        "            print(\"Parameters: {0}\".format(results['params'][candidate]))\n",
        "            print(\"\")"
      ],
      "execution_count": 0,
      "outputs": []
    },
    {
      "cell_type": "code",
      "metadata": {
        "id": "KmdplwdVrGZl",
        "colab_type": "code",
        "outputId": "b8374f17-bf42-4ee5-a2eb-ac587622fda5",
        "colab": {
          "base_uri": "https://localhost:8080/",
          "height": 321
        }
      },
      "source": [
        "#This takes very long due to Grid Search\n",
        "from sklearn.model_selection import GridSearchCV\n",
        "from keras.wrappers.scikit_learn import KerasClassifier\n",
        "\n",
        "model_glove2 = KerasClassifier(build_fn=create_model, verbose=0)\n",
        "batch_size = [10, 20, 40, 60, 80, 100]\n",
        "epochs = [10, 50, 100]\n",
        "param_grid = dict(batch_size=batch_size, epochs=epochs)\n",
        "grid = GridSearchCV(estimator=model_glove2, param_grid=param_grid, n_jobs=-1)\n",
        "grid_result = grid.fit(x_train_p, y_train)\n",
        "report(grid_result.cv_results_)"
      ],
      "execution_count": 0,
      "outputs": [
        {
          "output_type": "stream",
          "text": [
            "/usr/local/lib/python3.6/dist-packages/sklearn/model_selection/_split.py:2053: FutureWarning: You should specify a value for 'cv' instead of relying on the default value. The default value will change from 3 to 5 in version 0.22.\n",
            "  warnings.warn(CV_WARNING, FutureWarning)\n",
            "/usr/local/lib/python3.6/dist-packages/sklearn/externals/joblib/externals/loky/process_executor.py:706: UserWarning: A worker stopped while some jobs were given to the executor. This can be caused by a too short worker timeout or by a memory leak.\n",
            "  \"timeout or by a memory leak.\", UserWarning\n"
          ],
          "name": "stderr"
        },
        {
          "output_type": "stream",
          "text": [
            "Model with rank: 1\n",
            "Mean validation score: 0.834 (std: 0.017)\n",
            "Parameters: {'batch_size': 100, 'epochs': 100}\n",
            "\n",
            "Model with rank: 2\n",
            "Mean validation score: 0.833 (std: 0.017)\n",
            "Parameters: {'batch_size': 80, 'epochs': 100}\n",
            "\n",
            "Model with rank: 3\n",
            "Mean validation score: 0.831 (std: 0.008)\n",
            "Parameters: {'batch_size': 20, 'epochs': 100}\n",
            "\n"
          ],
          "name": "stdout"
        }
      ]
    },
    {
      "cell_type": "code",
      "metadata": {
        "id": "PCXE0DkfaQiZ",
        "colab_type": "code",
        "outputId": "29124c4e-f11a-45e9-b215-7def28686b08",
        "colab": {
          "base_uri": "https://localhost:8080/",
          "height": 2061
        }
      },
      "source": [
        "from keras.layers import Dense\n",
        "from keras.layers import Flatten\n",
        "\n",
        "#form the model\n",
        "model_glove = Sequential()\n",
        "e = Embedding(107331, 100, weights=[embedding_matrix], input_length=19, trainable=False)\n",
        "model_glove.add(e)\n",
        "model_glove.add(GRU(units=32, dropout= 0.2, recurrent_dropout = 0.2))\n",
        "model_glove.add(Dense(1, activation='sigmoid'))\n",
        "# compile the model\n",
        "model_glove.compile(optimizer='adam', loss='binary_crossentropy', metrics=['acc'])\n",
        "# summarize the model\n",
        "print(model_glove.summary())\n",
        "# fit the model\n",
        "model_glove.fit(x_train_p,y_train,epochs=50, batch_size=20)"
      ],
      "execution_count": 0,
      "outputs": [
        {
          "output_type": "stream",
          "text": [
            "_________________________________________________________________\n",
            "Layer (type)                 Output Shape              Param #   \n",
            "=================================================================\n",
            "embedding_4 (Embedding)      (None, 19, 100)           10733100  \n",
            "_________________________________________________________________\n",
            "gru_4 (GRU)                  (None, 32)                12768     \n",
            "_________________________________________________________________\n",
            "dense_4 (Dense)              (None, 1)                 33        \n",
            "=================================================================\n",
            "Total params: 10,745,901\n",
            "Trainable params: 12,801\n",
            "Non-trainable params: 10,733,100\n",
            "_________________________________________________________________\n",
            "None\n",
            "Epoch 1/50\n",
            "800/800 [==============================] - 2s 2ms/step - loss: 0.6940 - acc: 0.4712\n",
            "Epoch 2/50\n",
            "800/800 [==============================] - 1s 637us/step - loss: 0.6914 - acc: 0.5325\n",
            "Epoch 3/50\n",
            "800/800 [==============================] - 1s 663us/step - loss: 0.6876 - acc: 0.5662\n",
            "Epoch 4/50\n",
            "800/800 [==============================] - 1s 669us/step - loss: 0.6264 - acc: 0.6862\n",
            "Epoch 5/50\n",
            "800/800 [==============================] - 1s 669us/step - loss: 0.5537 - acc: 0.7425\n",
            "Epoch 6/50\n",
            "800/800 [==============================] - 1s 669us/step - loss: 0.4910 - acc: 0.7925\n",
            "Epoch 7/50\n",
            "800/800 [==============================] - 1s 663us/step - loss: 0.4339 - acc: 0.8113\n",
            "Epoch 8/50\n",
            "800/800 [==============================] - 1s 673us/step - loss: 0.4662 - acc: 0.8025\n",
            "Epoch 9/50\n",
            "800/800 [==============================] - 1s 673us/step - loss: 0.4091 - acc: 0.8362\n",
            "Epoch 10/50\n",
            "800/800 [==============================] - 1s 664us/step - loss: 0.3995 - acc: 0.8475\n",
            "Epoch 11/50\n",
            "800/800 [==============================] - 1s 660us/step - loss: 0.3941 - acc: 0.8362\n",
            "Epoch 12/50\n",
            "800/800 [==============================] - 1s 672us/step - loss: 0.3920 - acc: 0.8412\n",
            "Epoch 13/50\n",
            "800/800 [==============================] - 1s 665us/step - loss: 0.3708 - acc: 0.8425\n",
            "Epoch 14/50\n",
            "800/800 [==============================] - 1s 663us/step - loss: 0.3640 - acc: 0.8563\n",
            "Epoch 15/50\n",
            "800/800 [==============================] - 1s 674us/step - loss: 0.3388 - acc: 0.8712\n",
            "Epoch 16/50\n",
            "800/800 [==============================] - 1s 688us/step - loss: 0.3562 - acc: 0.8612\n",
            "Epoch 17/50\n",
            "800/800 [==============================] - 1s 663us/step - loss: 0.3109 - acc: 0.8875\n",
            "Epoch 18/50\n",
            "800/800 [==============================] - 1s 647us/step - loss: 0.2980 - acc: 0.8888\n",
            "Epoch 19/50\n",
            "800/800 [==============================] - 1s 688us/step - loss: 0.3223 - acc: 0.8900\n",
            "Epoch 20/50\n",
            "800/800 [==============================] - 1s 661us/step - loss: 0.2779 - acc: 0.8962\n",
            "Epoch 21/50\n",
            "800/800 [==============================] - 1s 635us/step - loss: 0.2974 - acc: 0.8850\n",
            "Epoch 22/50\n",
            "800/800 [==============================] - 1s 656us/step - loss: 0.2878 - acc: 0.8900\n",
            "Epoch 23/50\n",
            "800/800 [==============================] - 1s 662us/step - loss: 0.2612 - acc: 0.9000\n",
            "Epoch 24/50\n",
            "800/800 [==============================] - 1s 648us/step - loss: 0.2728 - acc: 0.9050\n",
            "Epoch 25/50\n",
            "800/800 [==============================] - 1s 641us/step - loss: 0.2525 - acc: 0.9037\n",
            "Epoch 26/50\n",
            "800/800 [==============================] - 1s 637us/step - loss: 0.2646 - acc: 0.9050\n",
            "Epoch 27/50\n",
            "800/800 [==============================] - 1s 650us/step - loss: 0.2756 - acc: 0.9062\n",
            "Epoch 28/50\n",
            "800/800 [==============================] - 1s 678us/step - loss: 0.2539 - acc: 0.9125\n",
            "Epoch 29/50\n",
            "800/800 [==============================] - 1s 660us/step - loss: 0.2371 - acc: 0.9137\n",
            "Epoch 30/50\n",
            "800/800 [==============================] - 1s 688us/step - loss: 0.2337 - acc: 0.9237\n",
            "Epoch 31/50\n",
            "800/800 [==============================] - 1s 666us/step - loss: 0.2486 - acc: 0.9087\n",
            "Epoch 32/50\n",
            "800/800 [==============================] - 1s 690us/step - loss: 0.2316 - acc: 0.9162\n",
            "Epoch 33/50\n",
            "800/800 [==============================] - 1s 655us/step - loss: 0.2262 - acc: 0.9112\n",
            "Epoch 34/50\n",
            "800/800 [==============================] - 1s 678us/step - loss: 0.2354 - acc: 0.9112\n",
            "Epoch 35/50\n",
            "800/800 [==============================] - 1s 685us/step - loss: 0.2059 - acc: 0.9300\n",
            "Epoch 36/50\n",
            "800/800 [==============================] - 1s 664us/step - loss: 0.2042 - acc: 0.9300\n",
            "Epoch 37/50\n",
            "800/800 [==============================] - 1s 666us/step - loss: 0.1995 - acc: 0.9350\n",
            "Epoch 38/50\n",
            "800/800 [==============================] - 1s 664us/step - loss: 0.1916 - acc: 0.9362\n",
            "Epoch 39/50\n",
            "800/800 [==============================] - 1s 668us/step - loss: 0.2068 - acc: 0.9212\n",
            "Epoch 40/50\n",
            "800/800 [==============================] - 1s 652us/step - loss: 0.1690 - acc: 0.9350\n",
            "Epoch 41/50\n",
            "800/800 [==============================] - 1s 680us/step - loss: 0.2046 - acc: 0.9275\n",
            "Epoch 42/50\n",
            "800/800 [==============================] - 1s 658us/step - loss: 0.1812 - acc: 0.9387\n",
            "Epoch 43/50\n",
            "800/800 [==============================] - 1s 677us/step - loss: 0.1724 - acc: 0.9425\n",
            "Epoch 44/50\n",
            "800/800 [==============================] - 1s 667us/step - loss: 0.1632 - acc: 0.9375\n",
            "Epoch 45/50\n",
            "800/800 [==============================] - 1s 661us/step - loss: 0.1639 - acc: 0.9400\n",
            "Epoch 46/50\n",
            "800/800 [==============================] - 1s 662us/step - loss: 0.1579 - acc: 0.9462\n",
            "Epoch 47/50\n",
            "800/800 [==============================] - 1s 655us/step - loss: 0.1430 - acc: 0.9550\n",
            "Epoch 48/50\n",
            "800/800 [==============================] - 1s 650us/step - loss: 0.1508 - acc: 0.9462\n",
            "Epoch 49/50\n",
            "800/800 [==============================] - 1s 677us/step - loss: 0.1515 - acc: 0.9487\n",
            "Epoch 50/50\n",
            "800/800 [==============================] - 1s 667us/step - loss: 0.1420 - acc: 0.9512\n"
          ],
          "name": "stdout"
        },
        {
          "output_type": "execute_result",
          "data": {
            "text/plain": [
              "<keras.callbacks.History at 0x7f7add0de908>"
            ]
          },
          "metadata": {
            "tags": []
          },
          "execution_count": 67
        }
      ]
    },
    {
      "cell_type": "code",
      "metadata": {
        "colab_type": "code",
        "id": "TONHO-_xbOEO",
        "colab": {}
      },
      "source": [
        "#Predict\n",
        "preds = model_glove.predict(x_valid_p)\n",
        "\n",
        "for i in range(len(preds)):\n",
        "  if preds[i] >= 0.5:\n",
        "    preds[i] = 1\n",
        "  else:\n",
        "    preds[i] = 0\n",
        "\n",
        "  "
      ],
      "execution_count": 0,
      "outputs": []
    },
    {
      "cell_type": "code",
      "metadata": {
        "colab_type": "code",
        "id": "sinviFTqbOEY",
        "colab": {}
      },
      "source": [
        "#Form the labels from y_valid\n",
        "labels = np.zeros(len(y_valid))\n",
        "for i in range(len(y_valid)):\n",
        "  labels[i] = int(y_valid.values[i])"
      ],
      "execution_count": 0,
      "outputs": []
    },
    {
      "cell_type": "code",
      "metadata": {
        "colab_type": "code",
        "id": "O-vvALPJbOEd",
        "outputId": "c62f4bf1-b51d-4531-885a-cc06729d0c0e",
        "colab": {
          "base_uri": "https://localhost:8080/",
          "height": 34
        }
      },
      "source": [
        "#Analyse\n",
        "from sklearn.metrics import f1_score\n",
        "print(\"F1 score for the negative class \", f1_score(labels, preds,average=None)[0])\n"
      ],
      "execution_count": 0,
      "outputs": [
        {
          "output_type": "stream",
          "text": [
            "F1 score for the negative class  0.8224299065420562\n"
          ],
          "name": "stdout"
        }
      ]
    },
    {
      "cell_type": "markdown",
      "metadata": {
        "id": "i-CtAlnr0Wc1",
        "colab_type": "text"
      },
      "source": [
        "## **Multinomial Naive Bayes**"
      ]
    },
    {
      "cell_type": "markdown",
      "metadata": {
        "id": "aF8ofOKkatPQ",
        "colab_type": "text"
      },
      "source": [
        "We will not use neural word embeddings with Naive Bayes as it does not allow negative values as an input. "
      ]
    },
    {
      "cell_type": "markdown",
      "metadata": {
        "id": "xJdckGgKTWgc",
        "colab_type": "text"
      },
      "source": [
        "### **1. Naive Bayes using Bag of Words**"
      ]
    },
    {
      "cell_type": "code",
      "metadata": {
        "id": "hPd890bvQ4zp",
        "colab_type": "code",
        "colab": {}
      },
      "source": [
        "#Train the Multinomial Naive Bayes Classifier with Bag of Words Features\n",
        "from sklearn.naive_bayes import MultinomialNB\n",
        "clfnb = MultinomialNB().fit(bow, y_train.values)"
      ],
      "execution_count": 0,
      "outputs": []
    },
    {
      "cell_type": "code",
      "metadata": {
        "id": "vWSvng5k3wc6",
        "colab_type": "code",
        "outputId": "81e272a9-eb6e-4c57-afec-1a36ca2fdbd6",
        "colab": {
          "base_uri": "https://localhost:8080/",
          "height": 123
        }
      },
      "source": [
        "#Prepare the test data for prediction by putting it into Bag of Words Format\n",
        "myDataPreprocessing(x_valid)\n",
        "bow_test = ComputeBOW(x_valid)"
      ],
      "execution_count": 0,
      "outputs": [
        {
          "output_type": "stream",
          "text": [
            "/usr/local/lib/python3.6/dist-packages/ipykernel_launcher.py:6: SettingWithCopyWarning: \n",
            "A value is trying to be set on a copy of a slice from a DataFrame.\n",
            "Try using .loc[row_indexer,col_indexer] = value instead\n",
            "\n",
            "See the caveats in the documentation: http://pandas.pydata.org/pandas-docs/stable/indexing.html#indexing-view-versus-copy\n",
            "  \n"
          ],
          "name": "stderr"
        }
      ]
    },
    {
      "cell_type": "code",
      "metadata": {
        "id": "0CbgDfX0Ru8I",
        "colab_type": "code",
        "colab": {}
      },
      "source": [
        "#Predict\n",
        "predicted = clfnb.predict(bow_test)"
      ],
      "execution_count": 0,
      "outputs": []
    },
    {
      "cell_type": "code",
      "metadata": {
        "id": "EIC_WDbNyzxm",
        "colab_type": "code",
        "outputId": "c218acd6-28a8-4121-8ae8-0224d95875f0",
        "colab": {
          "base_uri": "https://localhost:8080/",
          "height": 34
        }
      },
      "source": [
        "from sklearn.metrics import f1_score\n",
        "print(\"F1 score for the negative class \", f1_score(labels, preds,average=None)[0])"
      ],
      "execution_count": 0,
      "outputs": [
        {
          "output_type": "stream",
          "text": [
            "F1 score for the negative class  0.8224299065420562\n"
          ],
          "name": "stdout"
        }
      ]
    },
    {
      "cell_type": "markdown",
      "metadata": {
        "id": "pWGXmmjVTq5s",
        "colab_type": "text"
      },
      "source": [
        "### **2. Naive Bayes using TFIDF**"
      ]
    },
    {
      "cell_type": "code",
      "metadata": {
        "colab_type": "code",
        "id": "6aKGtykLTwqo",
        "colab": {}
      },
      "source": [
        "#Train the Multinomial Naive Bayes Classifier with TFIDF features\n",
        "from sklearn.naive_bayes import MultinomialNB\n",
        "clf2 = MultinomialNB().fit(tfidf, y_train.values)"
      ],
      "execution_count": 0,
      "outputs": []
    },
    {
      "cell_type": "code",
      "metadata": {
        "id": "j13j2jurT-I3",
        "colab_type": "code",
        "colab": {}
      },
      "source": [
        "  #Prepare the test data for prediction by extracting its TFIDF features\n",
        "tfidf_test = TFIDF(LogFrequencies(bow_test),IDF(bow_test))"
      ],
      "execution_count": 0,
      "outputs": []
    },
    {
      "cell_type": "code",
      "metadata": {
        "id": "PKwAeS_wULjH",
        "colab_type": "code",
        "colab": {}
      },
      "source": [
        "#Predict\n",
        "predicted2 = clf2.predict(tfidf_test)"
      ],
      "execution_count": 0,
      "outputs": []
    },
    {
      "cell_type": "code",
      "metadata": {
        "id": "tCo0ASRaUQ9a",
        "colab_type": "code",
        "outputId": "2850b808-1b58-4475-ec98-d0e5198eb3b0",
        "colab": {
          "base_uri": "https://localhost:8080/",
          "height": 70
        }
      },
      "source": [
        "#Analyse\n",
        "from sklearn.metrics import f1_score\n",
        "from sklearn.metrics import confusion_matrix\n",
        "print( \"F1 score for the negative class: \",f1_score(y_valid, predicted2, average=None)[0])\n",
        "print(\"Confusion Matrix: \",confusion_matrix(y_valid, predicted2))"
      ],
      "execution_count": 0,
      "outputs": [
        {
          "output_type": "stream",
          "text": [
            "F1 score for the negative class:  0.7751196172248804\n",
            "Confusion Matrix:  [[81 27]\n",
            " [20 72]]\n"
          ],
          "name": "stdout"
        }
      ]
    },
    {
      "cell_type": "markdown",
      "metadata": {
        "id": "RUGcYeW5VzLK",
        "colab_type": "text"
      },
      "source": [
        "## **Support Vector Machine**"
      ]
    },
    {
      "cell_type": "markdown",
      "metadata": {
        "id": "85zMF4jM8_mD",
        "colab_type": "text"
      },
      "source": [
        "The goal of SVM is to maximize the margin between classes. The main idea behind this is to map the data into a higher dimension. Thanks to the kernels it use, the data does not need to be direcly mapped to a higher dimension but the same outcome can be obtained without mapping. Word2Vec and GloVe also maps the words into high dimensions. That is why TFIDF is used as a feature rather than neural word embeddings. Also, Randomized Grid Search is used to optimize the hyperparameters."
      ]
    },
    {
      "cell_type": "code",
      "metadata": {
        "id": "251ug9Afglaz",
        "colab_type": "code",
        "cellView": "both",
        "outputId": "e5bdc41c-3fa4-41c0-ebc9-92b5ea8e5460",
        "colab": {
          "base_uri": "https://localhost:8080/",
          "height": 230
        }
      },
      "source": [
        "#The execution takes long due to randomized search\n",
        "import scipy\n",
        "from sklearn import svm\n",
        "from sklearn.model_selection import RandomizedSearchCV\n",
        "import sklearn\n",
        "clf3 = svm.SVC()\n",
        "param_dist = {'C': scipy.stats.expon(scale=100), 'gamma': scipy.stats.expon(scale=.1),\n",
        "  'kernel': ['rbf'], 'class_weight':['balanced', None]}\n",
        "rand_search = RandomizedSearchCV(clf3, param_distributions=param_dist,n_iter=20, cv=5)\n",
        "rand_search.fit(tfidf, y_train.values)\n",
        "report(rand_search.cv_results_)\n"
      ],
      "execution_count": 0,
      "outputs": [
        {
          "output_type": "stream",
          "text": [
            "Model with rank: 1\n",
            "Mean validation score: 0.815 (std: 0.045)\n",
            "Parameters: {'C': 23.407536652210233, 'class_weight': None, 'gamma': 0.003811492146633252, 'kernel': 'rbf'}\n",
            "\n",
            "Model with rank: 2\n",
            "Mean validation score: 0.791 (std: 0.029)\n",
            "Parameters: {'C': 1.031715481384184, 'class_weight': 'balanced', 'gamma': 0.02003811371148494, 'kernel': 'rbf'}\n",
            "\n",
            "Model with rank: 3\n",
            "Mean validation score: 0.775 (std: 0.037)\n",
            "Parameters: {'C': 200.06036928943223, 'class_weight': 'balanced', 'gamma': 0.025216017848971334, 'kernel': 'rbf'}\n",
            "\n"
          ],
          "name": "stdout"
        }
      ]
    },
    {
      "cell_type": "code",
      "metadata": {
        "id": "teA8OnRWV3k5",
        "colab_type": "code",
        "outputId": "529226be-22dd-42bd-8e81-13e9b0f86394",
        "colab": {
          "base_uri": "https://localhost:8080/",
          "height": 70
        }
      },
      "source": [
        "from sklearn import svm\n",
        "clf3 = svm.SVC(C=13.88933423371426, class_weight=None, gamma=0.015967055411381006).fit(tfidf, y_train.values)\n",
        "predicted3 = clf3.predict(tfidf_test)\n",
        "print(\"F1 score for the negative class: \",f1_score(y_valid, predicted3,average=None)[0])\n",
        "print(\"Confusion Matrix: \",confusion_matrix(y_valid, predicted3))\n"
      ],
      "execution_count": 0,
      "outputs": [
        {
          "output_type": "stream",
          "text": [
            "F1 score for the negative class:  0.8075117370892019\n",
            "Confusion Matrix:  [[86 22]\n",
            " [19 73]]\n"
          ],
          "name": "stdout"
        }
      ]
    },
    {
      "cell_type": "markdown",
      "metadata": {
        "id": "tbhuCsQ24KFw",
        "colab_type": "text"
      },
      "source": [
        "# N-Gram"
      ]
    },
    {
      "cell_type": "markdown",
      "metadata": {
        "id": "rFzO6WmDnRro",
        "colab_type": "text"
      },
      "source": [
        "N-grams are simply all combinations of adjacent words or letters of length n that can be found in source text. Here, aim is to group the review sentences and see if there are any related words that may affect polarity of the review."
      ]
    },
    {
      "cell_type": "code",
      "metadata": {
        "id": "hirAqQ_UNxnz",
        "colab_type": "code",
        "colab": {}
      },
      "source": [
        "import nltk, re, string, collections\n",
        "from nltk.util import ngrams # function for making ngrams\n",
        "from nltk.classify import NaiveBayesClassifier"
      ],
      "execution_count": 0,
      "outputs": []
    },
    {
      "cell_type": "code",
      "metadata": {
        "id": "bDbYgS6SOZyR",
        "colab_type": "code",
        "colab": {}
      },
      "source": [
        "#Train data is split into sentences and their corresponding labels\n",
        "\n",
        "x = yelp['Sentence']\n",
        "y = yelp['Value']"
      ],
      "execution_count": 0,
      "outputs": []
    },
    {
      "cell_type": "code",
      "metadata": {
        "id": "gP7wSkzP0OIC",
        "colab_type": "code",
        "colab": {}
      },
      "source": [
        "#Function for creating n-grams. \n",
        "#This function is different from Natural Language Toolkit function ngrams() in terms of returning value.\n",
        "#It returns dictionary for n-grams to be used for Naive Bayes Classifier.\n",
        "\n",
        "def ngram(words, n):\n",
        "    ngram_vocab = ngrams(words, n)\n",
        "    my_dict = dict([(ng, True) for ng in ngram_vocab])\n",
        "    return my_dict"
      ],
      "execution_count": 0,
      "outputs": []
    },
    {
      "cell_type": "markdown",
      "metadata": {
        "id": "86HYvaImkUQO",
        "colab_type": "text"
      },
      "source": [
        "------------------------------------------\n",
        "\n",
        "**Applying Naive Bayes**\n",
        "\n",
        "\n",
        "---\n",
        "\n"
      ]
    },
    {
      "cell_type": "code",
      "metadata": {
        "id": "euXk4AfEycVb",
        "colab_type": "code",
        "outputId": "d6247a79-b056-4ce6-87e2-70856f433a9b",
        "colab": {
          "base_uri": "https://localhost:8080/",
          "height": 34
        }
      },
      "source": [
        "#1-gram with Naive Bayes Classifier\n",
        "data = []\n",
        "counter = 0\n",
        "for sentt in x:\n",
        "  words = sentt\n",
        "  if y.loc[counter] == '1':\n",
        "    data.append((ngram(words,1), \"positive\")) \n",
        "  if y.loc[counter] == '0':\n",
        "    data.append((ngram(words,1), \"negative\"))   \n",
        "  counter = counter +1\n",
        "    \n",
        "train_set = data[:800]\n",
        "test_set =  data[800:]\n",
        "classifier1 = nltk.NaiveBayesClassifier.train(train_set)\n",
        "accuracy = nltk.classify.util.accuracy(classifier1, test_set)\n",
        "print(\"Accuracy: \",accuracy)"
      ],
      "execution_count": 0,
      "outputs": [
        {
          "output_type": "stream",
          "text": [
            "Accuracy:  0.795\n"
          ],
          "name": "stdout"
        }
      ]
    },
    {
      "cell_type": "code",
      "metadata": {
        "id": "shjn3xDZs426",
        "colab_type": "code",
        "outputId": "57096a78-d5b7-464c-97a3-24b187b70f53",
        "colab": {
          "base_uri": "https://localhost:8080/",
          "height": 603
        }
      },
      "source": [
        "classifier1.show_most_informative_features(32)\n"
      ],
      "execution_count": 0,
      "outputs": [
        {
          "output_type": "stream",
          "text": [
            "Most Informative Features\n",
            "            ('amazing',) = True           positi : negati =     10.0 : 1.0\n",
            "              ('worst',) = True           negati : positi =      8.2 : 1.0\n",
            "               ('dont',) = True           negati : positi =      6.9 : 1.0\n",
            "           ('friendly',) = True           positi : negati =      6.6 : 1.0\n",
            "            ('another',) = True           negati : positi =      6.5 : 1.0\n",
            "               ('love',) = True           positi : negati =      6.4 : 1.0\n",
            "               ('menu',) = True           positi : negati =      6.4 : 1.0\n",
            "               ('nice',) = True           positi : negati =      6.0 : 1.0\n",
            "             ('eating',) = True           negati : positi =      5.6 : 1.0\n",
            "              ('never',) = True           negati : positi =      5.6 : 1.0\n",
            "         ('atmosphere',) = True           positi : negati =      5.4 : 1.0\n",
            "              ('think',) = True           negati : positi =      4.9 : 1.0\n",
            "               ('cold',) = True           negati : positi =      4.8 : 1.0\n",
            "             ('people',) = True           negati : positi =      4.8 : 1.0\n",
            "            ('nothing',) = True           negati : positi =      4.8 : 1.0\n",
            "          ('impressed',) = True           negati : positi =      4.8 : 1.0\n",
            "                ('not',) = True           negati : positi =      4.7 : 1.0\n",
            "               ('much',) = True           negati : positi =      3.9 : 1.0\n",
            "                ('got',) = True           negati : positi =      3.9 : 1.0\n",
            "                ('old',) = True           negati : positi =      3.9 : 1.0\n",
            "              ('clean',) = True           positi : negati =      3.9 : 1.0\n",
            "               ('beer',) = True           positi : negati =      3.9 : 1.0\n",
            "               ('spot',) = True           positi : negati =      3.9 : 1.0\n",
            "             ('always',) = True           positi : negati =      3.5 : 1.0\n",
            "               ('take',) = True           negati : positi =      3.4 : 1.0\n",
            "               ('give',) = True           negati : positi =      3.4 : 1.0\n",
            "          ('attentive',) = True           positi : negati =      3.3 : 1.0\n",
            "              ('every',) = True           positi : negati =      3.3 : 1.0\n",
            "             ('buffet',) = True           positi : negati =      3.3 : 1.0\n",
            "             ('tender',) = True           positi : negati =      3.3 : 1.0\n",
            "              ('spicy',) = True           positi : negati =      3.3 : 1.0\n",
            "             ('inside',) = True           positi : negati =      3.3 : 1.0\n"
          ],
          "name": "stdout"
        }
      ]
    },
    {
      "cell_type": "code",
      "metadata": {
        "id": "FvwLAZwYFOrz",
        "colab_type": "code",
        "outputId": "167f7317-1d36-407a-c8f7-78cb00cde52c",
        "colab": {
          "base_uri": "https://localhost:8080/",
          "height": 34
        }
      },
      "source": [
        "#2-gram with Naive Bayes Classifier\n",
        "data2 = []\n",
        "counter2 = 0\n",
        "for sentt2 in x:\n",
        "  words2 = sentt2\n",
        "  if y.loc[counter2] == '1':\n",
        "    data2.append((ngram(words2,2), 1)) \n",
        "  if y.loc[counter2] == '0':\n",
        "    data2.append((ngram(words2,2), 0))   \n",
        "  counter2 = counter2 +1\n",
        "    \n",
        "train_set2 = data2[:800]\n",
        "test_set2 =  data2[800:]\n",
        "classifier2 = NaiveBayesClassifier.train(train_set2)\n",
        "accuracy2 = nltk.classify.util.accuracy(classifier2, test_set2)\n",
        "print(\"Accuracy: \",accuracy2)"
      ],
      "execution_count": 0,
      "outputs": [
        {
          "output_type": "stream",
          "text": [
            "Accuracy:  0.45\n"
          ],
          "name": "stdout"
        }
      ]
    },
    {
      "cell_type": "code",
      "metadata": {
        "id": "aVeeFIyUFeOd",
        "colab_type": "code",
        "outputId": "3fe6f284-6e12-4666-eaae-d256aef5ff3d",
        "colab": {
          "base_uri": "https://localhost:8080/",
          "height": 70
        }
      },
      "source": [
        "#3-gram with Naive Bayes Classifier\n",
        "data3 = []\n",
        "counter3 = 0\n",
        "for sentt3 in x:\n",
        "  words3 = sentt3\n",
        "  if y.loc[counter3] == '1':\n",
        "    data3.append((ngram(words3,3), \"positive\")) \n",
        "  if y.loc[counter3] == '0':\n",
        "    data3.append((ngram(words3,3), \"negative\"))   \n",
        "  counter3 = counter3 +1\n",
        "    \n",
        "train_set3 = data3[:800]\n",
        "test_set3 =  data3[800:]\n",
        "classifier3 = NaiveBayesClassifier.train(train_set3)\n",
        "accuracy3 = nltk.classify.util.accuracy(classifier3, test_set3)\n",
        "print(\"Accuracy: \",accuracy3)"
      ],
      "execution_count": 0,
      "outputs": [
        {
          "output_type": "stream",
          "text": [
            "Accuracy:  0.28\n"
          ],
          "name": "stdout"
        },
        {
          "output_type": "stream",
          "text": [
            "/usr/local/lib/python3.6/dist-packages/ipykernel_launcher.py:4: DeprecationWarning: generator 'ngrams' raised StopIteration\n",
            "  after removing the cwd from sys.path.\n"
          ],
          "name": "stderr"
        }
      ]
    },
    {
      "cell_type": "code",
      "metadata": {
        "id": "r8FUc-2rFhr8",
        "colab_type": "code",
        "outputId": "cceedb2d-e354-476f-b896-38cccc86b8ba",
        "colab": {
          "base_uri": "https://localhost:8080/",
          "height": 70
        }
      },
      "source": [
        "#4-gram with Naive Bayes Classifier\n",
        "data4 = []\n",
        "counter4 = 0\n",
        "for sentt4 in x:\n",
        "  words4 = sentt4\n",
        "  if y.loc[counter4] == '1':\n",
        "    data4.append((ngram(words4,4), \"positive\")) \n",
        "  if y.loc[counter4] == '0':\n",
        "    data4.append((ngram(words4,4), \"negative\"))   \n",
        "  counter4 = counter4 +1\n",
        "    \n",
        "train_set4 = data4[:800]\n",
        "test_set4 =  data4[800:]\n",
        "classifier4 = NaiveBayesClassifier.train(train_set4)\n",
        "accuracy4 = nltk.classify.util.accuracy(classifier4, test_set4)\n",
        "print(\"Accuracy: \",accuracy4)"
      ],
      "execution_count": 0,
      "outputs": [
        {
          "output_type": "stream",
          "text": [
            "/usr/local/lib/python3.6/dist-packages/ipykernel_launcher.py:4: DeprecationWarning: generator 'ngrams' raised StopIteration\n",
            "  after removing the cwd from sys.path.\n"
          ],
          "name": "stderr"
        },
        {
          "output_type": "stream",
          "text": [
            "Accuracy:  0.255\n"
          ],
          "name": "stdout"
        }
      ]
    },
    {
      "cell_type": "code",
      "metadata": {
        "id": "c2TuqOxwFpLe",
        "colab_type": "code",
        "outputId": "276333ab-e2ed-4bd7-80cc-c7810403c18c",
        "colab": {
          "base_uri": "https://localhost:8080/",
          "height": 70
        }
      },
      "source": [
        "#5-gram with Naive Bayes Classifier\n",
        "data5 = []\n",
        "counter5 = 0\n",
        "for sentt5 in x:\n",
        "  words5 = sentt5\n",
        "  if y.loc[counter5] == '1':\n",
        "    data5.append((ngram(words5,5), \"positive\")) \n",
        "  if y.loc[counter5] == '0':\n",
        "    data5.append((ngram(words5,5), \"negative\"))   \n",
        "  counter5 = counter5 +1\n",
        "    \n",
        "train_set5 = data5[:800]\n",
        "test_set5 =  data5[800:]\n",
        "classifier5 = NaiveBayesClassifier.train(train_set5)\n",
        "accuracy5 = nltk.classify.util.accuracy(classifier5, test_set5)\n",
        "print(\"Accuracy: \",accuracy5)"
      ],
      "execution_count": 0,
      "outputs": [
        {
          "output_type": "stream",
          "text": [
            "/usr/local/lib/python3.6/dist-packages/ipykernel_launcher.py:4: DeprecationWarning: generator 'ngrams' raised StopIteration\n",
            "  after removing the cwd from sys.path.\n"
          ],
          "name": "stderr"
        },
        {
          "output_type": "stream",
          "text": [
            "Accuracy:  0.245\n"
          ],
          "name": "stdout"
        }
      ]
    },
    {
      "cell_type": "markdown",
      "metadata": {
        "id": "1aB1yCTEldvh",
        "colab_type": "text"
      },
      "source": [
        "Since our dataset is very small, best result is obtained from 1-gram."
      ]
    },
    {
      "cell_type": "markdown",
      "metadata": {
        "id": "pOl_gyEJ_7VC",
        "colab_type": "text"
      },
      "source": [
        "# Phrase Modelling "
      ]
    },
    {
      "cell_type": "markdown",
      "metadata": {
        "id": "RnGhdb2RAAPU",
        "colab_type": "text"
      },
      "source": [
        "Another thing that can be implemented with Gensim library is phrase detection. It is similar to n-gram, but instead of getting all the n-gram by sliding the window, it detects frequently-used phrases and sticks them together. "
      ]
    },
    {
      "cell_type": "code",
      "metadata": {
        "id": "MUa9-b054PO_",
        "colab_type": "code",
        "outputId": "fa3e96fa-7dc4-414f-bdcf-a83c2a8bb6c8",
        "colab": {
          "base_uri": "https://localhost:8080/",
          "height": 197
        }
      },
      "source": [
        "yelp.head()"
      ],
      "execution_count": 0,
      "outputs": [
        {
          "output_type": "execute_result",
          "data": {
            "text/html": [
              "<div>\n",
              "<style scoped>\n",
              "    .dataframe tbody tr th:only-of-type {\n",
              "        vertical-align: middle;\n",
              "    }\n",
              "\n",
              "    .dataframe tbody tr th {\n",
              "        vertical-align: top;\n",
              "    }\n",
              "\n",
              "    .dataframe thead th {\n",
              "        text-align: right;\n",
              "    }\n",
              "</style>\n",
              "<table border=\"1\" class=\"dataframe\">\n",
              "  <thead>\n",
              "    <tr style=\"text-align: right;\">\n",
              "      <th></th>\n",
              "      <th>Sentence</th>\n",
              "      <th>Value</th>\n",
              "      <th>POStags</th>\n",
              "    </tr>\n",
              "  </thead>\n",
              "  <tbody>\n",
              "    <tr>\n",
              "      <th>0</th>\n",
              "      <td>[wow, loved, place]</td>\n",
              "      <td>1</td>\n",
              "      <td>[(wow, NN), (loved, VBD), (place, NN)]</td>\n",
              "    </tr>\n",
              "    <tr>\n",
              "      <th>1</th>\n",
              "      <td>[crust, not, good]</td>\n",
              "      <td>0</td>\n",
              "      <td>[(crust, NN), (not, RB), (good, JJ)]</td>\n",
              "    </tr>\n",
              "    <tr>\n",
              "      <th>2</th>\n",
              "      <td>[not, tasty, texture, nasty]</td>\n",
              "      <td>0</td>\n",
              "      <td>[(not, RB), (tasty, JJ), (texture, NN), (nasty...</td>\n",
              "    </tr>\n",
              "    <tr>\n",
              "      <th>3</th>\n",
              "      <td>[stopped, late, may, bank, holiday, rick, stev...</td>\n",
              "      <td>1</td>\n",
              "      <td>[(stopped, VBN), (late, JJ), (may, MD), (bank,...</td>\n",
              "    </tr>\n",
              "    <tr>\n",
              "      <th>4</th>\n",
              "      <td>[selection, menu, great, price]</td>\n",
              "      <td>1</td>\n",
              "      <td>[(selection, NN), (menu, RB), (great, JJ), (pr...</td>\n",
              "    </tr>\n",
              "  </tbody>\n",
              "</table>\n",
              "</div>"
            ],
            "text/plain": [
              "                                            Sentence Value  \\\n",
              "0                                [wow, loved, place]     1   \n",
              "1                                 [crust, not, good]     0   \n",
              "2                       [not, tasty, texture, nasty]     0   \n",
              "3  [stopped, late, may, bank, holiday, rick, stev...     1   \n",
              "4                    [selection, menu, great, price]     1   \n",
              "\n",
              "                                             POStags  \n",
              "0             [(wow, NN), (loved, VBD), (place, NN)]  \n",
              "1               [(crust, NN), (not, RB), (good, JJ)]  \n",
              "2  [(not, RB), (tasty, JJ), (texture, NN), (nasty...  \n",
              "3  [(stopped, VBN), (late, JJ), (may, MD), (bank,...  \n",
              "4  [(selection, NN), (menu, RB), (great, JJ), (pr...  "
            ]
          },
          "metadata": {
            "tags": []
          },
          "execution_count": 90
        }
      ]
    },
    {
      "cell_type": "code",
      "metadata": {
        "colab_type": "code",
        "id": "cOAEfjengoNU",
        "colab": {}
      },
      "source": [
        "#Train data is split into sentences and their corresponding labels\n",
        "\n",
        "x = yelp['Sentence']\n",
        "y = yelp['Value']"
      ],
      "execution_count": 0,
      "outputs": []
    },
    {
      "cell_type": "code",
      "metadata": {
        "id": "QRA-UMBADHvN",
        "colab_type": "code",
        "colab": {}
      },
      "source": [
        "#Preprocessed sentences are converted to strings and inserted to a dataframe for tokenization.\n",
        "\n",
        "yelpDF = pd.DataFrame(data=None, index=None, columns=['Sentence']) \n",
        "\n",
        "for i in x:\n",
        "  new_string=\"\"\n",
        " \n",
        "  for word in i:\n",
        "    new_string+=(word+\" \")\n",
        "  row = pd.Series(new_string, index=['Sentence'])\n",
        "  yelpDF = yelpDF.append(row, ignore_index = True)\n"
      ],
      "execution_count": 0,
      "outputs": []
    },
    {
      "cell_type": "code",
      "metadata": {
        "id": "rcdXQ_0BKDB-",
        "colab_type": "code",
        "colab": {}
      },
      "source": [
        "X = yelpDF"
      ],
      "execution_count": 0,
      "outputs": []
    },
    {
      "cell_type": "code",
      "metadata": {
        "id": "vuZsR2F1JAW5",
        "colab_type": "code",
        "outputId": "571f04cf-7b57-4998-baf5-8a6ef0513fc2",
        "colab": {
          "base_uri": "https://localhost:8080/",
          "height": 197
        }
      },
      "source": [
        "X.head()"
      ],
      "execution_count": 0,
      "outputs": [
        {
          "output_type": "execute_result",
          "data": {
            "text/html": [
              "<div>\n",
              "<style scoped>\n",
              "    .dataframe tbody tr th:only-of-type {\n",
              "        vertical-align: middle;\n",
              "    }\n",
              "\n",
              "    .dataframe tbody tr th {\n",
              "        vertical-align: top;\n",
              "    }\n",
              "\n",
              "    .dataframe thead th {\n",
              "        text-align: right;\n",
              "    }\n",
              "</style>\n",
              "<table border=\"1\" class=\"dataframe\">\n",
              "  <thead>\n",
              "    <tr style=\"text-align: right;\">\n",
              "      <th></th>\n",
              "      <th>Sentence</th>\n",
              "    </tr>\n",
              "  </thead>\n",
              "  <tbody>\n",
              "    <tr>\n",
              "      <th>0</th>\n",
              "      <td>wow loved place</td>\n",
              "    </tr>\n",
              "    <tr>\n",
              "      <th>1</th>\n",
              "      <td>crust not good</td>\n",
              "    </tr>\n",
              "    <tr>\n",
              "      <th>2</th>\n",
              "      <td>not tasty texture nasty</td>\n",
              "    </tr>\n",
              "    <tr>\n",
              "      <th>3</th>\n",
              "      <td>stopped late may bank holiday rick steve recom...</td>\n",
              "    </tr>\n",
              "    <tr>\n",
              "      <th>4</th>\n",
              "      <td>selection menu great price</td>\n",
              "    </tr>\n",
              "  </tbody>\n",
              "</table>\n",
              "</div>"
            ],
            "text/plain": [
              "                                            Sentence\n",
              "0                                   wow loved place \n",
              "1                                    crust not good \n",
              "2                           not tasty texture nasty \n",
              "3  stopped late may bank holiday rick steve recom...\n",
              "4                        selection menu great price "
            ]
          },
          "metadata": {
            "tags": []
          },
          "execution_count": 94
        }
      ]
    },
    {
      "cell_type": "code",
      "metadata": {
        "id": "0shod1JY6Dh5",
        "colab_type": "code",
        "colab": {}
      },
      "source": [
        "x_train1, x_validation1, y_train1, y_validation1 = train_test_split(X['Sentence'], y, test_size=0.2)"
      ],
      "execution_count": 0,
      "outputs": []
    },
    {
      "cell_type": "markdown",
      "metadata": {
        "id": "anE_sHccn5VU",
        "colab_type": "text"
      },
      "source": [
        "## Creating Bigram and Trigram"
      ]
    },
    {
      "cell_type": "code",
      "metadata": {
        "id": "QQ97Iy3j6DKA",
        "colab_type": "code",
        "colab": {}
      },
      "source": [
        "#Importing Gensim Libraries\n",
        "import gensim.models.phrases\n",
        "from gensim.models.phrases import Phrases\n",
        "from gensim.models.phrases import Phraser\n",
        "from gensim.models import  word2vec"
      ],
      "execution_count": 0,
      "outputs": []
    },
    {
      "cell_type": "code",
      "metadata": {
        "id": "VWbwLpdAOpSb",
        "colab_type": "code",
        "colab": {}
      },
      "source": [
        "#Sentences are splitted for tokenization\n",
        "tokenized_train = [t.split() for t in x_train1]"
      ],
      "execution_count": 0,
      "outputs": []
    },
    {
      "cell_type": "code",
      "metadata": {
        "id": "tmI584IEQJ8N",
        "colab_type": "code",
        "colab": {}
      },
      "source": [
        "max_l = max([len(s.split()) for s in X['Sentence']])\n",
        "vocab_size1 = len(tokenizer_obj.word_index) +1\n",
        "\n",
        "#Tokenize and pad train and test data seperately.\n",
        "x_trainT = tokenizer_obj.texts_to_sequences(x_train1)\n",
        "x_validT = tokenizer_obj.texts_to_sequences(x_validation1)\n",
        "\n",
        "x_trainP = pad_sequences(x_trainT, maxlen = max_l, padding='post')\n",
        "x_validP = pad_sequences(x_validT, maxlen = max_l, padding='post')"
      ],
      "execution_count": 0,
      "outputs": []
    },
    {
      "cell_type": "code",
      "metadata": {
        "id": "EfryN_zrAJnz",
        "colab_type": "code",
        "colab": {}
      },
      "source": [
        "#Creating bigrams and trigram using Phrases and Phraser from Gensim\n",
        "phrases = Phrases(tokenized_train) \n",
        "bigram = Phraser(phrases)\n",
        "trigram = Phrases(bigram[tokenized_train])"
      ],
      "execution_count": 0,
      "outputs": []
    },
    {
      "cell_type": "markdown",
      "metadata": {
        "id": "WmJw5FK5nWKW",
        "colab_type": "text"
      },
      "source": [
        "\n",
        "\n",
        "---\n",
        "\n",
        "\n",
        "\n",
        "\n",
        "\n",
        "---\n",
        "\n",
        "### Word2vec"
      ]
    },
    {
      "cell_type": "code",
      "metadata": {
        "id": "Xnyo3YLiQYMh",
        "colab_type": "code",
        "colab": {}
      },
      "source": [
        "#Word2vec is trained with bigram\n",
        "bigram[tokenized_train]\n",
        "modelB = word2vec.Word2Vec(bigram[tokenized_train], size=100, min_count=10, iter=20)"
      ],
      "execution_count": 0,
      "outputs": []
    },
    {
      "cell_type": "code",
      "metadata": {
        "id": "0fUwEFCbRjIF",
        "colab_type": "code",
        "outputId": "cd348228-c93b-4c84-eb9b-8199c61381de",
        "colab": {
          "base_uri": "https://localhost:8080/",
          "height": 250
        }
      },
      "source": [
        "modelB.wv.most_similar('good')"
      ],
      "execution_count": 0,
      "outputs": [
        {
          "output_type": "stream",
          "text": [
            "/usr/local/lib/python3.6/dist-packages/gensim/matutils.py:737: FutureWarning: Conversion of the second argument of issubdtype from `int` to `np.signedinteger` is deprecated. In future, it will be treated as `np.int64 == np.dtype(int).type`.\n",
            "  if np.issubdtype(vec.dtype, np.int):\n"
          ],
          "name": "stderr"
        },
        {
          "output_type": "execute_result",
          "data": {
            "text/plain": [
              "[('time', 0.8893240690231323),\n",
              " ('place', 0.8855106830596924),\n",
              " ('not', 0.8763890862464905),\n",
              " ('food', 0.8541725277900696),\n",
              " ('would', 0.8473613262176514),\n",
              " ('taste', 0.8440192937850952),\n",
              " ('burger', 0.835328221321106),\n",
              " ('even', 0.8307396173477173),\n",
              " ('salad', 0.8299721479415894),\n",
              " ('service', 0.8297655582427979)]"
            ]
          },
          "metadata": {
            "tags": []
          },
          "execution_count": 101
        }
      ]
    },
    {
      "cell_type": "code",
      "metadata": {
        "id": "lvegxpDwSCEZ",
        "colab_type": "code",
        "outputId": "ab033d8f-4c15-4a4a-ddf8-8bae7b7c8522",
        "colab": {
          "base_uri": "https://localhost:8080/",
          "height": 250
        }
      },
      "source": [
        "modelB.wv.most_similar('not')"
      ],
      "execution_count": 0,
      "outputs": [
        {
          "output_type": "stream",
          "text": [
            "/usr/local/lib/python3.6/dist-packages/gensim/matutils.py:737: FutureWarning: Conversion of the second argument of issubdtype from `int` to `np.signedinteger` is deprecated. In future, it will be treated as `np.int64 == np.dtype(int).type`.\n",
            "  if np.issubdtype(vec.dtype, np.int):\n"
          ],
          "name": "stderr"
        },
        {
          "output_type": "execute_result",
          "data": {
            "text/plain": [
              "[('time', 0.9361487030982971),\n",
              " ('place', 0.9264581203460693),\n",
              " ('food', 0.9132956266403198),\n",
              " ('service', 0.8977912664413452),\n",
              " ('back', 0.8926221132278442),\n",
              " ('burger', 0.890794575214386),\n",
              " ('would', 0.8847935199737549),\n",
              " ('good', 0.8763890862464905),\n",
              " ('taste', 0.8740497827529907),\n",
              " ('well', 0.8632289171218872)]"
            ]
          },
          "metadata": {
            "tags": []
          },
          "execution_count": 102
        }
      ]
    },
    {
      "cell_type": "code",
      "metadata": {
        "id": "Kn3T7Ry3SNmN",
        "colab_type": "code",
        "outputId": "13ab954e-c5c2-4cb8-ab0e-46c5b958e4f4",
        "colab": {
          "base_uri": "https://localhost:8080/",
          "height": 250
        }
      },
      "source": [
        "modelB.wv.most_similar('bad')"
      ],
      "execution_count": 0,
      "outputs": [
        {
          "output_type": "stream",
          "text": [
            "/usr/local/lib/python3.6/dist-packages/gensim/matutils.py:737: FutureWarning: Conversion of the second argument of issubdtype from `int` to `np.signedinteger` is deprecated. In future, it will be treated as `np.int64 == np.dtype(int).type`.\n",
            "  if np.issubdtype(vec.dtype, np.int):\n"
          ],
          "name": "stderr"
        },
        {
          "output_type": "execute_result",
          "data": {
            "text/plain": [
              "[('sushi', 0.7534147500991821),\n",
              " ('time', 0.73964524269104),\n",
              " ('place', 0.7338544130325317),\n",
              " ('well', 0.7300328612327576),\n",
              " ('food', 0.72318434715271),\n",
              " ('not', 0.7206611633300781),\n",
              " ('back', 0.71816086769104),\n",
              " ('wait', 0.711316704750061),\n",
              " ('taste', 0.7084965109825134),\n",
              " ('ever', 0.705784022808075)]"
            ]
          },
          "metadata": {
            "tags": []
          },
          "execution_count": 103
        }
      ]
    },
    {
      "cell_type": "code",
      "metadata": {
        "id": "SICF3z-3MsS5",
        "colab_type": "code",
        "colab": {}
      },
      "source": [
        "#save the model\n",
        "filename = \"w2vBigram.txt\"\n",
        "modelB.wv.save_word2vec_format(filename, binary = False)"
      ],
      "execution_count": 0,
      "outputs": []
    },
    {
      "cell_type": "code",
      "metadata": {
        "id": "S4HHTVRXNZDV",
        "colab_type": "code",
        "colab": {}
      },
      "source": [
        "#Get feature vectors\n",
        "fileB = open(\"w2vBigram.txt\",encoding=\"utf-8\")\n",
        "embeddings_index_B = {}\n",
        "for lineb in fileB:\n",
        "  valuesB = lineb.split()\n",
        "  wordB = valuesB[0]\n",
        "  coefsB = np.asarray(valuesB[1:])\n",
        "  embeddings_index_B[wordB] = coefsB\n",
        "fileB.close()"
      ],
      "execution_count": 0,
      "outputs": []
    },
    {
      "cell_type": "code",
      "metadata": {
        "id": "ozUFvducOKur",
        "colab_type": "code",
        "colab": {}
      },
      "source": [
        "#Construct the embedding matrix\n",
        "embedding_matrix_B = py.zeros((vocab_size,100))\n",
        "\n",
        "for word, i in tokenizer_obj.word_index.items():\n",
        "  row = embeddings_index_B.get(word)\n",
        "  if row is not None:\n",
        "    embedding_matrix_B[i] = row\n",
        "  "
      ],
      "execution_count": 0,
      "outputs": []
    },
    {
      "cell_type": "code",
      "metadata": {
        "id": "cI0_RrJyOhmR",
        "colab_type": "code",
        "outputId": "4be1aa97-4880-4444-b58d-99680b1998c8",
        "colab": {
          "base_uri": "https://localhost:8080/",
          "height": 1794
        }
      },
      "source": [
        "#Construct the model\n",
        "embeddingLayerB = Embedding(vocab_size,100,embeddings_initializer=keras.initializers.Constant(embedding_matrix_B), input_length = max_length, trainable = False)\n",
        "\n",
        "model_B_w2v = Sequential()\n",
        "model_B_w2v.add(embeddingLayerB)\n",
        "model_B_w2v.add(GRU(units=32, dropout= 0.2, recurrent_dropout = 0.2))\n",
        "model_B_w2v.add(Dense(1,activation= 'sigmoid'))\n",
        "\n",
        "model_B_w2v.compile(loss='binary_crossentropy', optimizer='adam', metrics = ['accuracy'])\n",
        "model_B_w2v.fit(x_trainP,y_train1,epochs=50, batch_size=50)\n",
        "preds_B_w2v = model_B_w2v.predict(x_validP)"
      ],
      "execution_count": 0,
      "outputs": [
        {
          "output_type": "stream",
          "text": [
            "Epoch 1/50\n",
            "800/800 [==============================] - 2s 2ms/step - loss: 0.6934 - acc: 0.5000\n",
            "Epoch 2/50\n",
            "800/800 [==============================] - 0s 368us/step - loss: 0.6933 - acc: 0.4775\n",
            "Epoch 3/50\n",
            "800/800 [==============================] - 0s 375us/step - loss: 0.6932 - acc: 0.4900\n",
            "Epoch 4/50\n",
            "800/800 [==============================] - 0s 371us/step - loss: 0.6933 - acc: 0.5013\n",
            "Epoch 5/50\n",
            "800/800 [==============================] - 0s 372us/step - loss: 0.6934 - acc: 0.4725\n",
            "Epoch 6/50\n",
            "800/800 [==============================] - 0s 366us/step - loss: 0.6933 - acc: 0.4987\n",
            "Epoch 7/50\n",
            "800/800 [==============================] - 0s 362us/step - loss: 0.6932 - acc: 0.5012\n",
            "Epoch 8/50\n",
            "800/800 [==============================] - 0s 362us/step - loss: 0.6932 - acc: 0.5012\n",
            "Epoch 9/50\n",
            "800/800 [==============================] - 0s 386us/step - loss: 0.6932 - acc: 0.4888\n",
            "Epoch 10/50\n",
            "800/800 [==============================] - 0s 358us/step - loss: 0.6932 - acc: 0.4788\n",
            "Epoch 11/50\n",
            "800/800 [==============================] - 0s 366us/step - loss: 0.6931 - acc: 0.5013\n",
            "Epoch 12/50\n",
            "800/800 [==============================] - 0s 365us/step - loss: 0.6932 - acc: 0.5012\n",
            "Epoch 13/50\n",
            "800/800 [==============================] - 0s 390us/step - loss: 0.6932 - acc: 0.5013\n",
            "Epoch 14/50\n",
            "800/800 [==============================] - 0s 352us/step - loss: 0.6932 - acc: 0.5012\n",
            "Epoch 15/50\n",
            "800/800 [==============================] - 0s 356us/step - loss: 0.6933 - acc: 0.4813\n",
            "Epoch 16/50\n",
            "800/800 [==============================] - 0s 358us/step - loss: 0.6931 - acc: 0.4925\n",
            "Epoch 17/50\n",
            "800/800 [==============================] - 0s 360us/step - loss: 0.6930 - acc: 0.4938\n",
            "Epoch 18/50\n",
            "800/800 [==============================] - 0s 353us/step - loss: 0.6934 - acc: 0.4775\n",
            "Epoch 19/50\n",
            "800/800 [==============================] - 0s 360us/step - loss: 0.6930 - acc: 0.5225\n",
            "Epoch 20/50\n",
            "800/800 [==============================] - 0s 351us/step - loss: 0.6931 - acc: 0.4975\n",
            "Epoch 21/50\n",
            "800/800 [==============================] - 0s 348us/step - loss: 0.6924 - acc: 0.5050\n",
            "Epoch 22/50\n",
            "800/800 [==============================] - 0s 361us/step - loss: 0.6919 - acc: 0.5212\n",
            "Epoch 23/50\n",
            "800/800 [==============================] - 0s 362us/step - loss: 0.6919 - acc: 0.5200\n",
            "Epoch 24/50\n",
            "800/800 [==============================] - 0s 353us/step - loss: 0.6902 - acc: 0.5187\n",
            "Epoch 25/50\n",
            "800/800 [==============================] - 0s 352us/step - loss: 0.6925 - acc: 0.5225\n",
            "Epoch 26/50\n",
            "800/800 [==============================] - 0s 362us/step - loss: 0.6914 - acc: 0.5300\n",
            "Epoch 27/50\n",
            "800/800 [==============================] - 0s 375us/step - loss: 0.6918 - acc: 0.5150\n",
            "Epoch 28/50\n",
            "800/800 [==============================] - 0s 388us/step - loss: 0.6895 - acc: 0.5238\n",
            "Epoch 29/50\n",
            "800/800 [==============================] - 0s 370us/step - loss: 0.6919 - acc: 0.5200\n",
            "Epoch 30/50\n",
            "800/800 [==============================] - 0s 364us/step - loss: 0.6894 - acc: 0.5300\n",
            "Epoch 31/50\n",
            "800/800 [==============================] - 0s 360us/step - loss: 0.6920 - acc: 0.5238\n",
            "Epoch 32/50\n",
            "800/800 [==============================] - 0s 361us/step - loss: 0.6885 - acc: 0.5200\n",
            "Epoch 33/50\n",
            "800/800 [==============================] - 0s 363us/step - loss: 0.6946 - acc: 0.5112\n",
            "Epoch 34/50\n",
            "800/800 [==============================] - 0s 362us/step - loss: 0.6905 - acc: 0.5287\n",
            "Epoch 35/50\n",
            "800/800 [==============================] - 0s 355us/step - loss: 0.6890 - acc: 0.5075\n",
            "Epoch 36/50\n",
            "800/800 [==============================] - 0s 369us/step - loss: 0.6900 - acc: 0.5212\n",
            "Epoch 37/50\n",
            "800/800 [==============================] - 0s 363us/step - loss: 0.6889 - acc: 0.5337\n",
            "Epoch 38/50\n",
            "800/800 [==============================] - 0s 366us/step - loss: 0.6879 - acc: 0.5275\n",
            "Epoch 39/50\n",
            "800/800 [==============================] - 0s 368us/step - loss: 0.6920 - acc: 0.5225\n",
            "Epoch 40/50\n",
            "800/800 [==============================] - 0s 362us/step - loss: 0.6880 - acc: 0.5225\n",
            "Epoch 41/50\n",
            "800/800 [==============================] - 0s 357us/step - loss: 0.6888 - acc: 0.5287\n",
            "Epoch 42/50\n",
            "800/800 [==============================] - 0s 365us/step - loss: 0.6897 - acc: 0.5212\n",
            "Epoch 43/50\n",
            "800/800 [==============================] - 0s 368us/step - loss: 0.6906 - acc: 0.5300\n",
            "Epoch 44/50\n",
            "800/800 [==============================] - 0s 361us/step - loss: 0.6906 - acc: 0.5425\n",
            "Epoch 45/50\n",
            "800/800 [==============================] - 0s 350us/step - loss: 0.6874 - acc: 0.5262\n",
            "Epoch 46/50\n",
            "800/800 [==============================] - 0s 359us/step - loss: 0.6861 - acc: 0.5412\n",
            "Epoch 47/50\n",
            "800/800 [==============================] - 0s 368us/step - loss: 0.6874 - acc: 0.5363\n",
            "Epoch 48/50\n",
            "800/800 [==============================] - 0s 382us/step - loss: 0.6879 - acc: 0.5575\n",
            "Epoch 49/50\n",
            "800/800 [==============================] - 0s 360us/step - loss: 0.6833 - acc: 0.5200\n",
            "Epoch 50/50\n",
            "800/800 [==============================] - 0s 364us/step - loss: 0.6769 - acc: 0.5412\n"
          ],
          "name": "stdout"
        }
      ]
    },
    {
      "cell_type": "code",
      "metadata": {
        "id": "pD6-1YpdSUz4",
        "colab_type": "code",
        "colab": {}
      },
      "source": [
        "#Form the labels from y_valid\n",
        "labels1 = np.zeros(len(y_validation1))\n",
        "for i in range(len(y_validation1)):\n",
        "  labels1[i] = int(y_validation1.values[i])"
      ],
      "execution_count": 0,
      "outputs": []
    },
    {
      "cell_type": "code",
      "metadata": {
        "id": "_iQtkdeISkrY",
        "colab_type": "code",
        "outputId": "9fa2573f-9cc5-419a-e77a-8504c970245b",
        "colab": {
          "base_uri": "https://localhost:8080/",
          "height": 34
        }
      },
      "source": [
        "for i in range(len(preds_B_w2v)):\n",
        "  if preds_B_w2v[i] >= 0.5:\n",
        "    preds_B_w2v[i] = 1\n",
        "  else:\n",
        "    preds_B_w2v[i] = 0\n",
        "\n",
        "from sklearn.metrics import f1_score\n",
        "print(\"F1 score for the negative class: \",f1_score(labels1, preds_B_w2v, average=None)[0])"
      ],
      "execution_count": 0,
      "outputs": [
        {
          "output_type": "stream",
          "text": [
            "F1 score for the negative class:  0.4246575342465753\n"
          ],
          "name": "stdout"
        }
      ]
    },
    {
      "cell_type": "markdown",
      "metadata": {
        "id": "_h8LW3W63Oik",
        "colab_type": "text"
      },
      "source": [
        "\n",
        "\n",
        "---\n",
        "\n"
      ]
    },
    {
      "cell_type": "code",
      "metadata": {
        "id": "EGxpj5FToQOV",
        "colab_type": "code",
        "outputId": "f054de8b-9821-48da-9b8c-a2aad221da4f",
        "colab": {
          "base_uri": "https://localhost:8080/",
          "height": 52
        }
      },
      "source": [
        "#Word2vec is trained with trigram\n",
        "modelT = word2vec.Word2Vec(trigram[tokenized_train], size=100, min_count=10, iter=20)"
      ],
      "execution_count": 0,
      "outputs": [
        {
          "output_type": "stream",
          "text": [
            "/usr/local/lib/python3.6/dist-packages/gensim/models/phrases.py:598: UserWarning: For a faster implementation, use the gensim.models.phrases.Phraser class\n",
            "  warnings.warn(\"For a faster implementation, use the gensim.models.phrases.Phraser class\")\n"
          ],
          "name": "stderr"
        }
      ]
    },
    {
      "cell_type": "code",
      "metadata": {
        "id": "1pk29sq5oVC6",
        "colab_type": "code",
        "outputId": "6c99c3d7-c505-4c6b-bd68-9222eab2bf45",
        "colab": {
          "base_uri": "https://localhost:8080/",
          "height": 250
        }
      },
      "source": [
        "modelT.wv.most_similar('good')"
      ],
      "execution_count": 0,
      "outputs": [
        {
          "output_type": "stream",
          "text": [
            "/usr/local/lib/python3.6/dist-packages/gensim/matutils.py:737: FutureWarning: Conversion of the second argument of issubdtype from `int` to `np.signedinteger` is deprecated. In future, it will be treated as `np.int64 == np.dtype(int).type`.\n",
            "  if np.issubdtype(vec.dtype, np.int):\n"
          ],
          "name": "stderr"
        },
        {
          "output_type": "execute_result",
          "data": {
            "text/plain": [
              "[('time', 0.8893240690231323),\n",
              " ('place', 0.8855106830596924),\n",
              " ('not', 0.8763890862464905),\n",
              " ('food', 0.8541725277900696),\n",
              " ('would', 0.8473613262176514),\n",
              " ('taste', 0.8440192937850952),\n",
              " ('burger', 0.835328221321106),\n",
              " ('even', 0.8307396173477173),\n",
              " ('salad', 0.8299721479415894),\n",
              " ('service', 0.8297655582427979)]"
            ]
          },
          "metadata": {
            "tags": []
          },
          "execution_count": 111
        }
      ]
    },
    {
      "cell_type": "code",
      "metadata": {
        "id": "MDzTAMMwM2m_",
        "colab_type": "code",
        "colab": {}
      },
      "source": [
        "#save the model\n",
        "filename = \"w2vTrigram.txt\"\n",
        "modelT.wv.save_word2vec_format(filename, binary = False)"
      ],
      "execution_count": 0,
      "outputs": []
    },
    {
      "cell_type": "code",
      "metadata": {
        "id": "95y6-H8JN3ox",
        "colab_type": "code",
        "colab": {}
      },
      "source": [
        "#Get feature vectors\n",
        "fileT = open(\"w2vTrigram.txt\",encoding=\"utf-8\")\n",
        "embeddings_index_T = {}\n",
        "for linet in fileT:\n",
        "  valuesT = linet.split()\n",
        "  wordT = valuesT[0]\n",
        "  coefsT = np.asarray(valuesT[1:])\n",
        "  embeddings_index_T[wordT] = coefsT\n",
        "fileT.close()"
      ],
      "execution_count": 0,
      "outputs": []
    },
    {
      "cell_type": "code",
      "metadata": {
        "id": "rSIIRwALOUJ6",
        "colab_type": "code",
        "colab": {}
      },
      "source": [
        "#Construct the embedding matrix\n",
        "embedding_matrix_T = py.zeros((vocab_size,100))\n",
        "\n",
        "for word, i in tokenizer_obj.word_index.items():\n",
        "  row = embeddings_index_T.get(word)\n",
        "  if row is not None:\n",
        "    embedding_matrix_T[i] = row\n",
        "  "
      ],
      "execution_count": 0,
      "outputs": []
    },
    {
      "cell_type": "code",
      "metadata": {
        "id": "L_pkGyV4OtqT",
        "colab_type": "code",
        "outputId": "0d583f6d-027e-4b27-be19-d7ffb9f8198f",
        "colab": {
          "base_uri": "https://localhost:8080/",
          "height": 1794
        }
      },
      "source": [
        "#Construct the model\n",
        "embeddingLayerT = Embedding(vocab_size,100,embeddings_initializer=keras.initializers.Constant(embedding_matrix_T), input_length = max_length, trainable = False)\n",
        "\n",
        "model_T_w2v = Sequential()\n",
        "model_T_w2v.add(embeddingLayerT)\n",
        "model_T_w2v.add(GRU(units=32, dropout= 0.2, recurrent_dropout = 0.2))\n",
        "model_T_w2v.add(Dense(1,activation= 'sigmoid'))\n",
        "\n",
        "model_T_w2v.compile(loss='binary_crossentropy', optimizer='adam', metrics = ['accuracy'])\n",
        "model_T_w2v.fit(x_trainP,y_train1,epochs=50, batch_size=50)\n",
        "preds_T_w2v = model_T_w2v.predict(x_validP)"
      ],
      "execution_count": 0,
      "outputs": [
        {
          "output_type": "stream",
          "text": [
            "Epoch 1/50\n",
            "800/800 [==============================] - 2s 2ms/step - loss: 0.6934 - acc: 0.4800\n",
            "Epoch 2/50\n",
            "800/800 [==============================] - 0s 351us/step - loss: 0.6933 - acc: 0.4688\n",
            "Epoch 3/50\n",
            "800/800 [==============================] - 0s 367us/step - loss: 0.6933 - acc: 0.4950\n",
            "Epoch 4/50\n",
            "800/800 [==============================] - 0s 388us/step - loss: 0.6932 - acc: 0.5012\n",
            "Epoch 5/50\n",
            "800/800 [==============================] - 0s 372us/step - loss: 0.6932 - acc: 0.4837\n",
            "Epoch 6/50\n",
            "800/800 [==============================] - 0s 355us/step - loss: 0.6932 - acc: 0.4587\n",
            "Epoch 7/50\n",
            "800/800 [==============================] - 0s 360us/step - loss: 0.6932 - acc: 0.4987\n",
            "Epoch 8/50\n",
            "800/800 [==============================] - 0s 363us/step - loss: 0.6932 - acc: 0.4937\n",
            "Epoch 9/50\n",
            "800/800 [==============================] - 0s 368us/step - loss: 0.6932 - acc: 0.5012\n",
            "Epoch 10/50\n",
            "800/800 [==============================] - 0s 365us/step - loss: 0.6931 - acc: 0.5013\n",
            "Epoch 11/50\n",
            "800/800 [==============================] - 0s 360us/step - loss: 0.6932 - acc: 0.4975\n",
            "Epoch 12/50\n",
            "800/800 [==============================] - 0s 360us/step - loss: 0.6932 - acc: 0.4938\n",
            "Epoch 13/50\n",
            "800/800 [==============================] - 0s 362us/step - loss: 0.6934 - acc: 0.4763\n",
            "Epoch 14/50\n",
            "800/800 [==============================] - 0s 364us/step - loss: 0.6932 - acc: 0.5075\n",
            "Epoch 15/50\n",
            "800/800 [==============================] - 0s 364us/step - loss: 0.6929 - acc: 0.4962\n",
            "Epoch 16/50\n",
            "800/800 [==============================] - 0s 367us/step - loss: 0.6927 - acc: 0.4888\n",
            "Epoch 17/50\n",
            "800/800 [==============================] - 0s 357us/step - loss: 0.6925 - acc: 0.5125\n",
            "Epoch 18/50\n",
            "800/800 [==============================] - 0s 356us/step - loss: 0.6926 - acc: 0.4937\n",
            "Epoch 19/50\n",
            "800/800 [==============================] - 0s 378us/step - loss: 0.6907 - acc: 0.4975\n",
            "Epoch 20/50\n",
            "800/800 [==============================] - 0s 358us/step - loss: 0.6929 - acc: 0.5187\n",
            "Epoch 21/50\n",
            "800/800 [==============================] - 0s 354us/step - loss: 0.6950 - acc: 0.5200\n",
            "Epoch 22/50\n",
            "800/800 [==============================] - 0s 360us/step - loss: 0.6927 - acc: 0.5025\n",
            "Epoch 23/50\n",
            "800/800 [==============================] - 0s 392us/step - loss: 0.6925 - acc: 0.5050\n",
            "Epoch 24/50\n",
            "800/800 [==============================] - 0s 348us/step - loss: 0.6928 - acc: 0.5163\n",
            "Epoch 25/50\n",
            "800/800 [==============================] - 0s 364us/step - loss: 0.6923 - acc: 0.5275\n",
            "Epoch 26/50\n",
            "800/800 [==============================] - 0s 375us/step - loss: 0.6924 - acc: 0.4975\n",
            "Epoch 27/50\n",
            "800/800 [==============================] - 0s 373us/step - loss: 0.6927 - acc: 0.5163\n",
            "Epoch 28/50\n",
            "800/800 [==============================] - 0s 365us/step - loss: 0.6923 - acc: 0.5187\n",
            "Epoch 29/50\n",
            "800/800 [==============================] - 0s 363us/step - loss: 0.6919 - acc: 0.5038\n",
            "Epoch 30/50\n",
            "800/800 [==============================] - 0s 359us/step - loss: 0.6917 - acc: 0.4900\n",
            "Epoch 31/50\n",
            "800/800 [==============================] - 0s 359us/step - loss: 0.6907 - acc: 0.5062\n",
            "Epoch 32/50\n",
            "800/800 [==============================] - 0s 359us/step - loss: 0.6922 - acc: 0.5188\n",
            "Epoch 33/50\n",
            "800/800 [==============================] - 0s 368us/step - loss: 0.6924 - acc: 0.5163\n",
            "Epoch 34/50\n",
            "800/800 [==============================] - 0s 361us/step - loss: 0.6922 - acc: 0.5175\n",
            "Epoch 35/50\n",
            "800/800 [==============================] - 0s 367us/step - loss: 0.6916 - acc: 0.5213\n",
            "Epoch 36/50\n",
            "800/800 [==============================] - 0s 371us/step - loss: 0.6927 - acc: 0.5237\n",
            "Epoch 37/50\n",
            "800/800 [==============================] - 0s 363us/step - loss: 0.6898 - acc: 0.5350\n",
            "Epoch 38/50\n",
            "800/800 [==============================] - 0s 364us/step - loss: 0.6908 - acc: 0.5162\n",
            "Epoch 39/50\n",
            "800/800 [==============================] - 0s 360us/step - loss: 0.6956 - acc: 0.4725\n",
            "Epoch 40/50\n",
            "800/800 [==============================] - 0s 360us/step - loss: 0.6921 - acc: 0.5075\n",
            "Epoch 41/50\n",
            "800/800 [==============================] - 0s 372us/step - loss: 0.6929 - acc: 0.5162\n",
            "Epoch 42/50\n",
            "800/800 [==============================] - 0s 368us/step - loss: 0.6907 - acc: 0.5200\n",
            "Epoch 43/50\n",
            "800/800 [==============================] - 0s 391us/step - loss: 0.6912 - acc: 0.5200\n",
            "Epoch 44/50\n",
            "800/800 [==============================] - 0s 361us/step - loss: 0.6899 - acc: 0.5400\n",
            "Epoch 45/50\n",
            "800/800 [==============================] - 0s 360us/step - loss: 0.6897 - acc: 0.5437\n",
            "Epoch 46/50\n",
            "800/800 [==============================] - 0s 361us/step - loss: 0.6880 - acc: 0.5250\n",
            "Epoch 47/50\n",
            "800/800 [==============================] - 0s 367us/step - loss: 0.6876 - acc: 0.5412\n",
            "Epoch 48/50\n",
            "800/800 [==============================] - 0s 354us/step - loss: 0.6917 - acc: 0.5138\n",
            "Epoch 49/50\n",
            "800/800 [==============================] - 0s 358us/step - loss: 0.6917 - acc: 0.5350\n",
            "Epoch 50/50\n",
            "800/800 [==============================] - 0s 367us/step - loss: 0.6886 - acc: 0.5487\n"
          ],
          "name": "stdout"
        }
      ]
    },
    {
      "cell_type": "code",
      "metadata": {
        "id": "BsHVAdzZTGQj",
        "colab_type": "code",
        "colab": {}
      },
      "source": [
        "#Form the labels from y_valid\n",
        "labels2 = np.zeros(len(y_validation1))\n",
        "for i in range(len(y_validation1)):\n",
        "  labels2[i] = int(y_validation1.values[i])"
      ],
      "execution_count": 0,
      "outputs": []
    },
    {
      "cell_type": "code",
      "metadata": {
        "id": "AOlUcns3TO0u",
        "colab_type": "code",
        "outputId": "c7659dff-a711-4cec-f41e-83acaa765d45",
        "colab": {
          "base_uri": "https://localhost:8080/",
          "height": 34
        }
      },
      "source": [
        "for i in range(len(preds_T_w2v)):\n",
        "  if preds_T_w2v[i] >= 0.5:\n",
        "    preds_T_w2v[i] = 1\n",
        "  else:\n",
        "    preds_T_w2v[i] = 0\n",
        "\n",
        "from sklearn.metrics import f1_score\n",
        "print(\"F1 score for the negative class: \",f1_score(labels2, preds_T_w2v, average=None)[0])"
      ],
      "execution_count": 0,
      "outputs": [
        {
          "output_type": "stream",
          "text": [
            "F1 score for the negative class:  0.47727272727272724\n"
          ],
          "name": "stdout"
        }
      ]
    },
    {
      "cell_type": "markdown",
      "metadata": {
        "id": "vQTr379Boyjp",
        "colab_type": "text"
      },
      "source": [
        "# **Ensemble**"
      ]
    },
    {
      "cell_type": "markdown",
      "metadata": {
        "id": "tyDAjpPn9TQq",
        "colab_type": "text"
      },
      "source": [
        "We formed an ensemble using our best models to prevent overfitting and increase accuracy.\n",
        "\n",
        "\n",
        "\n",
        "1.   Bigram Word2Vec: *preds_B_w2v*\n",
        "2.   SVM Using DTFIF Features: *predicted3*\n",
        "3.   Trigam Word2Vec: *preds_T_w2v*\n",
        "4.   Naive Bayes with Bag Words Features: *predicted*\n",
        "5.   Lexicographic Approach: *preds_lex*\n",
        "6.   Using Glove Features with Neural Net:*preds*\n",
        "7.   Using Keras's Embedding Layer:*preds_keras_1*\n",
        "\n",
        "\n",
        "\n",
        "\n",
        "\n",
        "\n",
        "\n",
        "\n"
      ]
    },
    {
      "cell_type": "code",
      "metadata": {
        "id": "jQue43Dto0JN",
        "colab_type": "code",
        "colab": {}
      },
      "source": [
        "import statistics as st\n",
        "final_result = []\n",
        "\n",
        "#svm, nb bow, lex, glove, keras\n",
        "for i in range (0,200):\n",
        "  row = [int(preds_B_w2v[i]), int(predicted3[i]),int(preds_T_w2v[i]),int(predicted[i]), int(preds_lex[i]), int(preds[i,0]), int(pred_keras_1[i,0])];\n",
        "  final_result.append(st.mode(row))"
      ],
      "execution_count": 0,
      "outputs": []
    },
    {
      "cell_type": "code",
      "metadata": {
        "id": "goGP0DhoCddu",
        "colab_type": "code",
        "colab": {}
      },
      "source": [
        "y_valid_2 = list(map(int, y_valid.values))"
      ],
      "execution_count": 0,
      "outputs": []
    },
    {
      "cell_type": "code",
      "metadata": {
        "id": "uqt-bSVBCEJU",
        "colab_type": "code",
        "outputId": "d504532a-b780-44cd-fe64-9848cffe95e7",
        "colab": {
          "base_uri": "https://localhost:8080/",
          "height": 34
        }
      },
      "source": [
        "print(\"F1 score for the negative class: \",f1_score(y_valid_2, final_result,average=None)[0])"
      ],
      "execution_count": 0,
      "outputs": [
        {
          "output_type": "stream",
          "text": [
            "F1 score for the negative class:  0.815165876777251\n"
          ],
          "name": "stdout"
        }
      ]
    },
    {
      "cell_type": "markdown",
      "metadata": {
        "id": "8PtaqnQ95evN",
        "colab_type": "text"
      },
      "source": [
        "# ** Final Test**"
      ]
    },
    {
      "cell_type": "markdown",
      "metadata": {
        "id": "NeYxcYQD5vs8",
        "colab_type": "text"
      },
      "source": [
        "We will retrain the models used in our ensemble again including the validation data too, before the final test. The test_data will be read and prepared.."
      ]
    },
    {
      "cell_type": "markdown",
      "metadata": {
        "id": "AAXnlHzq57el",
        "colab_type": "text"
      },
      "source": [
        "**1. Read and prepare the test data**"
      ]
    },
    {
      "cell_type": "code",
      "metadata": {
        "id": "V-rEiae2g4jh",
        "colab_type": "code",
        "colab": {}
      },
      "source": [
        "#Get the test file within Colab. Please upload the test file with the same name to the Files section on the left hand side.\n",
        "import pandas as pd\n",
        "TEST_DATA = pd.read_excel('yelp-test.xlsx',index_col=None, header=None,dtype={'0':str, '1':str})\n",
        "TEST_DATA = TEST_DATA.rename(columns={0: \"Sentence\", 1: \"Value\"})"
      ],
      "execution_count": 0,
      "outputs": []
    },
    {
      "cell_type": "code",
      "metadata": {
        "id": "20Ni_r7IhkLT",
        "colab_type": "code",
        "outputId": "ddeadff5-5e9d-412c-85a6-c3eb1d88f279",
        "colab": {
          "base_uri": "https://localhost:8080/",
          "height": 167
        }
      },
      "source": [
        "#Head of Test data\n",
        "TEST_DATA.head()"
      ],
      "execution_count": 0,
      "outputs": [
        {
          "output_type": "execute_result",
          "data": {
            "text/html": [
              "<div>\n",
              "<style scoped>\n",
              "    .dataframe tbody tr th:only-of-type {\n",
              "        vertical-align: middle;\n",
              "    }\n",
              "\n",
              "    .dataframe tbody tr th {\n",
              "        vertical-align: top;\n",
              "    }\n",
              "\n",
              "    .dataframe thead th {\n",
              "        text-align: right;\n",
              "    }\n",
              "</style>\n",
              "<table border=\"1\" class=\"dataframe\">\n",
              "  <thead>\n",
              "    <tr style=\"text-align: right;\">\n",
              "      <th></th>\n",
              "      <th>Sentence</th>\n",
              "      <th>Value</th>\n",
              "    </tr>\n",
              "  </thead>\n",
              "  <tbody>\n",
              "    <tr>\n",
              "      <th>0</th>\n",
              "      <td>YUM! I've been craving real asian noodles and ...</td>\n",
              "      <td>1</td>\n",
              "    </tr>\n",
              "    <tr>\n",
              "      <th>1</th>\n",
              "      <td>You may easily miss this hole in the wall but ...</td>\n",
              "      <td>1</td>\n",
              "    </tr>\n",
              "    <tr>\n",
              "      <th>2</th>\n",
              "      <td>You can't visit Boston without eating one, two...</td>\n",
              "      <td>1</td>\n",
              "    </tr>\n",
              "    <tr>\n",
              "      <th>3</th>\n",
              "      <td>With my purest sincerity, I cannot recommend t...</td>\n",
              "      <td>0</td>\n",
              "    </tr>\n",
              "  </tbody>\n",
              "</table>\n",
              "</div>"
            ],
            "text/plain": [
              "                                            Sentence  Value\n",
              "0  YUM! I've been craving real asian noodles and ...      1\n",
              "1  You may easily miss this hole in the wall but ...      1\n",
              "2  You can't visit Boston without eating one, two...      1\n",
              "3  With my purest sincerity, I cannot recommend t...      0"
            ]
          },
          "metadata": {
            "tags": []
          },
          "execution_count": 122
        }
      ]
    },
    {
      "cell_type": "code",
      "metadata": {
        "id": "RE-L4amoADuU",
        "colab_type": "code",
        "colab": {}
      },
      "source": [
        "#Also divide the test data\n",
        "TEST_DATA_X = TEST_DATA.drop(['Value'],axis=1)\n",
        "TEST_DATA_Y = TEST_DATA['Value']"
      ],
      "execution_count": 0,
      "outputs": []
    },
    {
      "cell_type": "code",
      "metadata": {
        "id": "R3TAthtekGfF",
        "colab_type": "code",
        "colab": {}
      },
      "source": [
        "#Apply Preprocessing to Test Data\n",
        "myDataPreprocessing(TEST_DATA_X)"
      ],
      "execution_count": 0,
      "outputs": []
    },
    {
      "cell_type": "markdown",
      "metadata": {
        "id": "WRXazYW__LUY",
        "colab_type": "text"
      },
      "source": [
        "**2. Extract Bag of Words Features**"
      ]
    },
    {
      "cell_type": "code",
      "metadata": {
        "id": "E7tXoRgvEctO",
        "colab_type": "code",
        "colab": {}
      },
      "source": [
        "bowtest = ComputeBOW(TEST_DATA_X)"
      ],
      "execution_count": 0,
      "outputs": []
    },
    {
      "cell_type": "markdown",
      "metadata": {
        "id": "Kt-NA_ym_OS9",
        "colab_type": "text"
      },
      "source": [
        "**3. Extract TFIDF Features**"
      ]
    },
    {
      "cell_type": "code",
      "metadata": {
        "id": "D1jkUNl7E4ty",
        "colab_type": "code",
        "colab": {}
      },
      "source": [
        "tfidftest = TFIDF(LogFrequencies(bowtest),IDF(bowtest))"
      ],
      "execution_count": 0,
      "outputs": []
    },
    {
      "cell_type": "markdown",
      "metadata": {
        "id": "AE2qYU3r_URU",
        "colab_type": "text"
      },
      "source": [
        "**4. Train the Moltinomial Naive Bayes with BOW**"
      ]
    },
    {
      "cell_type": "code",
      "metadata": {
        "id": "ilgPBSeSEi-8",
        "colab_type": "code",
        "colab": {}
      },
      "source": [
        "predicted_nb = clfnb.predict(bowtest)"
      ],
      "execution_count": 0,
      "outputs": []
    },
    {
      "cell_type": "code",
      "metadata": {
        "id": "I_eXjn0UJ4VW",
        "colab_type": "code",
        "colab": {}
      },
      "source": [
        "predicted_nb_int = []\n",
        "for i in range(len(predicted_nb)):\n",
        "  predicted_nb_int.append(int(predicted_nb[i]))"
      ],
      "execution_count": 0,
      "outputs": []
    },
    {
      "cell_type": "code",
      "metadata": {
        "id": "-NfDPFAjEvZ0",
        "colab_type": "code",
        "outputId": "15b72d15-4dd5-4787-9074-8775790aaf16",
        "colab": {
          "base_uri": "https://localhost:8080/",
          "height": 34
        }
      },
      "source": [
        "from sklearn.metrics import f1_score\n",
        "print(\"F1 score for the negative class: \", f1_score(TEST_DATA_Y.values, predicted_nb_int,average=None)[0])\n"
      ],
      "execution_count": 0,
      "outputs": [
        {
          "output_type": "stream",
          "text": [
            "F1 score for the negative class:  0.0\n"
          ],
          "name": "stdout"
        }
      ]
    },
    {
      "cell_type": "markdown",
      "metadata": {
        "id": "BQM-qxY5_YTD",
        "colab_type": "text"
      },
      "source": [
        "**5. Train SVM with TFIDF**"
      ]
    },
    {
      "cell_type": "code",
      "metadata": {
        "id": "WhQzq5VSEzis",
        "colab_type": "code",
        "outputId": "4a578c3c-0ee8-4536-8fbf-fdcff545003f",
        "colab": {
          "base_uri": "https://localhost:8080/",
          "height": 70
        }
      },
      "source": [
        "from sklearn.metrics import f1_score\n",
        "\n",
        "\n",
        "predicted_svc = clf3.predict(tfidftest)\n",
        "\n",
        "predicted_svc_int = []\n",
        "for i in range(len(predicted_svc)):\n",
        "  predicted_svc_int.append(int(predicted_svc[i]))\n",
        "\n",
        "print(\"F1 score for the negative class: \",f1_score(TEST_DATA_Y.values, predicted_svc_int,average=None)[0])\n",
        "print(\"Confusion Matrix: \",confusion_matrix(TEST_DATA_Y.values, predicted_svc_int))"
      ],
      "execution_count": 0,
      "outputs": [
        {
          "output_type": "stream",
          "text": [
            "F1 score for the negative class:  0.0\n",
            "Confusion Matrix:  [[0 1]\n",
            " [3 0]]\n"
          ],
          "name": "stdout"
        }
      ]
    },
    {
      "cell_type": "markdown",
      "metadata": {
        "id": "xGd7slXT_goQ",
        "colab_type": "text"
      },
      "source": [
        " **7. Train the Network using Keras's Embedding Layer**"
      ]
    },
    {
      "cell_type": "code",
      "metadata": {
        "id": "mrOwTvdNNsAP",
        "colab_type": "code",
        "colab": {}
      },
      "source": [
        "all_sentences = pd.concat([TEST_DATA_X['Sentence'],yelpProcessed['Sentence']], axis=0)"
      ],
      "execution_count": 0,
      "outputs": []
    },
    {
      "cell_type": "code",
      "metadata": {
        "colab_type": "code",
        "id": "_DfyZJbpNcfn",
        "colab": {}
      },
      "source": [
        "all_processed_sentences = []\n",
        "for row in all_sentences:\n",
        "  str = \"\"\n",
        "  for item in row:\n",
        "    str += item + \" \"\n",
        "  all_processed_sentences.append(str)"
      ],
      "execution_count": 0,
      "outputs": []
    },
    {
      "cell_type": "code",
      "metadata": {
        "colab_type": "code",
        "id": "7zYB_EDwNcfr",
        "colab": {}
      },
      "source": [
        "#Tokenize every sentence\n",
        "tokenizer_obj = Tokenizer()\n",
        "total_reviews = all_sentences\n",
        "tokenizer_obj.fit_on_texts(total_reviews)\n",
        "\n",
        "\n",
        "#Find the maximum length of a sentence = max_length\n",
        "#Vocab size = number of different words contained in the data\n",
        "max_length = max([len(s.split()) for s in all_processed_sentences])\n",
        "vocab_size = len(tokenizer_obj.word_index) +1\n",
        "\n",
        "#Tokenize and pad train and test data seperately.\n",
        "x_train_t = tokenizer_obj.texts_to_sequences(x_train['Sentence'])\n",
        "x_test_t = tokenizer_obj.texts_to_sequences(TEST_DATA_X['Sentence'])\n",
        "\n",
        "x_train_p = pad_sequences(x_train_t, maxlen = max_length, padding='post')\n",
        "x_test_p = pad_sequences(x_test_t, maxlen = max_length, padding='post')\n",
        "\n"
      ],
      "execution_count": 0,
      "outputs": []
    },
    {
      "cell_type": "code",
      "metadata": {
        "colab_type": "code",
        "id": "WNq8rEJ3Ncft",
        "outputId": "cb697866-178e-47ec-f3a3-ef38c86051dd",
        "colab": {
          "base_uri": "https://localhost:8080/",
          "height": 52
        }
      },
      "source": [
        "print(\"Max length of input sentence: \", max_length)\n",
        "print(\"Number of words in vocabulary: \",vocab_size)"
      ],
      "execution_count": 0,
      "outputs": [
        {
          "output_type": "stream",
          "text": [
            "Max length of input sentence:  20\n",
            "Number of words in vocabulary:  1826\n"
          ],
          "name": "stdout"
        }
      ]
    },
    {
      "cell_type": "code",
      "metadata": {
        "colab_type": "code",
        "id": "84daT0vGNcfz",
        "colab": {}
      },
      "source": [
        "from keras.models import Sequential\n",
        "from keras.layers import Dense, Embedding, LSTM, GRU\n",
        "from keras.layers.embeddings import Embedding\n",
        "\n",
        "model_keras_t = Sequential()\n",
        "model_keras_t.add(Embedding(vocab_size, 100, input_length = max_length))\n",
        "model_keras_t.add(GRU(units=32, dropout= 0.2, recurrent_dropout = 0.2))\n",
        "model_keras_t.add(Dense(1,activation= 'sigmoid'))\n",
        "\n"
      ],
      "execution_count": 0,
      "outputs": []
    },
    {
      "cell_type": "code",
      "metadata": {
        "colab_type": "code",
        "id": "BfY8oODxNcf1",
        "colab": {}
      },
      "source": [
        "model_keras_t.compile(loss='binary_crossentropy', optimizer='adam', metrics = ['accuracy'])\n"
      ],
      "execution_count": 0,
      "outputs": []
    },
    {
      "cell_type": "code",
      "metadata": {
        "colab_type": "code",
        "id": "hGRlC5SzNcf4",
        "outputId": "c73d0be8-ea41-4aea-f9f9-a932950fa108",
        "colab": {
          "base_uri": "https://localhost:8080/",
          "height": 923
        }
      },
      "source": [
        "model_keras_t.fit(x_train_p,y_train,epochs=25, batch_size=32)\n"
      ],
      "execution_count": 0,
      "outputs": [
        {
          "output_type": "stream",
          "text": [
            "Epoch 1/25\n",
            "800/800 [==============================] - 2s 3ms/step - loss: 0.6954 - acc: 0.4875\n",
            "Epoch 2/25\n",
            "800/800 [==============================] - 1s 769us/step - loss: 0.6930 - acc: 0.5012\n",
            "Epoch 3/25\n",
            "800/800 [==============================] - 1s 775us/step - loss: 0.6941 - acc: 0.5075\n",
            "Epoch 4/25\n",
            "800/800 [==============================] - 1s 776us/step - loss: 0.6934 - acc: 0.5100\n",
            "Epoch 5/25\n",
            "800/800 [==============================] - 1s 798us/step - loss: 0.6941 - acc: 0.5125\n",
            "Epoch 6/25\n",
            "800/800 [==============================] - 1s 775us/step - loss: 0.6923 - acc: 0.5025\n",
            "Epoch 7/25\n",
            "800/800 [==============================] - 1s 755us/step - loss: 0.6337 - acc: 0.6325\n",
            "Epoch 8/25\n",
            "800/800 [==============================] - 1s 779us/step - loss: 0.2930 - acc: 0.9012\n",
            "Epoch 9/25\n",
            "800/800 [==============================] - 1s 776us/step - loss: 0.1757 - acc: 0.9413\n",
            "Epoch 10/25\n",
            "800/800 [==============================] - 1s 783us/step - loss: 0.1073 - acc: 0.9763\n",
            "Epoch 11/25\n",
            "800/800 [==============================] - 1s 769us/step - loss: 0.0798 - acc: 0.9825\n",
            "Epoch 12/25\n",
            "800/800 [==============================] - 1s 754us/step - loss: 0.0589 - acc: 0.9875\n",
            "Epoch 13/25\n",
            "800/800 [==============================] - 1s 772us/step - loss: 0.0461 - acc: 0.9913\n",
            "Epoch 14/25\n",
            "800/800 [==============================] - 1s 760us/step - loss: 0.0255 - acc: 0.9962\n",
            "Epoch 15/25\n",
            "800/800 [==============================] - 1s 765us/step - loss: 0.0376 - acc: 0.9937\n",
            "Epoch 16/25\n",
            "800/800 [==============================] - 1s 778us/step - loss: 0.0308 - acc: 0.9950\n",
            "Epoch 17/25\n",
            "800/800 [==============================] - 1s 788us/step - loss: 0.0328 - acc: 0.9937\n",
            "Epoch 18/25\n",
            "800/800 [==============================] - 1s 767us/step - loss: 0.0177 - acc: 0.9975\n",
            "Epoch 19/25\n",
            "800/800 [==============================] - 1s 776us/step - loss: 0.0311 - acc: 0.9937\n",
            "Epoch 20/25\n",
            "800/800 [==============================] - 1s 780us/step - loss: 0.0311 - acc: 0.9950\n",
            "Epoch 21/25\n",
            "800/800 [==============================] - 1s 783us/step - loss: 0.0176 - acc: 0.9975\n",
            "Epoch 22/25\n",
            "800/800 [==============================] - 1s 774us/step - loss: 0.0246 - acc: 0.9962\n",
            "Epoch 23/25\n",
            "800/800 [==============================] - 1s 784us/step - loss: 0.0157 - acc: 0.9975\n",
            "Epoch 24/25\n",
            "800/800 [==============================] - 1s 781us/step - loss: 0.0171 - acc: 0.9975\n",
            "Epoch 25/25\n",
            "800/800 [==============================] - 1s 780us/step - loss: 0.0225 - acc: 0.9962\n"
          ],
          "name": "stdout"
        },
        {
          "output_type": "execute_result",
          "data": {
            "text/plain": [
              "<keras.callbacks.History at 0x7f7ad82c7898>"
            ]
          },
          "metadata": {
            "tags": []
          },
          "execution_count": 137
        }
      ]
    },
    {
      "cell_type": "code",
      "metadata": {
        "colab_type": "code",
        "id": "j7GScWv-Ncf7",
        "colab": {}
      },
      "source": [
        "pred_keras_t1 = model_keras_t.predict(x_test_p)\n",
        "\n",
        "for i in range(len(pred_keras_t1)):\n",
        "  if pred_keras_t1[i] >= 0.5:\n",
        "    pred_keras_t1[i] = 1\n",
        "  else:\n",
        "    pred_keras_t1[i] = 0\n",
        "\n",
        "  "
      ],
      "execution_count": 0,
      "outputs": []
    },
    {
      "cell_type": "code",
      "metadata": {
        "colab_type": "code",
        "id": "wY3MdWAKNcgC",
        "outputId": "0e7fe4c8-9246-4a94-a86d-1edf1ec407a2",
        "colab": {
          "base_uri": "https://localhost:8080/",
          "height": 34
        }
      },
      "source": [
        "from sklearn.metrics import f1_score\n",
        "print(\"F1 score for the negative class: \", f1_score(TEST_DATA_Y, pred_keras_t1,average=None)[0])\n"
      ],
      "execution_count": 0,
      "outputs": [
        {
          "output_type": "stream",
          "text": [
            "F1 score for the negative class:  0.0\n"
          ],
          "name": "stdout"
        }
      ]
    },
    {
      "cell_type": "markdown",
      "metadata": {
        "id": "pMpGh7HkRMlP",
        "colab_type": "text"
      },
      "source": [
        "**8.Glove**"
      ]
    },
    {
      "cell_type": "code",
      "metadata": {
        "colab_type": "code",
        "id": "-Qo2dqYIRFwZ",
        "colab": {}
      },
      "source": [
        "#If this does not work, please download glove.6B.zip and add the 100d file https://nlp.stanford.edu/projects/glove/\n",
        "#Get the neural word embeddings.\n",
        "embeddings_index = dict()\n",
        "f = open('glove.6B.100d.txt')\n",
        "for line in f:\n",
        "\tvalues = line.split()\n",
        "\tword = values[0]\n",
        "\tcoefs = py.asarray(values[1:], dtype='float32')\n",
        "\tembeddings_index[word] = coefs\n",
        "f.close()\n"
      ],
      "execution_count": 0,
      "outputs": []
    },
    {
      "cell_type": "code",
      "metadata": {
        "colab_type": "code",
        "id": "qSTJEM3zRFwp",
        "colab": {}
      },
      "source": [
        "#Form the embedding matrix\n",
        "embedding_matrix = py.zeros((107331, 100))\n",
        "for word, i in tokenizer_obj.word_index.items():\n",
        "\tembedding_vector = embeddings_index.get(word)\n",
        "\tif embedding_vector is not None:\n",
        "\t\tembedding_matrix[i] = embedding_vector"
      ],
      "execution_count": 0,
      "outputs": []
    },
    {
      "cell_type": "code",
      "metadata": {
        "colab_type": "code",
        "id": "rLAXumxfRFw7",
        "colab": {}
      },
      "source": [
        "def create_model():\n",
        "  model_glove2 = Sequential()\n",
        "  e = Embedding(107331, 100, weights=[embedding_matrix], input_length=max_length, trainable=False)\n",
        "  model_glove2.add(e)\n",
        "  model_glove2.add(GRU(units=32, dropout= 0.2, recurrent_dropout = 0.2))\n",
        "  model_glove2.add(Dense(1, activation='sigmoid'))\n",
        "  model_glove2.compile(optimizer='adam', loss='binary_crossentropy', metrics=['acc'])\n",
        "  return model_glove2"
      ],
      "execution_count": 0,
      "outputs": []
    },
    {
      "cell_type": "code",
      "metadata": {
        "colab_type": "code",
        "id": "vBh4rxkQRFw_",
        "outputId": "13e0ed57-b90a-4cfe-8154-776dae0082b9",
        "colab": {
          "base_uri": "https://localhost:8080/",
          "height": 2061
        }
      },
      "source": [
        "from keras.layers import Dense\n",
        "from keras.layers import Flatten\n",
        "\n",
        "#form the model\n",
        "model_glove = Sequential()\n",
        "e = Embedding(107331, 100, weights=[embedding_matrix], input_length=max_length, trainable=False)\n",
        "model_glove.add(e)\n",
        "model_glove.add(GRU(units=32, dropout= 0.2, recurrent_dropout = 0.2))\n",
        "model_glove.add(Dense(1, activation='sigmoid'))\n",
        "# compile the model\n",
        "model_glove.compile(optimizer='adam', loss='binary_crossentropy', metrics=['acc'])\n",
        "# summarize the model\n",
        "print(model_glove.summary())\n",
        "# fit the model\n",
        "model_glove.fit(x_train_p,y_train,epochs=50, batch_size=20)"
      ],
      "execution_count": 0,
      "outputs": [
        {
          "output_type": "stream",
          "text": [
            "_________________________________________________________________\n",
            "Layer (type)                 Output Shape              Param #   \n",
            "=================================================================\n",
            "embedding_8 (Embedding)      (None, 20, 100)           10733100  \n",
            "_________________________________________________________________\n",
            "gru_8 (GRU)                  (None, 32)                12768     \n",
            "_________________________________________________________________\n",
            "dense_8 (Dense)              (None, 1)                 33        \n",
            "=================================================================\n",
            "Total params: 10,745,901\n",
            "Trainable params: 12,801\n",
            "Non-trainable params: 10,733,100\n",
            "_________________________________________________________________\n",
            "None\n",
            "Epoch 1/50\n",
            "800/800 [==============================] - 2s 3ms/step - loss: 0.6939 - acc: 0.5025\n",
            "Epoch 2/50\n",
            "800/800 [==============================] - 1s 691us/step - loss: 0.6933 - acc: 0.5138\n",
            "Epoch 3/50\n",
            "800/800 [==============================] - 1s 714us/step - loss: 0.6913 - acc: 0.5538\n",
            "Epoch 4/50\n",
            "800/800 [==============================] - 1s 710us/step - loss: 0.6446 - acc: 0.6338\n",
            "Epoch 5/50\n",
            "800/800 [==============================] - 1s 703us/step - loss: 0.5829 - acc: 0.7287\n",
            "Epoch 6/50\n",
            "800/800 [==============================] - 1s 703us/step - loss: 0.5158 - acc: 0.7575\n",
            "Epoch 7/50\n",
            "800/800 [==============================] - 1s 719us/step - loss: 0.4881 - acc: 0.7850\n",
            "Epoch 8/50\n",
            "800/800 [==============================] - 1s 716us/step - loss: 0.4603 - acc: 0.8138\n",
            "Epoch 9/50\n",
            "800/800 [==============================] - 1s 710us/step - loss: 0.4216 - acc: 0.8213\n",
            "Epoch 10/50\n",
            "800/800 [==============================] - 1s 713us/step - loss: 0.4067 - acc: 0.8400\n",
            "Epoch 11/50\n",
            "800/800 [==============================] - 1s 729us/step - loss: 0.4226 - acc: 0.8287\n",
            "Epoch 12/50\n",
            "800/800 [==============================] - 1s 714us/step - loss: 0.3777 - acc: 0.8513\n",
            "Epoch 13/50\n",
            "800/800 [==============================] - 1s 710us/step - loss: 0.3875 - acc: 0.8537\n",
            "Epoch 14/50\n",
            "800/800 [==============================] - 1s 706us/step - loss: 0.3484 - acc: 0.8663\n",
            "Epoch 15/50\n",
            "800/800 [==============================] - 1s 721us/step - loss: 0.3507 - acc: 0.8638\n",
            "Epoch 16/50\n",
            "800/800 [==============================] - 1s 715us/step - loss: 0.3367 - acc: 0.8650\n",
            "Epoch 17/50\n",
            "800/800 [==============================] - 1s 739us/step - loss: 0.3513 - acc: 0.8662\n",
            "Epoch 18/50\n",
            "800/800 [==============================] - 1s 716us/step - loss: 0.3041 - acc: 0.8950\n",
            "Epoch 19/50\n",
            "800/800 [==============================] - 1s 723us/step - loss: 0.2980 - acc: 0.8887\n",
            "Epoch 20/50\n",
            "800/800 [==============================] - 1s 721us/step - loss: 0.3237 - acc: 0.8775\n",
            "Epoch 21/50\n",
            "800/800 [==============================] - 1s 719us/step - loss: 0.2940 - acc: 0.8900\n",
            "Epoch 22/50\n",
            "800/800 [==============================] - 1s 717us/step - loss: 0.2744 - acc: 0.8937\n",
            "Epoch 23/50\n",
            "800/800 [==============================] - 1s 694us/step - loss: 0.2544 - acc: 0.9025\n",
            "Epoch 24/50\n",
            "800/800 [==============================] - 1s 705us/step - loss: 0.2781 - acc: 0.9075\n",
            "Epoch 25/50\n",
            "800/800 [==============================] - 1s 707us/step - loss: 0.2565 - acc: 0.9100\n",
            "Epoch 26/50\n",
            "800/800 [==============================] - 1s 712us/step - loss: 0.2321 - acc: 0.9225\n",
            "Epoch 27/50\n",
            "800/800 [==============================] - 1s 717us/step - loss: 0.2518 - acc: 0.9162\n",
            "Epoch 28/50\n",
            "800/800 [==============================] - 1s 740us/step - loss: 0.2411 - acc: 0.9125\n",
            "Epoch 29/50\n",
            "800/800 [==============================] - 1s 703us/step - loss: 0.2552 - acc: 0.9025\n",
            "Epoch 30/50\n",
            "800/800 [==============================] - 1s 709us/step - loss: 0.2514 - acc: 0.9112\n",
            "Epoch 31/50\n",
            "800/800 [==============================] - 1s 705us/step - loss: 0.2357 - acc: 0.9250\n",
            "Epoch 32/50\n",
            "800/800 [==============================] - 1s 732us/step - loss: 0.2387 - acc: 0.9112\n",
            "Epoch 33/50\n",
            "800/800 [==============================] - 1s 717us/step - loss: 0.2256 - acc: 0.9125\n",
            "Epoch 34/50\n",
            "800/800 [==============================] - 1s 719us/step - loss: 0.1878 - acc: 0.9412\n",
            "Epoch 35/50\n",
            "800/800 [==============================] - 1s 718us/step - loss: 0.2049 - acc: 0.9325\n",
            "Epoch 36/50\n",
            "800/800 [==============================] - 1s 688us/step - loss: 0.2019 - acc: 0.9375\n",
            "Epoch 37/50\n",
            "800/800 [==============================] - 1s 715us/step - loss: 0.1870 - acc: 0.9287\n",
            "Epoch 38/50\n",
            "800/800 [==============================] - 1s 735us/step - loss: 0.1841 - acc: 0.9325\n",
            "Epoch 39/50\n",
            "800/800 [==============================] - 1s 713us/step - loss: 0.1905 - acc: 0.9387\n",
            "Epoch 40/50\n",
            "800/800 [==============================] - 1s 722us/step - loss: 0.2123 - acc: 0.9362\n",
            "Epoch 41/50\n",
            "800/800 [==============================] - 1s 723us/step - loss: 0.1706 - acc: 0.9425\n",
            "Epoch 42/50\n",
            "800/800 [==============================] - 1s 709us/step - loss: 0.1681 - acc: 0.9450\n",
            "Epoch 43/50\n",
            "800/800 [==============================] - 1s 709us/step - loss: 0.1595 - acc: 0.9387\n",
            "Epoch 44/50\n",
            "800/800 [==============================] - 1s 710us/step - loss: 0.1703 - acc: 0.9525\n",
            "Epoch 45/50\n",
            "800/800 [==============================] - 1s 708us/step - loss: 0.1510 - acc: 0.9487\n",
            "Epoch 46/50\n",
            "800/800 [==============================] - 1s 713us/step - loss: 0.1827 - acc: 0.9375\n",
            "Epoch 47/50\n",
            "800/800 [==============================] - 1s 702us/step - loss: 0.1658 - acc: 0.9587\n",
            "Epoch 48/50\n",
            "800/800 [==============================] - 1s 721us/step - loss: 0.1574 - acc: 0.9450\n",
            "Epoch 49/50\n",
            "800/800 [==============================] - 1s 711us/step - loss: 0.1569 - acc: 0.9550\n",
            "Epoch 50/50\n",
            "800/800 [==============================] - 1s 721us/step - loss: 0.1282 - acc: 0.9550\n"
          ],
          "name": "stdout"
        },
        {
          "output_type": "execute_result",
          "data": {
            "text/plain": [
              "<keras.callbacks.History at 0x7f7ad43b4438>"
            ]
          },
          "metadata": {
            "tags": []
          },
          "execution_count": 143
        }
      ]
    },
    {
      "cell_type": "code",
      "metadata": {
        "colab_type": "code",
        "id": "16Ccsx_NRFxG",
        "colab": {}
      },
      "source": [
        "#Predict\n",
        "preds_glv = model_glove.predict(x_test_p)\n",
        "\n",
        "for i in range(len(preds_glv)):\n",
        "  if preds_glv[i] >= 0.5:\n",
        "    preds_glv[i] = 1\n",
        "  else:\n",
        "    preds_glv[i] = 0\n",
        "\n",
        "  "
      ],
      "execution_count": 0,
      "outputs": []
    },
    {
      "cell_type": "code",
      "metadata": {
        "colab_type": "code",
        "id": "yfMX58W3RFxL",
        "outputId": "6d4abf7a-10e1-41e8-fcb3-3f69dd248e8f",
        "colab": {
          "base_uri": "https://localhost:8080/",
          "height": 90
        }
      },
      "source": [
        "#Analyse\n",
        "from sklearn.metrics import f1_score\n",
        "print(\"F1 score for the negative class: \", f1_score(TEST_DATA_Y, preds_glv,average=None)[0])\n"
      ],
      "execution_count": 0,
      "outputs": [
        {
          "output_type": "stream",
          "text": [
            "F1 score for the negative class:  0.4\n"
          ],
          "name": "stdout"
        },
        {
          "output_type": "stream",
          "text": [
            "/usr/local/lib/python3.6/dist-packages/sklearn/metrics/classification.py:1143: UndefinedMetricWarning: F-score is ill-defined and being set to 0.0 in labels with no predicted samples.\n",
            "  'precision', 'predicted', average, warn_for)\n"
          ],
          "name": "stderr"
        }
      ]
    },
    {
      "cell_type": "markdown",
      "metadata": {
        "id": "GHiIVjaHDk2f",
        "colab_type": "text"
      },
      "source": [
        "**9. Predict with Lexicon Based Approach**"
      ]
    },
    {
      "cell_type": "code",
      "metadata": {
        "id": "CH3D5M1GDpOj",
        "colab_type": "code",
        "colab": {}
      },
      "source": [
        "preds_lex = []\n",
        "for row in TEST_DATA['Sentence']:\n",
        "    preds = swn_polarity(row)\n",
        "    preds_lex.append(preds)"
      ],
      "execution_count": 0,
      "outputs": []
    },
    {
      "cell_type": "markdown",
      "metadata": {
        "id": "t7pWly9N_sEM",
        "colab_type": "text"
      },
      "source": [
        "**12. Form the Ensemle adding abovementioned models**"
      ]
    },
    {
      "cell_type": "code",
      "metadata": {
        "colab_type": "code",
        "id": "PFSagsaDSDrh",
        "colab": {}
      },
      "source": [
        "import statistics as st\n",
        "final_result = []\n",
        "\n",
        "#svm, nb bow, lex, glove, keras, bigram with word2vec, trigram with word2vec\n",
        "for i in range (0,len(TEST_DATA_Y)):\n",
        "  row = [int(predicted_nb_int[i]), int(predicted_svc_int[i]), int(preds_lex[i]), int(preds_glv[i,0]), int(pred_keras_t1[i,0])];\n",
        "  print(row)\n",
        "  final_result.append(st.mode(row))"
      ],
      "execution_count": 0,
      "outputs": []
    },
    {
      "cell_type": "code",
      "metadata": {
        "colab_type": "code",
        "id": "p2W5IMsHSDro",
        "outputId": "3ff01ea6-5b38-4b4d-8d91-c7aa9bc7c15a",
        "colab": {
          "base_uri": "https://localhost:8080/",
          "height": 34
        }
      },
      "source": [
        "print(\"F1 score for the negative class: \" ,f1_score(TEST_DATA_Y, final_result,average=None)[0])"
      ],
      "execution_count": 0,
      "outputs": [
        {
          "output_type": "stream",
          "text": [
            "F1 score for the negative class:  0.0\n"
          ],
          "name": "stdout"
        }
      ]
    },
    {
      "cell_type": "markdown",
      "metadata": {
        "id": "GWQrIiN8o0cQ",
        "colab_type": "text"
      },
      "source": [
        "# **Conclusion**"
      ]
    },
    {
      "cell_type": "markdown",
      "metadata": {
        "id": "2G4LKUTto2N3",
        "colab_type": "text"
      },
      "source": [
        "Sentiment analysis is a process of automatically identifying whether a user-generated text expresses positive, negative or neutral opinion about an entity (i.e. product, people, topic, event etc).Sentiment classification can be done at Document level, Sentence level and Aspect or Feature level. In Document level the whole document is used as a basic information unit to classify it either into positive or negative class. Sentence level sentiment classification classifies each sentence first as subjective or objective and then classifies into positive, negative or neutral class. There is no much difference between the above two methods as sentence is just a short document. Aspect or Feature level sentiment classification deals with identifying and extracting product features from the source data.\n",
        "\n",
        "After doing a lexicon based approach, we have done feature extraction and used several ML algorithms. The maximum F1 score that we have got in our train data was 0.82 with Naive Bayes using Bag of words. Also our ensemble gave 0.82 score. SVM gave us a good F1 score for negative class, as well. The test scores are significantly lower than the train scores, since the test set is sort of trivial. \n",
        "\n",
        "The lower scores that we have obtained were due to the size and the shape of our datasets. Further improvements can be observed via rule-based approaches.  \n"
      ]
    },
    {
      "cell_type": "markdown",
      "metadata": {
        "id": "Zw5UD-LlWS8t",
        "colab_type": "text"
      },
      "source": [
        "### **Resources**\n",
        "\n",
        "https://machinelearningmastery.com/develop-word-embedding-model-predicting-movie-review-sentiment/\n",
        "\n",
        "https://towardsdatascience.com/machine-learning-word-embedding-sentiment-classification-using-keras-b83c28087456\n",
        "\n",
        "https://nlp.stanford.edu/projects/glove/\n",
        "\n",
        "https://towardsdatascience.com/machine-learning-nlp-text-classification-using-scikit-learn-python-and-nltk-c52b92a7c73a\n",
        "\n",
        "https://radimrehurek.com/gensim/models/word2vec.html\n",
        "\n",
        "https://nlpforhackers.io/sentiment-analysis-intro/\n",
        "\n",
        "https://ieeexplore.ieee.org/document/7912076"
      ]
    }
  ]
}